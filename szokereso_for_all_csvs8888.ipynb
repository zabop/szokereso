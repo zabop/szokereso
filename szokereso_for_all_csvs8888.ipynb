{
 "cells": [
  {
   "cell_type": "code",
   "execution_count": 1,
   "metadata": {},
   "outputs": [],
   "source": [
    "import glob\n",
    "import stanza\n",
    "import pandas as pd\n",
    "import time\n",
    "import sys"
   ]
  },
  {
   "cell_type": "code",
   "execution_count": 2,
   "metadata": {},
   "outputs": [
    {
     "name": "stderr",
     "output_type": "stream",
     "text": [
      "Downloading https://raw.githubusercontent.com/stanfordnlp/stanza-resources/master/resources_1.0.0.json: 115kB [00:00, 9.75MB/s]                    \n",
      "2020-07-07 10:34:34 INFO: Downloading default packages for language: hu (Hungarian)...\n",
      "2020-07-07 10:34:35 INFO: File exists: /mnt/volume/jupyter/stanza_resources/hu/default.zip.\n",
      "2020-07-07 10:34:38 INFO: Finished downloading models and saved to /mnt/volume/jupyter/stanza_resources.\n",
      "2020-07-07 10:34:38 INFO: Loading these models for language: hu (Hungarian):\n",
      "=======================\n",
      "| Processor | Package |\n",
      "-----------------------\n",
      "| tokenize  | szeged  |\n",
      "| pos       | szeged  |\n",
      "| lemma     | szeged  |\n",
      "| depparse  | szeged  |\n",
      "=======================\n",
      "\n",
      "2020-07-07 10:34:38 INFO: Use device: cpu\n",
      "2020-07-07 10:34:38 INFO: Loading: tokenize\n",
      "2020-07-07 10:34:39 INFO: Loading: pos\n",
      "2020-07-07 10:34:40 INFO: Loading: lemma\n",
      "2020-07-07 10:34:40 INFO: Loading: depparse\n",
      "2020-07-07 10:34:41 INFO: Done loading processors!\n"
     ]
    }
   ],
   "source": [
    "stanza.download('hu')\n",
    "nlp = stanza.Pipeline('hu')"
   ]
  },
  {
   "cell_type": "code",
   "execution_count": 3,
   "metadata": {},
   "outputs": [],
   "source": [
    "def get_all_csvs(wildcard):\n",
    "    csvlist = glob.glob(wildcard)[:int(len(glob.glob(wildcard))/2)]\n",
    "    # can do ordering of csvlist here\n",
    "    return csvlist"
   ]
  },
  {
   "cell_type": "code",
   "execution_count": 4,
   "metadata": {},
   "outputs": [],
   "source": [
    "def onlywithneighbours(ofthislist):\n",
    "    try:\n",
    "        filtered = [each for each in ofthislist \n",
    "                    if each+1 in ofthislist or each-1 in ofthislist]\n",
    "    except TypeError:\n",
    "        filtered = [each for each in ofthislist \n",
    "                    if str(int(each)+1) in ofthislist or str(int(each)-1) in ofthislist]\n",
    "    return filtered"
   ]
  },
  {
   "cell_type": "code",
   "execution_count": 5,
   "metadata": {},
   "outputs": [],
   "source": [
    "def split_into_numerical_sequences(inlist):\n",
    "\n",
    "    inlist=sorted(inlist)\n",
    "\n",
    "    breakindeces=[i for i,j in enumerate(inlist)\n",
    "                    if (j+1 not in inlist and j in inlist)]\n",
    "\n",
    "    sublists=[]\n",
    "    for index, each in enumerate(breakindeces):\n",
    "        if index==0:\n",
    "            sublists.append([x for x in inlist\n",
    "                               if x<=inlist[each]])\n",
    "        if index!=0:\n",
    "            sublists.append([x for x in inlist\n",
    "                               if x<=inlist[each] and x>inlist[breakindeces[index-1]]])\n",
    "\n",
    "    return sublists"
   ]
  },
  {
   "cell_type": "code",
   "execution_count": 6,
   "metadata": {},
   "outputs": [],
   "source": [
    "def stanzanamesearch(text):\n",
    "\n",
    "    doc = nlp(text)\n",
    "\n",
    "    propns_and_their_positions_dictlist = [{\n",
    "    #word.id:word.lemma\n",
    "    word.id:word.text\n",
    "    for word in sentence.words if word.upos == 'PROPN'}\n",
    "    for sentence in doc.sentences]\n",
    "\n",
    "    propns_with_at_least_one_propn_neighbour = [[\n",
    "    eachdict[eachkey]\n",
    "    for eachkey in sorted(onlywithneighbours(list(eachdict.keys())))]\n",
    "    for eachdict in propns_and_their_positions_dictlist]\n",
    "\n",
    "    propn_ids_with_at_least_one_propn_neighbour = [[\n",
    "    int(eachkey)\n",
    "    for eachkey in sorted(onlywithneighbours(list(eachdict.keys())))]\n",
    "    for eachdict in propns_and_their_positions_dictlist]\n",
    "\n",
    "    propn_id_sequences_with_at_least_one_propn_neighbour=[\n",
    "    split_into_numerical_sequences(eachsublist)\n",
    "    for eachsublist in propn_ids_with_at_least_one_propn_neighbour]\n",
    "\n",
    "    res=[]\n",
    "    for sentenceindex, eachsentence in enumerate(propn_id_sequences_with_at_least_one_propn_neighbour):\n",
    "        for sequenceindex, eachsequence in enumerate(eachsentence):\n",
    "            name=[]\n",
    "            for wordindex, eachword in enumerate(eachsequence):\n",
    "                name.append(propns_and_their_positions_dictlist[sentenceindex][str(eachword)])\n",
    "            name=' '.join(name)\n",
    "            res.append(name)\n",
    "\n",
    "    return list(set(res))"
   ]
  },
  {
   "cell_type": "code",
   "execution_count": 7,
   "metadata": {},
   "outputs": [],
   "source": [
    "def validalias(alias):\n",
    "    if len(alias.strip()) > 5 and len(alias.strip().split(' ')) > 1: return True\n",
    "    else: return False"
   ]
  },
  {
   "cell_type": "code",
   "execution_count": 8,
   "metadata": {},
   "outputs": [],
   "source": [
    "def searchlist_maker(csv,excelfile=False,headerwechoose='name_list',**kwargs):\n",
    "    \n",
    "    if excelfile: persondatadict = pd.read_excel('List of Settlements_m2.xlsx')\n",
    "    else: persondatadict = pd.read_csv(csv)\n",
    "    \n",
    "    if 'alias_separator' in kwargs:\n",
    "        persondata_searchlist = [[eachalias.strip()\n",
    "                                for eachalias in eachperson.split(kwargs['alias_separator'])]\n",
    "                                for eachperson in persondatadict[headerwechoose]\n",
    "                                if type(eachperson) != float]\n",
    "    else:\n",
    "        persondata_searchlist = [[each]\n",
    "                                for each in persondatadict[headerwechoose]]\n",
    "    return persondata_searchlist"
   ]
  },
  {
   "cell_type": "code",
   "execution_count": 9,
   "metadata": {},
   "outputs": [],
   "source": [
    "def matchfinder(text,searchforthese):\n",
    "    matches=[alias\n",
    "             for persondata_searchtarget in searchforthese\n",
    "             for alias in persondata_searchtarget\n",
    "             if validalias(alias) and alias.lower() in str(text).lower()]\n",
    "    return matches"
   ]
  },
  {
   "cell_type": "code",
   "execution_count": 10,
   "metadata": {},
   "outputs": [],
   "source": [
    "def fillextracols(whichdictionary, whichrowtofill, withthislist, unlessitslongerthanthis):\n",
    "    if not len(withthislist) > unlessitslongerthanthis and len(withthislist)>0:\n",
    "        for i, e in enumerate(withthislist):\n",
    "            targetdf.loc[whichrowtofill,whichdictionary+str(i)]=e"
   ]
  },
  {
   "cell_type": "code",
   "execution_count": 11,
   "metadata": {},
   "outputs": [],
   "source": [
    "def prepare_extra_columns(num_of_columns_for_each_dict):\n",
    "    for each in num_of_columns_for_each_dict:\n",
    "        for index in range(num_of_columns_for_each_dict[each]):\n",
    "            targetdf[each + str(index)]=''"
   ]
  },
  {
   "cell_type": "code",
   "execution_count": 12,
   "metadata": {},
   "outputs": [],
   "source": [
    "class dictionary_class:\n",
    "    def __init__(self, name, maxcolnum, searchlist=None, geo=False):\n",
    "        self.name = name\n",
    "        self.maxcolnum = maxcolnum\n",
    "        self.searchlist = searchlist\n",
    "        self.geo = geo"
   ]
  },
  {
   "cell_type": "code",
   "execution_count": 13,
   "metadata": {},
   "outputs": [],
   "source": [
    "dictionaries=[\n",
    "dictionary_class('person_data',\n",
    "           10,\n",
    "           searchlist_maker('/mnt/volume/jupyter/szokereso/person_data-1592394309231_utf8.csv',alias_separator='|')),\n",
    "dictionary_class('wikilist',\n",
    "           5,\n",
    "           searchlist_maker('/mnt/volume/jupyter/szokereso/A_negyedik_Orbán-kormany_allamtitkarainak_listaja.csv')),\n",
    "dictionary_class('stanza',\n",
    "           10),\n",
    "dictionary_class('settlement_list',\n",
    "          5,\n",
    "          searchlist_maker('/mnt/volume/jupyter/szokereso/List of Settlements_m2.xlsx', excelfile=True,headerwechoose='settlement_name'),\n",
    "          geo=True)\n",
    "            ]"
   ]
  },
  {
   "cell_type": "code",
   "execution_count": 14,
   "metadata": {},
   "outputs": [],
   "source": [
    "debugmode = False\n",
    "wildcard = '/mnt/volume/anagy/mediascraper/mediaScraper/output/data*csv'"
   ]
  },
  {
   "cell_type": "code",
   "execution_count": null,
   "metadata": {},
   "outputs": [
    {
     "name": "stdout",
     "output_type": "stream",
     "text": [
      "0\n",
      "500\n",
      "1000\n",
      "1500\n",
      "2000\n",
      "2500\n",
      "3000\n",
      "3500\n",
      "0\n",
      "500\n",
      "1000\n",
      "1500\n",
      "2000\n",
      "2500\n",
      "3000\n",
      "3500\n",
      "0\n",
      "500\n",
      "1000\n",
      "1500\n",
      "2000\n",
      "2500\n",
      "3000\n",
      "3500\n",
      "0\n",
      "500\n",
      "1000\n",
      "1500\n",
      "2000\n",
      "2500\n",
      "3000\n",
      "3500\n",
      "--- 31847.138280391693 seconds ---\n",
      "/mnt/volume/anagy/mediascraper/mediaScraper/output/data_2020-06-28_08:01:41.csv\n",
      "0\n",
      "500\n",
      "1000\n",
      "1500\n",
      "2000\n",
      "2500\n",
      "3000\n",
      "3500\n",
      "0\n",
      "500\n",
      "1000\n",
      "1500\n",
      "2000\n",
      "2500\n",
      "3000\n",
      "3500\n",
      "0\n",
      "500\n",
      "1000\n",
      "1500\n",
      "2000\n",
      "2500\n",
      "3000\n",
      "3500\n",
      "0\n",
      "500\n",
      "1000\n",
      "1500\n",
      "2000\n",
      "2500\n",
      "3000\n",
      "3500\n",
      "--- 30739.14456677437 seconds ---\n",
      "/mnt/volume/anagy/mediascraper/mediaScraper/output/data_2020-07-01_00:00:24.csv\n",
      "0\n",
      "500\n",
      "1000\n",
      "1500\n",
      "2000\n",
      "2500\n",
      "3000\n",
      "3500\n",
      "0\n",
      "500\n",
      "1000\n",
      "1500\n",
      "2000\n",
      "2500\n",
      "3000\n",
      "3500\n",
      "0\n",
      "500\n",
      "1000\n",
      "0\n"
     ]
    }
   ],
   "source": [
    "allcsvs=get_all_csvs(wildcard)\n",
    "for eachcsv in allcsvs:\n",
    "    try:\n",
    "        targetdf = pd.read_csv(eachcsv)\n",
    "        prepare_extra_columns({dictionary.name: dictionary.maxcolnum for dictionary in dictionaries})\n",
    "\n",
    "        cells = list(targetdf['TEXT'])\n",
    "\n",
    "        start_time = time.time()\n",
    "        for idictionary, dictionary in enumerate(dictionaries):\n",
    "            if idictionary==2 or not debugmode:\n",
    "                for icell, cell in enumerate(cells):\n",
    "                    if type(cell) is not float:\n",
    "                        if icell > -1 or not debugmode:\n",
    "                            if icell%500==0: print(icell)\n",
    "                            if dictionary.searchlist is not None:\n",
    "                                fillextracols(dictionary.name,icell,matchfinder(cell,dictionary.searchlist),dictionary.maxcolnum)\n",
    "                            if dictionary.searchlist is None:\n",
    "                                fillextracols(dictionary.name,icell,stanzanamesearch(cell),dictionary.maxcolnum)\n",
    "        end_time = time.time()\n",
    "        print(\"--- %s seconds ---\" % (time.time() - start_time))\n",
    "        targetdf.to_csv('/mnt/volume/jupyter/szokereso/resultfiles/'+eachcsv.split('/')[-1].split('.')[0]+'_szokereso_result.csv')\n",
    "        print(eachcsv)\n",
    "    except:\n",
    "        the_type, the_value, the_traceback = sys.exc_info()\n",
    "        outlist = [the_type, the_value, eachcsv, dictionary.name, icell]\n",
    "        with open('/mnt/volume/jupyter/szokereso/resultfiles/'+eachcsv.split('/')[-1].split('.')[0]+'_ERRORLOG.txt', 'w') as f:\n",
    "            for item in outlist:\n",
    "                f.write(\"%s\\n\" % item)"
   ]
  },
  {
   "cell_type": "code",
   "execution_count": null,
   "metadata": {},
   "outputs": [],
   "source": []
  },
  {
   "cell_type": "code",
   "execution_count": null,
   "metadata": {},
   "outputs": [],
   "source": []
  },
  {
   "cell_type": "code",
   "execution_count": null,
   "metadata": {},
   "outputs": [],
   "source": []
  }
 ],
 "metadata": {
  "kernelspec": {
   "display_name": "Python 3",
   "language": "python",
   "name": "python3"
  },
  "language_info": {
   "codemirror_mode": {
    "name": "ipython",
    "version": 3
   },
   "file_extension": ".py",
   "mimetype": "text/x-python",
   "name": "python",
   "nbconvert_exporter": "python",
   "pygments_lexer": "ipython3",
   "version": "3.6.9"
  }
 },
 "nbformat": 4,
 "nbformat_minor": 4
}
