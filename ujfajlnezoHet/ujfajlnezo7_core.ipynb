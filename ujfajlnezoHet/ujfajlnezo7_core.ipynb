{
 "cells": [
  {
   "cell_type": "code",
   "execution_count": 3,
   "metadata": {},
   "outputs": [],
   "source": [
    "import glob\n",
    "import datetime\n",
    "import pandas as pd\n",
    "import time\n",
    "import pathlib\n",
    "import re"
   ]
  },
  {
   "cell_type": "code",
   "execution_count": 4,
   "metadata": {},
   "outputs": [],
   "source": [
    "import sys\n",
    "# insert at 1, 0 is the script path (or '' in REPL)\n",
    "sys.path.insert(1, '/mnt/volume/jupyter/szokereso/negyedikfeladatUjraHet')\n",
    "import szokereso_functions as sf"
   ]
  },
  {
   "cell_type": "code",
   "execution_count": 5,
   "metadata": {},
   "outputs": [],
   "source": [
    "def searchlist_maker(csv,excelfile=False,multisheet=False,columnsfiltered=False, headerwechoose='name_list',**kwargs):\n",
    "    \n",
    "    if not multisheet:\n",
    "        if excelfile: persondatadict = pd.read_excel(csv)\n",
    "\n",
    "        else:\n",
    "            persondatadict = pd.read_csv(csv)\n",
    "\n",
    "        if 'alias_separator' in kwargs:\n",
    "            persondata_searchlist = [[eachalias.strip()\n",
    "                                    for eachalias in eachperson.split(kwargs['alias_separator'])]\n",
    "                                    for eachperson in persondatadict[headerwechoose]\n",
    "                                    if type(eachperson) != float]\n",
    "        else:\n",
    "            persondata_searchlist = [[each]\n",
    "                                    for each in persondatadict[headerwechoose]]\n",
    "\n",
    "    if multisheet:\n",
    "        \n",
    "        if not columnsfiltered:\n",
    "\n",
    "            xls=pd.ExcelFile(csv)\n",
    "            dfs=[pd.read_excel(xls,sheet) for i, sheet in enumerate(xls.sheet_names)]\n",
    "            persondata_searchlist=[[name] for df in dfs for name in df['name_list'] if type(name) is not float]\n",
    "\n",
    "        if columnsfiltered:\n",
    "            \n",
    "            unifieddf=pd.concat([pd.read_excel(csv, sheetname)[column]\n",
    "                        for sheetname in pd.ExcelFile(csv).sheet_names\n",
    "                        for column in pd.read_excel(csv, sheetname)\n",
    "                        if 'LOOKFOR' in column]).dropna().drop_duplicates()\n",
    "            \n",
    "            persondata_searchlist = [[each] for each in unifieddf]\n",
    "            \n",
    "    return persondata_searchlist"
   ]
  },
  {
   "cell_type": "code",
   "execution_count": 6,
   "metadata": {},
   "outputs": [],
   "source": [
    "dictionaries=[\n",
    "sf.dictionary_class('person_data',\n",
    "           10,\n",
    "           searchlist_maker('/mnt/volume/jupyter/szokereso/person_data-1592394309231_utf8.csv',alias_separator='|')),\n",
    "sf.dictionary_class('wikilist',\n",
    "           5,\n",
    "           searchlist_maker('/mnt/volume/jupyter/szokereso/A_negyedik_Orbán-kormany_allamtitkarainak_listaja.csv')),\n",
    "#dictionary_class('stanza',\n",
    "#           10),\n",
    "sf.dictionary_class('settlement_list',\n",
    "           5,\n",
    "           searchlist_maker('/mnt/volume/jupyter/szokereso/List of Settlements_m2.xlsx', excelfile=True,headerwechoose='settlement_name'),\n",
    "           geo=True),\n",
    "sf.dictionary_class('szotar_2.1',\n",
    "           10,\n",
    "           searchlist_maker('/mnt/volume/jupyter/szokereso/szotar_2.1.xlsx',multisheet=True)),\n",
    "sf.dictionary_class('instit_dict',\n",
    "            10,\n",
    "            searchlist_maker('/mnt/volume/jupyter/szokereso/instit_dict_2.1_updated_headers.xlsx',\n",
    "                             multisheet=True,\n",
    "                             columnsfiltered=True)),\n",
    "sf.dictionary_class('geo2dict',\n",
    "                10,\n",
    "                searchlist_maker('/mnt/volume/jupyter/szokereso/geo2.csv',\n",
    "                             multisheet=False,\n",
    "                             columnsfiltered=False,\n",
    "                             alias_separator='|')),\n",
    "sf.dictionary_class('corporate2dict',\n",
    "                 10,\n",
    "                 searchlist_maker('/mnt/volume/jupyter/szokereso/corporate2.csv',\n",
    "                             multisheet=False,\n",
    "                             columnsfiltered=False,\n",
    "                             alias_separator='|'))]"
   ]
  },
  {
   "cell_type": "code",
   "execution_count": 7,
   "metadata": {},
   "outputs": [],
   "source": [
    "inputPathAndWildcard = '/mnt/volume/anagy/mediascraper/mediaScraper/output/data*csv'"
   ]
  },
  {
   "cell_type": "code",
   "execution_count": 9,
   "metadata": {},
   "outputs": [
    {
     "name": "stdout",
     "output_type": "stream",
     "text": [
      "/mnt/volume/anagy/mediascraper/mediaScraper/output/data_2020-07-15_00:00:31.csv\n",
      "<szokereso_functions.dictionary_class object at 0x7f1b08111dd8>\n",
      "0\n",
      "10\n"
     ]
    },
    {
     "ename": "KeyboardInterrupt",
     "evalue": "",
     "output_type": "error",
     "traceback": [
      "\u001b[0;31m---------------------------------------------------------------------------\u001b[0m",
      "\u001b[0;31mKeyboardInterrupt\u001b[0m                         Traceback (most recent call last)",
      "\u001b[0;32m<ipython-input-9-1a61b89c879e>\u001b[0m in \u001b[0;36m<module>\u001b[0;34m\u001b[0m\n\u001b[1;32m     22\u001b[0m             \u001b[0;32mfor\u001b[0m \u001b[0micell\u001b[0m\u001b[0;34m,\u001b[0m \u001b[0mcell\u001b[0m \u001b[0;32min\u001b[0m \u001b[0menumerate\u001b[0m\u001b[0;34m(\u001b[0m\u001b[0mlist\u001b[0m\u001b[0;34m(\u001b[0m\u001b[0mtargetdf\u001b[0m\u001b[0;34m[\u001b[0m\u001b[0;34m'TEXT'\u001b[0m\u001b[0;34m]\u001b[0m\u001b[0;34m)\u001b[0m\u001b[0;34m)\u001b[0m\u001b[0;34m:\u001b[0m\u001b[0;34m\u001b[0m\u001b[0;34m\u001b[0m\u001b[0m\n\u001b[1;32m     23\u001b[0m                 \u001b[0;32mif\u001b[0m \u001b[0micell\u001b[0m\u001b[0;34m%\u001b[0m\u001b[0;36m10\u001b[0m \u001b[0;34m==\u001b[0m \u001b[0;36m0\u001b[0m\u001b[0;34m:\u001b[0m \u001b[0mprint\u001b[0m\u001b[0;34m(\u001b[0m\u001b[0micell\u001b[0m\u001b[0;34m)\u001b[0m\u001b[0;34m\u001b[0m\u001b[0;34m\u001b[0m\u001b[0m\n\u001b[0;32m---> 24\u001b[0;31m                 \u001b[0msf_matchfinder\u001b[0m\u001b[0;34m=\u001b[0m\u001b[0msf\u001b[0m\u001b[0;34m.\u001b[0m\u001b[0mmatchfinder\u001b[0m\u001b[0;34m(\u001b[0m\u001b[0mcell\u001b[0m\u001b[0;34m,\u001b[0m\u001b[0mdictionary\u001b[0m\u001b[0;34m.\u001b[0m\u001b[0msearchlist\u001b[0m\u001b[0;34m,\u001b[0m \u001b[0mstrictfiltering\u001b[0m\u001b[0;34m=\u001b[0m\u001b[0;32mTrue\u001b[0m\u001b[0;34m)\u001b[0m\u001b[0;34m\u001b[0m\u001b[0;34m\u001b[0m\u001b[0m\n\u001b[0m\u001b[1;32m     25\u001b[0m                 \u001b[0;32mif\u001b[0m \u001b[0mtype\u001b[0m\u001b[0;34m(\u001b[0m\u001b[0mcell\u001b[0m\u001b[0;34m)\u001b[0m \u001b[0;32mis\u001b[0m \u001b[0;32mnot\u001b[0m \u001b[0mfloat\u001b[0m \u001b[0;32mand\u001b[0m \u001b[0;32mnot\u001b[0m \u001b[0mlen\u001b[0m\u001b[0;34m(\u001b[0m\u001b[0msf_matchfinder\u001b[0m\u001b[0;34m)\u001b[0m \u001b[0;34m>\u001b[0m \u001b[0mdictionary\u001b[0m\u001b[0;34m.\u001b[0m\u001b[0mmaxcolnum\u001b[0m \u001b[0;32mand\u001b[0m \u001b[0mlen\u001b[0m\u001b[0;34m(\u001b[0m\u001b[0msf_matchfinder\u001b[0m\u001b[0;34m)\u001b[0m\u001b[0;34m>\u001b[0m\u001b[0;36m0\u001b[0m\u001b[0;34m:\u001b[0m\u001b[0;34m\u001b[0m\u001b[0;34m\u001b[0m\u001b[0m\n\u001b[1;32m     26\u001b[0m                     \u001b[0;32mfor\u001b[0m \u001b[0mi\u001b[0m\u001b[0;34m,\u001b[0m \u001b[0me\u001b[0m \u001b[0;32min\u001b[0m \u001b[0menumerate\u001b[0m\u001b[0;34m(\u001b[0m\u001b[0msf_matchfinder\u001b[0m\u001b[0;34m)\u001b[0m\u001b[0;34m:\u001b[0m\u001b[0;34m\u001b[0m\u001b[0;34m\u001b[0m\u001b[0m\n",
      "\u001b[0;32m~/szokereso/negyedikfeladatUjraHet/szokereso_functions.py\u001b[0m in \u001b[0;36mmatchfinder\u001b[0;34m(text, searchforthese, strictfiltering)\u001b[0m\n\u001b[1;32m    189\u001b[0m     '''    \n\u001b[1;32m    190\u001b[0m     matches=[alias\n\u001b[0;32m--> 191\u001b[0;31m              \u001b[0;32mfor\u001b[0m \u001b[0mpersondata_searchtarget\u001b[0m \u001b[0;32min\u001b[0m \u001b[0msearchforthese\u001b[0m\u001b[0;34m\u001b[0m\u001b[0;34m\u001b[0m\u001b[0m\n\u001b[0m\u001b[1;32m    192\u001b[0m              \u001b[0;32mfor\u001b[0m \u001b[0malias\u001b[0m \u001b[0;32min\u001b[0m \u001b[0mpersondata_searchtarget\u001b[0m\u001b[0;34m\u001b[0m\u001b[0;34m\u001b[0m\u001b[0m\n\u001b[1;32m    193\u001b[0m              if validalias(alias,strict=strictfiltering) and alias.lower() in str(text).lower()]\n",
      "\u001b[0;32m~/szokereso/negyedikfeladatUjraHet/szokereso_functions.py\u001b[0m in \u001b[0;36m<listcomp>\u001b[0;34m(.0)\u001b[0m\n\u001b[1;32m    191\u001b[0m              \u001b[0;32mfor\u001b[0m \u001b[0mpersondata_searchtarget\u001b[0m \u001b[0;32min\u001b[0m \u001b[0msearchforthese\u001b[0m\u001b[0;34m\u001b[0m\u001b[0;34m\u001b[0m\u001b[0m\n\u001b[1;32m    192\u001b[0m              \u001b[0;32mfor\u001b[0m \u001b[0malias\u001b[0m \u001b[0;32min\u001b[0m \u001b[0mpersondata_searchtarget\u001b[0m\u001b[0;34m\u001b[0m\u001b[0;34m\u001b[0m\u001b[0m\n\u001b[0;32m--> 193\u001b[0;31m              if validalias(alias,strict=strictfiltering) and alias.lower() in str(text).lower()]\n\u001b[0m\u001b[1;32m    194\u001b[0m     \u001b[0;32mreturn\u001b[0m \u001b[0mmatches\u001b[0m\u001b[0;34m\u001b[0m\u001b[0;34m\u001b[0m\u001b[0m\n\u001b[1;32m    195\u001b[0m \u001b[0;34m\u001b[0m\u001b[0m\n",
      "\u001b[0;32m~/szokereso/negyedikfeladatUjraHet/szokereso_functions.py\u001b[0m in \u001b[0;36mvalidalias\u001b[0;34m(alias, strict)\u001b[0m\n\u001b[1;32m    124\u001b[0m \u001b[0;34m\u001b[0m\u001b[0m\n\u001b[1;32m    125\u001b[0m \u001b[0;34m\u001b[0m\u001b[0m\n\u001b[0;32m--> 126\u001b[0;31m \u001b[0;32mdef\u001b[0m \u001b[0mvalidalias\u001b[0m\u001b[0;34m(\u001b[0m\u001b[0malias\u001b[0m\u001b[0;34m,\u001b[0m \u001b[0mstrict\u001b[0m\u001b[0;34m=\u001b[0m\u001b[0;32mFalse\u001b[0m\u001b[0;34m)\u001b[0m\u001b[0;34m:\u001b[0m\u001b[0;34m\u001b[0m\u001b[0;34m\u001b[0m\u001b[0m\n\u001b[0m\u001b[1;32m    127\u001b[0m     '''\n\u001b[1;32m    128\u001b[0m     \u001b[0mSome\u001b[0m \u001b[0mdictionaries\u001b[0m \u001b[0mcontain\u001b[0m \u001b[0maliases\u001b[0m \u001b[0mwhich\u001b[0m \u001b[0mwe\u001b[0m \u001b[0mdidn\u001b[0m\u001b[0;31m'\u001b[0m\u001b[0mt\u001b[0m \u001b[0mwant\u001b[0m \u001b[0mto\u001b[0m \u001b[0muse\u001b[0m\u001b[0;34m.\u001b[0m\u001b[0;34m\u001b[0m\u001b[0;34m\u001b[0m\u001b[0m\n",
      "\u001b[0;31mKeyboardInterrupt\u001b[0m: "
     ]
    }
   ],
   "source": [
    "while True:\n",
    "    while True:\n",
    "        todoFiles=sf.get_files_sorted_by_date_after_a_date(inputPathAndWildcard,[2020,7,15,0])\n",
    "        szokeresoResFilesPathAndWildcard='/mnt/volume/jupyter/szokereso/ujfajlnezo7/resultfiles/nagyszokereso_data_*'\n",
    "        todoFilesWithoutOutput = sf.getTodoFilesWithoutOutput(\n",
    "                                    todoFiles=todoFiles,\n",
    "                                    outputFiles=sf.getOutputFiles(szokeresoResFilesPathAndWildcard))\n",
    "        if len(todoFilesWithoutOutput) == 0: break\n",
    "        \n",
    "        targetcsv = todoFilesWithoutOutput[0]\n",
    "        targetdf = pd.read_csv(targetcsv)\n",
    "        print(targetcsv)\n",
    "\n",
    "        num_of_columns_for_each_dict={dictionary.name: dictionary.maxcolnum for dictionary in dictionaries}\n",
    "        for each in num_of_columns_for_each_dict:\n",
    "            for index in range(num_of_columns_for_each_dict[each]):\n",
    "                #See: https://stackoverflow.com/a/29517089/8565438\n",
    "                targetdf[each + str(index)]=''\n",
    "                \n",
    "        for idictionary, dictionary in enumerate(dictionaries):\n",
    "            print(dictionary)\n",
    "            for icell, cell in enumerate(list(targetdf['TEXT'])):\n",
    "                if icell%10 == 0: print(icell)\n",
    "                sf_matchfinder=sf.matchfinder(cell,dictionary.searchlist, strictfiltering=True)\n",
    "                if type(cell) is not float and not len(sf_matchfinder) > dictionary.maxcolnum and len(sf_matchfinder)>0:\n",
    "                    for i, e in enumerate(sf_matchfinder):\n",
    "                        targetdf.loc[icell,dictionary.name+str(i)]=e  \n",
    "           \n",
    "        if not debugmode: targetdf.to_csv('resultfiles_debug/nagyszokereso_'+targetcsv.split('/')[-1])\n",
    "            \n",
    "    sf.doThisWhenNoFileIsFoundToProcess(5*60)"
   ]
  },
  {
   "cell_type": "code",
   "execution_count": null,
   "metadata": {},
   "outputs": [],
   "source": []
  },
  {
   "cell_type": "code",
   "execution_count": null,
   "metadata": {},
   "outputs": [],
   "source": []
  }
 ],
 "metadata": {
  "kernelspec": {
   "display_name": "Python 3",
   "language": "python",
   "name": "python3"
  },
  "language_info": {
   "codemirror_mode": {
    "name": "ipython",
    "version": 3
   },
   "file_extension": ".py",
   "mimetype": "text/x-python",
   "name": "python",
   "nbconvert_exporter": "python",
   "pygments_lexer": "ipython3",
   "version": "3.6.9"
  }
 },
 "nbformat": 4,
 "nbformat_minor": 4
}
