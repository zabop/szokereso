{
 "cells": [
  {
   "cell_type": "code",
   "execution_count": 1,
   "metadata": {},
   "outputs": [],
   "source": [
    "import pandas as pd\n",
    "import glob\n",
    "import datetime\n",
    "import time\n",
    "import matplotlib.pyplot as plt\n",
    "import pathlib"
   ]
  },
  {
   "cell_type": "code",
   "execution_count": 2,
   "metadata": {},
   "outputs": [],
   "source": [
    "path=str(pathlib.Path().absolute())"
   ]
  },
  {
   "cell_type": "code",
   "execution_count": 3,
   "metadata": {},
   "outputs": [],
   "source": [
    "excelFile='/mnt/volume/jupyter/szokereso/vip_szotar_1.3.xlsx'"
   ]
  },
  {
   "cell_type": "code",
   "execution_count": 4,
   "metadata": {},
   "outputs": [],
   "source": [
    "def generateFreqRes(filesThatDate,date,freqFilesPath):\n",
    "        \n",
    "    dfs=[]\n",
    "    for file in filesThatDate:\n",
    "        try:\n",
    "            dfs.append(pd.read_csv(file))\n",
    "        except pd.io.common.EmptyDataError:\n",
    "            print('EmptyDataError: '+file)\n",
    "            \n",
    "    df = pd.concat([df[col] for df in dfs for col in df.columns if 'client' in col])\n",
    "    df_value_counts = df.value_counts()\n",
    "    df_value_counts.sort_values(ascending=True).to_csv(freqFilesPath+'dailyfreqfile_'+str(date).split(' ')[0]+'.csv')\n",
    "    #plot = pd.read_csv(freqFilesPath+'dailyfreqfile_'+str(date).split(' ')[0]+'.csv').plot.barh()\n",
    "    plot = pd.read_csv(freqFilesPath+'dailyfreqfile_'+str(date).split(' ')[0]+'.csv',index_col=0).plot.barh(legend=False)\n",
    "    fig = plot.get_figure()\n",
    "    fig.savefig(freqFilesPath+'barplot_'+str(date).split(' ')[0]+'.png', bbox_inches='tight')\n",
    "    plt.close()"
   ]
  },
  {
   "cell_type": "code",
   "execution_count": 6,
   "metadata": {},
   "outputs": [],
   "source": [
    "def get_files_sorted_by_date_after_a_date(look_for_this_pattern,cutoffdate):\n",
    "    \n",
    "    csvs = glob.glob(look_for_this_pattern)\n",
    "    datetimes=[datetime.datetime(int(each.split('/')[-1][37:41]),\n",
    "                                 int(each.split('/')[-1][42:44]),\n",
    "                                 int(each.split('/')[-1][45:47]),\n",
    "                                 int(each.split('/')[-1][48:50]),\n",
    "                                 int(each.split('/')[-1][51:53])) for each in csvs]\n",
    "\n",
    "    dt_csvs_filtered=[[dt, csv] for dt, csv in zip(datetimes,csvs) if dt >= datetime.datetime(*cutoffdate)]\n",
    "    \n",
    "    sorted_filtered_csvs = [csv\n",
    "                        for _, csv in sorted(\n",
    "                                         zip([eachpair[0] for eachpair in dt_csvs_filtered],\n",
    "                                             [eachpair[1] for eachpair in dt_csvs_filtered]))]\n",
    "    \n",
    "    return sorted_filtered_csvs"
   ]
  },
  {
   "cell_type": "code",
   "execution_count": 7,
   "metadata": {},
   "outputs": [],
   "source": [
    "def getFilesOnGivenDate(day,momFilesPathAndWildCard):\n",
    "    \n",
    "    dayafterday = day + datetime.timedelta(days=1)\n",
    "    \n",
    "    return list(\n",
    "    set(get_files_sorted_by_date_after_a_date(momFilesPathAndWildCard,[day.year,day.month,day.day,0]))-\\\n",
    "    set(get_files_sorted_by_date_after_a_date(momFilesPathAndWildCard,[dayafterday.year,dayafterday.month,dayafterday.day,0])))"
   ]
  },
  {
   "cell_type": "code",
   "execution_count": 8,
   "metadata": {},
   "outputs": [],
   "source": [
    "def doThisWhenNotEnoughFilesForDay(sleepThisMuch=60*60,day=None):\n",
    "    print('Not enough files found. '+str(day)+' Sleeping '+str(sleepThisMuch/60)+' minutes.')\n",
    "    time.sleep(sleepThisMuch)"
   ]
  },
  {
   "cell_type": "code",
   "execution_count": 9,
   "metadata": {},
   "outputs": [],
   "source": [
    "def didMoreThanThisManySecondsElapsedSinceEndOfThatDay(singleDate,seconds):\n",
    "    return (datetime.datetime.now() - (singleDate + datetime.timedelta(days=1))).total_seconds() > seconds"
   ]
  },
  {
   "cell_type": "code",
   "execution_count": 10,
   "metadata": {},
   "outputs": [],
   "source": [
    "def getClients(excelFile=excelFile):\n",
    "        \n",
    "    xl = pd.ExcelFile(excelFile)\n",
    "    sheetNames = [sheetName.strip() for sheetName in xl.sheet_names]\n",
    "        \n",
    "    return sheetNames"
   ]
  },
  {
   "cell_type": "code",
   "execution_count": null,
   "metadata": {},
   "outputs": [],
   "source": [
    "client='MSZP'\n",
    "freqFilesPath = path+'/'+client+'/szokeresores/dailyfreqs/'\n",
    "momFilesPathAndWildCard  = path+'/'+client+'/szokeresores/clientreszurt/live_updated3_dict_only_1client_data_*_dfUnifiedNanFilteredOnlySomeColsUpdated3.csv'\n",
    "\n",
    "start_date = datetime.datetime(2020,7,1)\n",
    "day_count = 1000\n",
    "\n",
    "for single_date in (start_date + datetime.timedelta(n) for n in range(day_count)):\n",
    "    while True:\n",
    "        filesThatDate = getFilesOnGivenDate(single_date,momFilesPathAndWildCard)\n",
    "        if len(filesThatDate) < 12 and not didMoreThanThisManySecondsElapsedSinceEndOfThatDay(single_date, 600):\n",
    "            doThisWhenNotEnoughFilesForDay(sleepThisMuch=10*60,day=single_date)\n",
    "        else:\n",
    "            generateFreqRes(filesThatDate,single_date,freqFilesPath)\n",
    "            print(single_date)\n",
    "            break"
   ]
  },
  {
   "cell_type": "code",
   "execution_count": null,
   "metadata": {},
   "outputs": [],
   "source": []
  },
  {
   "cell_type": "code",
   "execution_count": null,
   "metadata": {},
   "outputs": [],
   "source": []
  },
  {
   "cell_type": "code",
   "execution_count": null,
   "metadata": {},
   "outputs": [],
   "source": []
  },
  {
   "cell_type": "code",
   "execution_count": null,
   "metadata": {},
   "outputs": [],
   "source": []
  }
 ],
 "metadata": {
  "kernelspec": {
   "display_name": "Python 3",
   "language": "python",
   "name": "python3"
  },
  "language_info": {
   "codemirror_mode": {
    "name": "ipython",
    "version": 3
   },
   "file_extension": ".py",
   "mimetype": "text/x-python",
   "name": "python",
   "nbconvert_exporter": "python",
   "pygments_lexer": "ipython3",
   "version": "3.6.9"
  }
 },
 "nbformat": 4,
 "nbformat_minor": 4
}
