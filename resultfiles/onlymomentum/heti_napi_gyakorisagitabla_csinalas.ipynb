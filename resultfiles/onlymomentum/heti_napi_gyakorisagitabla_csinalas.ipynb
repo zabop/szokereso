{
 "cells": [
  {
   "cell_type": "code",
   "execution_count": 1,
   "metadata": {},
   "outputs": [],
   "source": [
    "import glob\n",
    "import datetime\n",
    "import pandas as pd"
   ]
  },
  {
   "cell_type": "code",
   "execution_count": 2,
   "metadata": {},
   "outputs": [],
   "source": [
    "momentumfiles=glob.glob('onlymomentum_data_*_szokereso_result.csv')"
   ]
  },
  {
   "cell_type": "code",
   "execution_count": 3,
   "metadata": {},
   "outputs": [],
   "source": [
    "dates=\\\n",
    "[datetime.datetime(int(each[18:22]), int(each[23:25]), int(each[26:28]))\n",
    " for each in momentumfiles]"
   ]
  },
  {
   "cell_type": "code",
   "execution_count": 4,
   "metadata": {},
   "outputs": [],
   "source": [
    "def day(date):\n",
    "    return date.weekday()\n",
    "def week(date):\n",
    "    return date.isocalendar()[1]"
   ]
  },
  {
   "cell_type": "code",
   "execution_count": 5,
   "metadata": {},
   "outputs": [],
   "source": [
    "df = pd.DataFrame(zip(momentumfiles,dates),columns=['momentumfiles','dates'])"
   ]
  },
  {
   "cell_type": "code",
   "execution_count": 6,
   "metadata": {},
   "outputs": [],
   "source": [
    "df['dayint'] =   df['dates'].apply(day )\n",
    "df['isoweeknum']=df['dates'].apply(week)"
   ]
  },
  {
   "cell_type": "code",
   "execution_count": 7,
   "metadata": {},
   "outputs": [],
   "source": [
    "df.sort_values(by='isoweeknum',inplace=True)"
   ]
  },
  {
   "cell_type": "code",
   "execution_count": 8,
   "metadata": {},
   "outputs": [],
   "source": [
    "dfsByWeek = {'week'+str(isoweeknum):\\\n",
    "                         df[df['isoweeknum']==isoweeknum].reset_index(drop=True)\n",
    "                         for isoweeknum in list(set(df['isoweeknum']))}"
   ]
  },
  {
   "cell_type": "code",
   "execution_count": 9,
   "metadata": {},
   "outputs": [],
   "source": [
    "dfsByWeekUnified ={week:pd.concat([pd.read_csv(file)\n",
    "                        for file in dfsByWeek[week]['momentumfiles']])\n",
    "                        for week in dfsByWeek.keys()}"
   ]
  },
  {
   "cell_type": "code",
   "execution_count": 10,
   "metadata": {},
   "outputs": [],
   "source": [
    "weeklyFreqDf = {week:pd.concat([dfsByWeekUnified[week][col]\n",
    "                 for col in dfsByWeekUnified[week].columns if 'momentum' in col]\n",
    "               ).value_counts(\n",
    "               ).rename_axis('unique_entries'\n",
    "               ).reset_index(name='counts')\n",
    "                 for week in dfsByWeekUnified.keys()}"
   ]
  },
  {
   "cell_type": "code",
   "execution_count": 11,
   "metadata": {},
   "outputs": [],
   "source": [
    "dfsByDay = {str(date)[:10]:df[df['dates']==date] for date in list(set(df['dates']))}"
   ]
  },
  {
   "cell_type": "code",
   "execution_count": 12,
   "metadata": {},
   "outputs": [],
   "source": [
    "dfsByDayUnified ={day:pd.concat([pd.read_csv(file)\n",
    "                     for file in dfsByDay[day]['momentumfiles']])\n",
    "                     for day in dfsByDay.keys()}"
   ]
  },
  {
   "cell_type": "code",
   "execution_count": 13,
   "metadata": {},
   "outputs": [],
   "source": [
    "dailyFreqDf = {day:pd.concat([dfsByDayUnified[day][col]\n",
    "                 for col in dfsByDayUnified[day].columns if 'momentum' in col]\n",
    "               ).value_counts(\n",
    "               ).rename_axis('unique_entries'\n",
    "               ).reset_index(name='counts')\n",
    "                 for day in dfsByDayUnified.keys()}"
   ]
  },
  {
   "cell_type": "code",
   "execution_count": 14,
   "metadata": {},
   "outputs": [],
   "source": [
    "for eachDay in dailyFreqDf.keys():\n",
    "    dailyFreqDf[eachDay].to_csv(\n",
    "        '/mnt/volume/jupyter/szokereso/resultfiles/onlymomentum/dailyfreqlist/'+\n",
    "        'freqlist_'+eachDay+'.csv')"
   ]
  },
  {
   "cell_type": "code",
   "execution_count": 15,
   "metadata": {},
   "outputs": [],
   "source": [
    "for eachWeek in weeklyFreqDf.keys():\n",
    "    weeklyFreqDf[eachWeek].to_csv(\n",
    "        '/mnt/volume/jupyter/szokereso/resultfiles/onlymomentum/weeklyfreqlist/'+\n",
    "        'freqlist_'+eachWeek+'.csv')"
   ]
  },
  {
   "cell_type": "code",
   "execution_count": null,
   "metadata": {},
   "outputs": [],
   "source": []
  }
 ],
 "metadata": {
  "kernelspec": {
   "display_name": "Python 3",
   "language": "python",
   "name": "python3"
  },
  "language_info": {
   "codemirror_mode": {
    "name": "ipython",
    "version": 3
   },
   "file_extension": ".py",
   "mimetype": "text/x-python",
   "name": "python",
   "nbconvert_exporter": "python",
   "pygments_lexer": "ipython3",
   "version": "3.6.9"
  }
 },
 "nbformat": 4,
 "nbformat_minor": 4
}
