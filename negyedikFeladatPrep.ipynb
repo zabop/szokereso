{
 "cells": [
  {
   "cell_type": "code",
   "execution_count": 1,
   "metadata": {},
   "outputs": [],
   "source": [
    "import glob"
   ]
  },
  {
   "cell_type": "code",
   "execution_count": 2,
   "metadata": {},
   "outputs": [
    {
     "name": "stdout",
     "output_type": "stream",
     "text": [
      "/mnt/volume/jupyter/szokereso\r\n"
     ]
    }
   ],
   "source": [
    "!pwd"
   ]
  },
  {
   "cell_type": "code",
   "execution_count": 33,
   "metadata": {},
   "outputs": [],
   "source": [
    "import pandas as pd"
   ]
  },
  {
   "cell_type": "code",
   "execution_count": null,
   "metadata": {},
   "outputs": [],
   "source": [
    "def getSearchListFromTabName(pathToExcelFile,tabName):\n",
    "    xl = pd.ExcelFile('/mnt/volume/jupyter/szokereso/vip_szotar_1.1.xlsx')\n",
    "    dfs = {sheetname:\n",
    "           [[each] for each in xl.parse(sheetname,header=None)[0]]\n",
    "                   for sheetname in xl.sheet_names\n",
    "                   if 'Momentum' not in sheetname}\n",
    "    return dfs[tabName]"
   ]
  },
  {
   "cell_type": "code",
   "execution_count": 34,
   "metadata": {},
   "outputs": [],
   "source": [
    "xl = pd.ExcelFile('/mnt/volume/jupyter/szokereso/vip_szotar_1.1.xlsx')"
   ]
  },
  {
   "cell_type": "code",
   "execution_count": 35,
   "metadata": {
    "collapsed": true
   },
   "outputs": [
    {
     "data": {
      "text/plain": [
       "['Fidesz',\n",
       " 'KDNP',\n",
       " 'DK',\n",
       " 'Momentum   ',\n",
       " 'MSZP',\n",
       " 'Jobbik',\n",
       " 'Párbeszéd',\n",
       " 'LMP',\n",
       " 'MiHazánk',\n",
       " 'Főváros']"
      ]
     },
     "execution_count": 35,
     "metadata": {},
     "output_type": "execute_result"
    }
   ],
   "source": [
    "xl.sheet_names"
   ]
  },
  {
   "cell_type": "code",
   "execution_count": 66,
   "metadata": {},
   "outputs": [],
   "source": [
    "dfs = {sheetname: [[each] for each in xl.parse(sheetname,header=None)[0]] for sheetname in xl.sheet_names if 'Momentum' not in sheetname}"
   ]
  },
  {
   "cell_type": "code",
   "execution_count": 68,
   "metadata": {
    "scrolled": true
   },
   "outputs": [
    {
     "data": {
      "text/plain": [
       "dict_keys(['Fidesz', 'KDNP', 'DK', 'MSZP', 'Jobbik', 'Párbeszéd', 'LMP', 'MiHazánk', 'Főváros'])"
      ]
     },
     "execution_count": 68,
     "metadata": {},
     "output_type": "execute_result"
    }
   ],
   "source": [
    "dfs.keys()"
   ]
  },
  {
   "cell_type": "code",
   "execution_count": 70,
   "metadata": {},
   "outputs": [
    {
     "data": {
      "text/plain": [
       "[['MiHazánk'],\n",
       " ['Mi Hazánk Mozgalom'],\n",
       " ['Dúró Dóra'],\n",
       " ['Toroczkai László'],\n",
       " ['Novák Előd']]"
      ]
     },
     "execution_count": 70,
     "metadata": {},
     "output_type": "execute_result"
    }
   ],
   "source": [
    "dfs['MiHazánk']"
   ]
  },
  {
   "cell_type": "code",
   "execution_count": null,
   "metadata": {},
   "outputs": [],
   "source": []
  }
 ],
 "metadata": {
  "kernelspec": {
   "display_name": "Python 3",
   "language": "python",
   "name": "python3"
  },
  "language_info": {
   "codemirror_mode": {
    "name": "ipython",
    "version": 3
   },
   "file_extension": ".py",
   "mimetype": "text/x-python",
   "name": "python",
   "nbconvert_exporter": "python",
   "pygments_lexer": "ipython3",
   "version": "3.6.9"
  }
 },
 "nbformat": 4,
 "nbformat_minor": 4
}
