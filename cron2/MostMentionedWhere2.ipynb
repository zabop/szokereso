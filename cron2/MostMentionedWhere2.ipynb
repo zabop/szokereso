{
 "cells": [
  {
   "cell_type": "code",
   "execution_count": 1,
   "metadata": {},
   "outputs": [],
   "source": [
    "momFilesPathAndWildCard  = '/mnt/volume/jupyter/szokereso/cron2/szokeresores/momentumraszurt/live_updated3_dict_onlymomentum_data_*_dfUnifiedNanFilteredOnlySomeColsUpdated3.csv'"
   ]
  },
  {
   "cell_type": "code",
   "execution_count": 2,
   "metadata": {},
   "outputs": [],
   "source": [
    "import datetime\n",
    "import glob\n",
    "import pandas as pd"
   ]
  },
  {
   "cell_type": "code",
   "execution_count": 3,
   "metadata": {},
   "outputs": [],
   "source": [
    "def get_files_sorted_by_date_after_a_date(look_for_this_pattern,cutoffdate):\n",
    "    \n",
    "    csvs = glob.glob(look_for_this_pattern)\n",
    "    datetimes=[datetime.datetime(int(each.split('/')[-1][37:41]),\n",
    "                                 int(each.split('/')[-1][42:44]),\n",
    "                                 int(each.split('/')[-1][45:47]),\n",
    "                                 int(each.split('/')[-1][48:50]),\n",
    "                                 int(each.split('/')[-1][51:53])) for each in csvs]\n",
    "\n",
    "    dt_csvs_filtered=[[dt, csv] for dt, csv in zip(datetimes,csvs) if dt >= datetime.datetime(*cutoffdate)]\n",
    "    \n",
    "    sorted_filtered_csvs = [csv\n",
    "                        for _, csv in sorted(\n",
    "                                         zip([eachpair[0] for eachpair in dt_csvs_filtered],\n",
    "                                             [eachpair[1] for eachpair in dt_csvs_filtered]))]\n",
    "    \n",
    "    return sorted_filtered_csvs"
   ]
  },
  {
   "cell_type": "code",
   "execution_count": 4,
   "metadata": {},
   "outputs": [],
   "source": [
    "def getFilesOnGivenWeek(dayOfFirstDayOfWeek):\n",
    "    \n",
    "    sevenDayAfterDay = dayOfFirstDayOfWeek + datetime.timedelta(days=7)\n",
    "    \n",
    "    return list(\n",
    "    set(get_files_sorted_by_date_after_a_date(momFilesPathAndWildCard,[dayOfFirstDayOfWeek.year,\n",
    "                                                                       dayOfFirstDayOfWeek.month,\n",
    "                                                                       dayOfFirstDayOfWeek.day,0]))-\\\n",
    "    set(get_files_sorted_by_date_after_a_date(momFilesPathAndWildCard,[sevenDayAfterDay.year,\n",
    "                                                                       sevenDayAfterDay.month,\n",
    "                                                                       sevenDayAfterDay.day,0])))"
   ]
  },
  {
   "cell_type": "code",
   "execution_count": 5,
   "metadata": {},
   "outputs": [],
   "source": [
    "day=datetime.datetime(2020,7,20,0)\n",
    "weekfiles = getFilesOnGivenWeek(day)"
   ]
  },
  {
   "cell_type": "code",
   "execution_count": 6,
   "metadata": {},
   "outputs": [],
   "source": [
    "df = pd.concat(pd.read_csv(weekfile) for weekfile in weekfiles)\n",
    "df = df[['OUTLET']+[col for col in df.columns if 'momentum' in col]]"
   ]
  },
  {
   "cell_type": "code",
   "execution_count": 7,
   "metadata": {},
   "outputs": [],
   "source": [
    "s = df.melt('OUTLET').groupby(['value','OUTLET']).size()\n",
    "s = s.reindex(pd.MultiIndex.from_product(s.index.levels), fill_value=0)"
   ]
  },
  {
   "cell_type": "code",
   "execution_count": 8,
   "metadata": {},
   "outputs": [],
   "source": [
    "sdf = pd.DataFrame(s)\n",
    "hits = list(set(sdf.index.get_level_values(level=0)))"
   ]
  },
  {
   "cell_type": "code",
   "execution_count": 9,
   "metadata": {},
   "outputs": [],
   "source": [
    "sdfs={person:sdf.xs(person, level=0) for person in hits}"
   ]
  },
  {
   "cell_type": "code",
   "execution_count": 10,
   "metadata": {},
   "outputs": [],
   "source": [
    "def mostfrequent(df):\n",
    "    outlet  = df.idxmax()\n",
    "    mentions= df.max()\n",
    "    return outlet, mentions"
   ]
  },
  {
   "cell_type": "code",
   "execution_count": 11,
   "metadata": {},
   "outputs": [],
   "source": [
    "res = {person: [mostfrequent(df)[0][0],mostfrequent(df)[1][0]] for person, df in zip(sdfs.keys(), sdfs.values())}"
   ]
  },
  {
   "cell_type": "code",
   "execution_count": 12,
   "metadata": {},
   "outputs": [],
   "source": [
    "resdf = pd.DataFrame(res).transpose()"
   ]
  },
  {
   "cell_type": "code",
   "execution_count": 13,
   "metadata": {},
   "outputs": [],
   "source": [
    "resdf.columns = ['OUTLET','TIMES']"
   ]
  },
  {
   "cell_type": "code",
   "execution_count": 18,
   "metadata": {},
   "outputs": [],
   "source": [
    "resdf.to_csv('MostFeaturedPlatform.csv')"
   ]
  },
  {
   "cell_type": "code",
   "execution_count": 19,
   "metadata": {},
   "outputs": [],
   "source": [
    "dfMom = df[[col for col in df.columns if 'momentum' in col]]\n",
    "dfMom = pd.DataFrame(pd.concat(df[col] for col in dfMom.columns))\n",
    "dfMom = dfMom[0].value_counts()"
   ]
  },
  {
   "cell_type": "code",
   "execution_count": 20,
   "metadata": {},
   "outputs": [],
   "source": [
    "dfMom.to_csv('mostMentioned.csv')"
   ]
  },
  {
   "cell_type": "code",
   "execution_count": 21,
   "metadata": {},
   "outputs": [
    {
     "name": "stdout",
     "output_type": "stream",
     "text": [
      "/mnt/volume/jupyter/szokereso/cron2\r\n"
     ]
    }
   ],
   "source": [
    "!pwd"
   ]
  },
  {
   "cell_type": "code",
   "execution_count": null,
   "metadata": {},
   "outputs": [],
   "source": []
  }
 ],
 "metadata": {
  "kernelspec": {
   "display_name": "Python 3",
   "language": "python",
   "name": "python3"
  },
  "language_info": {
   "codemirror_mode": {
    "name": "ipython",
    "version": 3
   },
   "file_extension": ".py",
   "mimetype": "text/x-python",
   "name": "python",
   "nbconvert_exporter": "python",
   "pygments_lexer": "ipython3",
   "version": "3.6.9"
  }
 },
 "nbformat": 4,
 "nbformat_minor": 4
}
