{
 "cells": [
  {
   "cell_type": "code",
   "execution_count": 1,
   "metadata": {
    "collapsed": true
   },
   "outputs": [
    {
     "name": "stdout",
     "output_type": "stream",
     "text": [
      "Looped through all clients. Sleeping 10.0 minutes\n"
     ]
    },
    {
     "ename": "KeyboardInterrupt",
     "evalue": "",
     "output_type": "error",
     "traceback": [
      "\u001b[0;31m---------------------------------------------------------------------------\u001b[0m",
      "\u001b[0;31mKeyboardInterrupt\u001b[0m                         Traceback (most recent call last)",
      "\u001b[0;32m<ipython-input-1-337f648b1a69>\u001b[0m in \u001b[0;36m<module>\u001b[0;34m\u001b[0m\n\u001b[1;32m    166\u001b[0m                         \u001b[0mprint\u001b[0m\u001b[0;34m(\u001b[0m\u001b[0msingle_date\u001b[0m\u001b[0;34m)\u001b[0m\u001b[0;34m\u001b[0m\u001b[0;34m\u001b[0m\u001b[0m\n\u001b[1;32m    167\u001b[0m \u001b[0;34m\u001b[0m\u001b[0m\n\u001b[0;32m--> 168\u001b[0;31m         \u001b[0mdoThisWhenNotEnoughFilesForDay\u001b[0m\u001b[0;34m(\u001b[0m\u001b[0msleepThisMuch\u001b[0m\u001b[0;34m=\u001b[0m\u001b[0;36m10\u001b[0m\u001b[0;34m*\u001b[0m\u001b[0;36m60\u001b[0m\u001b[0;34m,\u001b[0m\u001b[0mday\u001b[0m\u001b[0;34m=\u001b[0m\u001b[0msingle_date\u001b[0m\u001b[0;34m)\u001b[0m\u001b[0;34m\u001b[0m\u001b[0;34m\u001b[0m\u001b[0m\n\u001b[0m\u001b[1;32m    169\u001b[0m     \u001b[0;32melse\u001b[0m\u001b[0;34m:\u001b[0m\u001b[0;34m\u001b[0m\u001b[0;34m\u001b[0m\u001b[0m\n\u001b[1;32m    170\u001b[0m         \u001b[0mprint\u001b[0m\u001b[0;34m(\u001b[0m\u001b[0;34m'We are within 15 minutes of an even hour. Waiting until szokereso is surely finished. Sleeping 5 mins.'\u001b[0m\u001b[0;34m)\u001b[0m\u001b[0;34m\u001b[0m\u001b[0;34m\u001b[0m\u001b[0m\n",
      "\u001b[0;32m<ipython-input-1-337f648b1a69>\u001b[0m in \u001b[0;36mdoThisWhenNotEnoughFilesForDay\u001b[0;34m(sleepThisMuch, day)\u001b[0m\n\u001b[1;32m    104\u001b[0m     \u001b[0;31m#print('Not enough files found. '+str(day)+' Sleeping '+str(sleepThisMuch/60)+' minutes.')\u001b[0m\u001b[0;34m\u001b[0m\u001b[0;34m\u001b[0m\u001b[0;34m\u001b[0m\u001b[0m\n\u001b[1;32m    105\u001b[0m     \u001b[0mprint\u001b[0m\u001b[0;34m(\u001b[0m\u001b[0;34m'Looped through all clients. Sleeping '\u001b[0m \u001b[0;34m+\u001b[0m \u001b[0mstr\u001b[0m\u001b[0;34m(\u001b[0m\u001b[0msleepThisMuch\u001b[0m \u001b[0;34m/\u001b[0m \u001b[0;36m60\u001b[0m\u001b[0;34m)\u001b[0m \u001b[0;34m+\u001b[0m \u001b[0;34m' minutes'\u001b[0m\u001b[0;34m)\u001b[0m\u001b[0;34m\u001b[0m\u001b[0;34m\u001b[0m\u001b[0m\n\u001b[0;32m--> 106\u001b[0;31m     \u001b[0mtime\u001b[0m\u001b[0;34m.\u001b[0m\u001b[0msleep\u001b[0m\u001b[0;34m(\u001b[0m\u001b[0msleepThisMuch\u001b[0m\u001b[0;34m)\u001b[0m\u001b[0;34m\u001b[0m\u001b[0;34m\u001b[0m\u001b[0m\n\u001b[0m\u001b[1;32m    107\u001b[0m \u001b[0;34m\u001b[0m\u001b[0m\n\u001b[1;32m    108\u001b[0m \u001b[0;34m\u001b[0m\u001b[0m\n",
      "\u001b[0;31mKeyboardInterrupt\u001b[0m: "
     ]
    }
   ],
   "source": [
    "#!/usr/bin/env python\n",
    "# coding: utf-8\n",
    "\n",
    "# In[1]:\n",
    "\n",
    "\n",
    "import pandas as pd\n",
    "import glob\n",
    "import datetime\n",
    "import time\n",
    "import matplotlib.pyplot as plt\n",
    "import pathlib\n",
    "import re\n",
    "\n",
    "\n",
    "# In[2]:\n",
    "\n",
    "\n",
    "path=str(pathlib.Path().absolute())\n",
    "\n",
    "\n",
    "# In[3]:\n",
    "\n",
    "\n",
    "excelFile='/mnt/volume/jupyter/szokereso/vip_szotar_1.4.xlsx'\n",
    "\n",
    "\n",
    "# In[4]:\n",
    "\n",
    "\n",
    "def doneTheseDays(client):\n",
    "\n",
    "    pngs = glob.glob(client+'/szokeresores/dailyfreqs/*png')\n",
    "    csvs = glob.glob(client+'/szokeresores/dailyfreqs/*csv')\n",
    "    \n",
    "    csvdates = [datetime.datetime(*[int(num) for num in re.findall(r'\\d+', filename)]) for filename in csvs]\n",
    "    pngdates = [datetime.datetime(*[int(num) for num in re.findall(r'\\d+', filename)]) for filename in pngs]\n",
    "    \n",
    "    csvAndPngDates = list(set.intersection(set(csvdates),set(pngdates)))\n",
    "    \n",
    "    return csvAndPngDates\n",
    "\n",
    "\n",
    "# In[5]:\n",
    "\n",
    "\n",
    "def generateFreqRes(filesThatDate,date,freqFilesPath,debugmode=True):        \n",
    "    dfs=[]\n",
    "    for file in filesThatDate:\n",
    "        try:\n",
    "            dfs.append(pd.read_csv(file))\n",
    "        except pd.io.common.EmptyDataError:\n",
    "            print('EmptyDataError: '+file)\n",
    "\n",
    "    try:\n",
    "        df = pd.concat([df[col] for df in dfs for col in df.columns if 'client' in col])\n",
    "        df_value_counts = df.value_counts()\n",
    "        \n",
    "        if not debugmode: \n",
    "            df_value_counts.rename_axis('PLACEHOLDER1')                           .reset_index()                           .rename(columns={0:'PLACEHOLDER2'})                           .sort_values(by='PLACEHOLDER2',ascending=True)                           .to_csv(freqFilesPath+'dailyfreqfile_'+str(date).split(' ')[0]+'.csv',index=False)\n",
    "    except ValueError:\n",
    "        pass\n",
    "    try:\n",
    "        #plot = pd.read_csv(freqFilesPath+'dailyfreqfile_'+str(date).split(' ')[0]+'.csv').plot.barh()\n",
    "        plot = pd.read_csv(freqFilesPath+'dailyfreqfile_'+str(date).split(' ')[0]+'.csv',index_col=0).plot.barh(legend=False)\n",
    "        plot.yaxis.label.set_visible(False)\n",
    "        fig = plot.get_figure()\n",
    "        if not debugmode: fig.savefig(freqFilesPath+'barplot_'+str(date).split(' ')[0]+'.png', bbox_inches='tight')\n",
    "        plt.close()\n",
    "    except TypeError:\n",
    "        pass\n",
    "\n",
    "\n",
    "# In[6]:\n",
    "\n",
    "\n",
    "def get_files_sorted_by_date_after_a_date(look_for_this_pattern, cutoffdate):\n",
    "    csvs = glob.glob(look_for_this_pattern)\n",
    "    datetimes=[datetime.datetime(*[int(num) for num in re.findall(r'\\d+', each)[:4]]) for each in csvs]\n",
    "    dt_csvs_filtered=[[dt, csv] for dt, csv in zip(datetimes,csvs) if dt >= datetime.datetime(*cutoffdate)]\n",
    "    sorted_filtered_csvs = [csv\n",
    "                        for _, csv in sorted(\n",
    "                                         zip([eachpair[0] for eachpair in dt_csvs_filtered],\n",
    "                                             [eachpair[1] for eachpair in dt_csvs_filtered]))]\n",
    "    return sorted_filtered_csvs\n",
    "\n",
    "\n",
    "# In[7]:\n",
    "\n",
    "\n",
    "def getFilesOnGivenDate(day,momFilesPathAndWildCard):\n",
    "    \n",
    "    dayafterday = day + datetime.timedelta(days=1)\n",
    "    \n",
    "    return list(\n",
    "    set(get_files_sorted_by_date_after_a_date(momFilesPathAndWildCard,[day.year,day.month,day.day,0]))-\\\n",
    "    set(get_files_sorted_by_date_after_a_date(momFilesPathAndWildCard,[dayafterday.year,dayafterday.month,dayafterday.day,0])))\n",
    "\n",
    "\n",
    "# In[8]:\n",
    "\n",
    "\n",
    "def doThisWhenNotEnoughFilesForDay(sleepThisMuch=60*60,day=None):\n",
    "    #print('Not enough files found. '+str(day)+' Sleeping '+str(sleepThisMuch/60)+' minutes.')\n",
    "    print('Looped through all clients. Sleeping ' + str(sleepThisMuch / 60) + ' minutes')\n",
    "    time.sleep(sleepThisMuch)\n",
    "\n",
    "\n",
    "# In[9]:\n",
    "\n",
    "\n",
    "def didMoreThanThisManySecondsElapsedSinceEndOfThatDay(singleDate,seconds):\n",
    "    return (datetime.datetime.now() - (singleDate + datetime.timedelta(days=1))).total_seconds() > seconds\n",
    "\n",
    "\n",
    "# In[10]:\n",
    "\n",
    "\n",
    "def getClients(excelFile=excelFile):\n",
    "        \n",
    "    xl = pd.ExcelFile(excelFile)\n",
    "    sheetNames = [sheetName.strip() for sheetName in xl.sheet_names]\n",
    "        \n",
    "    return sheetNames\n",
    "\n",
    "\n",
    "# In[11]:\n",
    "\n",
    "\n",
    "def szokeresoIsUnlikelyToRunRightNow():\n",
    "    now = datetime.datetime.now()\n",
    "    if now.hour % 2 == 0 and now.minute<15:\n",
    "        return False\n",
    "    else:\n",
    "        return True\n",
    "\n",
    "\n",
    "# In[12]:\n",
    "\n",
    "\n",
    "clients = getClients()\n",
    "\n",
    "while True:\n",
    "    \n",
    "    if szokeresoIsUnlikelyToRunRightNow():\n",
    "    \n",
    "        for client in clients:\n",
    "\n",
    "            freqFilesPath = path+'/'+client+'/szokeresores/dailyfreqs/'\n",
    "            momFilesPathAndWildCard  = path+'/'+client+'/szokeresores/clientreszurt/live_*_szurt.csv'\n",
    "\n",
    "            start_date = datetime.datetime(2020,7,1)\n",
    "            day_count = 10000\n",
    "\n",
    "            doneThese = doneTheseDays(client)\n",
    "            for single_date in (start_date + datetime.timedelta(n) for n in range(day_count)):\n",
    "                if single_date not in doneThese:\n",
    "                    filesThatDate = getFilesOnGivenDate(single_date,momFilesPathAndWildCard)\n",
    "                    if len(filesThatDate) < 12 and not didMoreThanThisManySecondsElapsedSinceEndOfThatDay(single_date, 600):\n",
    "                        #doThisWhenNotEnoughFilesForDay(sleepThisMuch=10*60,day=single_date)\n",
    "                        break\n",
    "                    else:\n",
    "                        #generateFreqRes(filesThatDate,single_date,freqFilesPath,debugmode=False)\n",
    "                        print(filesThatDate)\n",
    "                        print(client)\n",
    "                        print(single_date)\n",
    "\n",
    "        doThisWhenNotEnoughFilesForDay(sleepThisMuch=10*60,day=single_date)\n",
    "    else:\n",
    "        print('We are within 15 minutes of an even hour. Waiting until szokereso is surely finished. Sleeping 5 mins.')\n",
    "        time.sleep(5*60)"
   ]
  },
  {
   "cell_type": "code",
   "execution_count": 11,
   "metadata": {
    "collapsed": true
   },
   "outputs": [
    {
     "name": "stdout",
     "output_type": "stream",
     "text": [
      "['/mnt/volume/jupyter/szokereso/negyedikfeladatUjraHet/Főváros/szokeresores/clientreszurt/live_data_2020-07-01_16:01:02_szurt.csv', '/mnt/volume/jupyter/szokereso/negyedikfeladatUjraHet/Főváros/szokeresores/clientreszurt/live_data_2020-07-01_10:02:51_szurt.csv', '/mnt/volume/jupyter/szokereso/negyedikfeladatUjraHet/Főváros/szokeresores/clientreszurt/live_data_2020-07-01_02:00:18_szurt.csv', '/mnt/volume/jupyter/szokereso/negyedikfeladatUjraHet/Főváros/szokeresores/clientreszurt/live_data_2020-07-01_00:00:24_szurt.csv', '/mnt/volume/jupyter/szokereso/negyedikfeladatUjraHet/Főváros/szokeresores/clientreszurt/live_data_2020-07-01_04:00:22_szurt.csv', '/mnt/volume/jupyter/szokereso/negyedikfeladatUjraHet/Főváros/szokeresores/clientreszurt/live_data_2020-07-01_14:02:26_szurt.csv', '/mnt/volume/jupyter/szokereso/negyedikfeladatUjraHet/Főváros/szokeresores/clientreszurt/live_data_2020-07-01_08:01:18_szurt.csv', '/mnt/volume/jupyter/szokereso/negyedikfeladatUjraHet/Főváros/szokeresores/clientreszurt/live_data_2020-07-01_15:13:04_szurt.csv', '/mnt/volume/jupyter/szokereso/negyedikfeladatUjraHet/Főváros/szokeresores/clientreszurt/live_data_2020-07-01_12:00:43_szurt.csv', '/mnt/volume/jupyter/szokereso/negyedikfeladatUjraHet/Főváros/szokeresores/clientreszurt/live_data_2020-07-01_22:01:12_szurt.csv', '/mnt/volume/jupyter/szokereso/negyedikfeladatUjraHet/Főváros/szokeresores/clientreszurt/live_data_2020-07-01_18:02:51_szurt.csv', '/mnt/volume/jupyter/szokereso/negyedikfeladatUjraHet/Főváros/szokeresores/clientreszurt/live_data_2020-07-01_20:02:10_szurt.csv', '/mnt/volume/jupyter/szokereso/negyedikfeladatUjraHet/Főváros/szokeresores/clientreszurt/live_data_2020-07-01_06:00:26_szurt.csv']\n",
      "['/mnt/volume/jupyter/szokereso/negyedikfeladatUjraHet/Főváros/szokeresores/clientreszurt/live_data_2020-07-02_04:00:27_szurt.csv', '/mnt/volume/jupyter/szokereso/negyedikfeladatUjraHet/Főváros/szokeresores/clientreszurt/live_data_2020-07-02_14:02:30_szurt.csv', '/mnt/volume/jupyter/szokereso/negyedikfeladatUjraHet/Főváros/szokeresores/clientreszurt/live_data_2020-07-02_02:00:27_szurt.csv', '/mnt/volume/jupyter/szokereso/negyedikfeladatUjraHet/Főváros/szokeresores/clientreszurt/live_data_2020-07-02_08:01:26_szurt.csv', '/mnt/volume/jupyter/szokereso/negyedikfeladatUjraHet/Főváros/szokeresores/clientreszurt/live_data_2020-07-02_12:00:34_szurt.csv', '/mnt/volume/jupyter/szokereso/negyedikfeladatUjraHet/Főváros/szokeresores/clientreszurt/live_data_2020-07-02_20:02:15_szurt.csv', '/mnt/volume/jupyter/szokereso/negyedikfeladatUjraHet/Főváros/szokeresores/clientreszurt/live_data_2020-07-02_22:01:36_szurt.csv', '/mnt/volume/jupyter/szokereso/negyedikfeladatUjraHet/Főváros/szokeresores/clientreszurt/live_data_2020-07-02_18:02:16_szurt.csv', '/mnt/volume/jupyter/szokereso/negyedikfeladatUjraHet/Főváros/szokeresores/clientreszurt/live_data_2020-07-02_00:00:39_szurt.csv', '/mnt/volume/jupyter/szokereso/negyedikfeladatUjraHet/Főváros/szokeresores/clientreszurt/live_data_2020-07-02_16:04:45_szurt.csv', '/mnt/volume/jupyter/szokereso/negyedikfeladatUjraHet/Főváros/szokeresores/clientreszurt/live_data_2020-07-02_16:03:11_szurt.csv', '/mnt/volume/jupyter/szokereso/negyedikfeladatUjraHet/Főváros/szokeresores/clientreszurt/live_data_2020-07-02_11:45:46_szurt.csv', '/mnt/volume/jupyter/szokereso/negyedikfeladatUjraHet/Főváros/szokeresores/clientreszurt/live_data_2020-07-02_06:00:33_szurt.csv']\n",
      "['/mnt/volume/jupyter/szokereso/negyedikfeladatUjraHet/Főváros/szokeresores/clientreszurt/live_data_2020-07-03_17:40:15_szurt.csv', '/mnt/volume/jupyter/szokereso/negyedikfeladatUjraHet/Főváros/szokeresores/clientreszurt/live_data_2020-07-03_10:02:28_szurt.csv', '/mnt/volume/jupyter/szokereso/negyedikfeladatUjraHet/Főváros/szokeresores/clientreszurt/live_data_2020-07-03_14:03:28_szurt.csv', '/mnt/volume/jupyter/szokereso/negyedikfeladatUjraHet/Főváros/szokeresores/clientreszurt/live_data_2020-07-03_02:00:33_szurt.csv', '/mnt/volume/jupyter/szokereso/negyedikfeladatUjraHet/Főváros/szokeresores/clientreszurt/live_data_2020-07-03_08:01:41_szurt.csv', '/mnt/volume/jupyter/szokereso/negyedikfeladatUjraHet/Főváros/szokeresores/clientreszurt/live_data_2020-07-03_22:01:05_szurt.csv', '/mnt/volume/jupyter/szokereso/negyedikfeladatUjraHet/Főváros/szokeresores/clientreszurt/live_data_2020-07-03_12:04:01_szurt.csv', '/mnt/volume/jupyter/szokereso/negyedikfeladatUjraHet/Főváros/szokeresores/clientreszurt/live_data_2020-07-03_00:00:37_szurt.csv', '/mnt/volume/jupyter/szokereso/negyedikfeladatUjraHet/Főváros/szokeresores/clientreszurt/live_data_2020-07-03_04:00:33_szurt.csv', '/mnt/volume/jupyter/szokereso/negyedikfeladatUjraHet/Főváros/szokeresores/clientreszurt/live_data_2020-07-03_18:00:35_szurt.csv', '/mnt/volume/jupyter/szokereso/negyedikfeladatUjraHet/Főváros/szokeresores/clientreszurt/live_data_2020-07-03_20:01:06_szurt.csv', '/mnt/volume/jupyter/szokereso/negyedikfeladatUjraHet/Főváros/szokeresores/clientreszurt/live_data_2020-07-03_06:00:41_szurt.csv', '/mnt/volume/jupyter/szokereso/negyedikfeladatUjraHet/Főváros/szokeresores/clientreszurt/live_data_2020-07-03_16:03:54_szurt.csv']\n",
      "['/mnt/volume/jupyter/szokereso/negyedikfeladatUjraHet/Főváros/szokeresores/clientreszurt/live_data_2020-07-04_16:00:57_szurt.csv', '/mnt/volume/jupyter/szokereso/negyedikfeladatUjraHet/Főváros/szokeresores/clientreszurt/live_data_2020-07-04_06:00:25_szurt.csv', '/mnt/volume/jupyter/szokereso/negyedikfeladatUjraHet/Főváros/szokeresores/clientreszurt/live_data_2020-07-04_02:00:24_szurt.csv', '/mnt/volume/jupyter/szokereso/negyedikfeladatUjraHet/Főváros/szokeresores/clientreszurt/live_data_2020-07-04_04:00:24_szurt.csv', '/mnt/volume/jupyter/szokereso/negyedikfeladatUjraHet/Főváros/szokeresores/clientreszurt/live_data_2020-07-04_22:00:48_szurt.csv', '/mnt/volume/jupyter/szokereso/negyedikfeladatUjraHet/Főváros/szokeresores/clientreszurt/live_data_2020-07-04_20:01:11_szurt.csv', '/mnt/volume/jupyter/szokereso/negyedikfeladatUjraHet/Főváros/szokeresores/clientreszurt/live_data_2020-07-04_10:01:06_szurt.csv', '/mnt/volume/jupyter/szokereso/negyedikfeladatUjraHet/Főváros/szokeresores/clientreszurt/live_data_2020-07-04_14:01:03_szurt.csv', '/mnt/volume/jupyter/szokereso/negyedikfeladatUjraHet/Főváros/szokeresores/clientreszurt/live_data_2020-07-04_08:00:47_szurt.csv', '/mnt/volume/jupyter/szokereso/negyedikfeladatUjraHet/Főváros/szokeresores/clientreszurt/live_data_2020-07-04_18:00:52_szurt.csv', '/mnt/volume/jupyter/szokereso/negyedikfeladatUjraHet/Főváros/szokeresores/clientreszurt/live_data_2020-07-04_00:00:29_szurt.csv', '/mnt/volume/jupyter/szokereso/negyedikfeladatUjraHet/Főváros/szokeresores/clientreszurt/live_data_2020-07-04_12:01:08_szurt.csv']\n",
      "['/mnt/volume/jupyter/szokereso/negyedikfeladatUjraHet/Főváros/szokeresores/clientreszurt/live_data_2020-07-05_12:00:56_szurt.csv', '/mnt/volume/jupyter/szokereso/negyedikfeladatUjraHet/Főváros/szokeresores/clientreszurt/live_data_2020-07-05_16:01:12_szurt.csv', '/mnt/volume/jupyter/szokereso/negyedikfeladatUjraHet/Főváros/szokeresores/clientreszurt/live_data_2020-07-05_14:00:59_szurt.csv', '/mnt/volume/jupyter/szokereso/negyedikfeladatUjraHet/Főváros/szokeresores/clientreszurt/live_data_2020-07-05_22:00:44_szurt.csv', '/mnt/volume/jupyter/szokereso/negyedikfeladatUjraHet/Főváros/szokeresores/clientreszurt/live_data_2020-07-05_10:00:58_szurt.csv', '/mnt/volume/jupyter/szokereso/negyedikfeladatUjraHet/Főváros/szokeresores/clientreszurt/live_data_2020-07-05_04:00:20_szurt.csv', '/mnt/volume/jupyter/szokereso/negyedikfeladatUjraHet/Főváros/szokeresores/clientreszurt/live_data_2020-07-05_20:01:01_szurt.csv', '/mnt/volume/jupyter/szokereso/negyedikfeladatUjraHet/Főváros/szokeresores/clientreszurt/live_data_2020-07-05_06:00:22_szurt.csv', '/mnt/volume/jupyter/szokereso/negyedikfeladatUjraHet/Főváros/szokeresores/clientreszurt/live_data_2020-07-05_18:00:58_szurt.csv', '/mnt/volume/jupyter/szokereso/negyedikfeladatUjraHet/Főváros/szokeresores/clientreszurt/live_data_2020-07-05_02:00:21_szurt.csv', '/mnt/volume/jupyter/szokereso/negyedikfeladatUjraHet/Főváros/szokeresores/clientreszurt/live_data_2020-07-05_00:00:28_szurt.csv', '/mnt/volume/jupyter/szokereso/negyedikfeladatUjraHet/Főváros/szokeresores/clientreszurt/live_data_2020-07-05_08:00:32_szurt.csv']\n",
      "['/mnt/volume/jupyter/szokereso/negyedikfeladatUjraHet/Főváros/szokeresores/clientreszurt/live_data_2020-07-06_16:01:48_szurt.csv', '/mnt/volume/jupyter/szokereso/negyedikfeladatUjraHet/Főváros/szokeresores/clientreszurt/live_data_2020-07-06_18:01:19_szurt.csv', '/mnt/volume/jupyter/szokereso/negyedikfeladatUjraHet/Főváros/szokeresores/clientreszurt/live_data_2020-07-06_06:00:32_szurt.csv', '/mnt/volume/jupyter/szokereso/negyedikfeladatUjraHet/Főváros/szokeresores/clientreszurt/live_data_2020-07-06_08:01:20_szurt.csv', '/mnt/volume/jupyter/szokereso/negyedikfeladatUjraHet/Főváros/szokeresores/clientreszurt/live_data_2020-07-06_00:00:37_szurt.csv', '/mnt/volume/jupyter/szokereso/negyedikfeladatUjraHet/Főváros/szokeresores/clientreszurt/live_data_2020-07-06_14:02:23_szurt.csv', '/mnt/volume/jupyter/szokereso/negyedikfeladatUjraHet/Főváros/szokeresores/clientreszurt/live_data_2020-07-06_20:01:13_szurt.csv', '/mnt/volume/jupyter/szokereso/negyedikfeladatUjraHet/Főváros/szokeresores/clientreszurt/live_data_2020-07-06_22:01:08_szurt.csv', '/mnt/volume/jupyter/szokereso/negyedikfeladatUjraHet/Főváros/szokeresores/clientreszurt/live_data_2020-07-06_12:02:00_szurt.csv', '/mnt/volume/jupyter/szokereso/negyedikfeladatUjraHet/Főváros/szokeresores/clientreszurt/live_data_2020-07-06_10:02:08_szurt.csv', '/mnt/volume/jupyter/szokereso/negyedikfeladatUjraHet/Főváros/szokeresores/clientreszurt/live_data_2020-07-06_04:00:22_szurt.csv', '/mnt/volume/jupyter/szokereso/negyedikfeladatUjraHet/Főváros/szokeresores/clientreszurt/live_data_2020-07-06_02:00:21_szurt.csv']\n",
      "['/mnt/volume/jupyter/szokereso/negyedikfeladatUjraHet/Főváros/szokeresores/clientreszurt/live_data_2020-07-07_00:00:40_szurt.csv', '/mnt/volume/jupyter/szokereso/negyedikfeladatUjraHet/Főváros/szokeresores/clientreszurt/live_data_2020-07-07_10:01:57_szurt.csv', '/mnt/volume/jupyter/szokereso/negyedikfeladatUjraHet/Főváros/szokeresores/clientreszurt/live_data_2020-07-07_12:02:14_szurt.csv', '/mnt/volume/jupyter/szokereso/negyedikfeladatUjraHet/Főváros/szokeresores/clientreszurt/live_data_2020-07-07_20:01:16_szurt.csv', '/mnt/volume/jupyter/szokereso/negyedikfeladatUjraHet/Főváros/szokeresores/clientreszurt/live_data_2020-07-07_16:02:12_szurt.csv', '/mnt/volume/jupyter/szokereso/negyedikfeladatUjraHet/Főváros/szokeresores/clientreszurt/live_data_2020-07-07_22:01:26_szurt.csv', '/mnt/volume/jupyter/szokereso/negyedikfeladatUjraHet/Főváros/szokeresores/clientreszurt/live_data_2020-07-07_18:01:37_szurt.csv', '/mnt/volume/jupyter/szokereso/negyedikfeladatUjraHet/Főváros/szokeresores/clientreszurt/live_data_2020-07-07_06:00:28_szurt.csv', '/mnt/volume/jupyter/szokereso/negyedikfeladatUjraHet/Főváros/szokeresores/clientreszurt/live_data_2020-07-07_04:00:24_szurt.csv', '/mnt/volume/jupyter/szokereso/negyedikfeladatUjraHet/Főváros/szokeresores/clientreszurt/live_data_2020-07-07_08:01:08_szurt.csv', '/mnt/volume/jupyter/szokereso/negyedikfeladatUjraHet/Főváros/szokeresores/clientreszurt/live_data_2020-07-07_02:00:22_szurt.csv', '/mnt/volume/jupyter/szokereso/negyedikfeladatUjraHet/Főváros/szokeresores/clientreszurt/live_data_2020-07-07_14:02:25_szurt.csv']\n",
      "['/mnt/volume/jupyter/szokereso/negyedikfeladatUjraHet/Főváros/szokeresores/clientreszurt/live_data_2020-07-08_18:02:01_szurt.csv', '/mnt/volume/jupyter/szokereso/negyedikfeladatUjraHet/Főváros/szokeresores/clientreszurt/live_data_2020-07-08_14:01:51_szurt.csv', '/mnt/volume/jupyter/szokereso/negyedikfeladatUjraHet/Főváros/szokeresores/clientreszurt/live_data_2020-07-08_06:00:35_szurt.csv', '/mnt/volume/jupyter/szokereso/negyedikfeladatUjraHet/Főváros/szokeresores/clientreszurt/live_data_2020-07-08_02:00:22_szurt.csv', '/mnt/volume/jupyter/szokereso/negyedikfeladatUjraHet/Főváros/szokeresores/clientreszurt/live_data_2020-07-08_12:01:14_szurt.csv', '/mnt/volume/jupyter/szokereso/negyedikfeladatUjraHet/Főváros/szokeresores/clientreszurt/live_data_2020-07-08_08:01:15_szurt.csv', '/mnt/volume/jupyter/szokereso/negyedikfeladatUjraHet/Főváros/szokeresores/clientreszurt/live_data_2020-07-08_16:02:11_szurt.csv', '/mnt/volume/jupyter/szokereso/negyedikfeladatUjraHet/Főváros/szokeresores/clientreszurt/live_data_2020-07-08_00:00:31_szurt.csv', '/mnt/volume/jupyter/szokereso/negyedikfeladatUjraHet/Főváros/szokeresores/clientreszurt/live_data_2020-07-08_20:01:26_szurt.csv', '/mnt/volume/jupyter/szokereso/negyedikfeladatUjraHet/Főváros/szokeresores/clientreszurt/live_data_2020-07-08_22:01:11_szurt.csv', '/mnt/volume/jupyter/szokereso/negyedikfeladatUjraHet/Főváros/szokeresores/clientreszurt/live_data_2020-07-08_10:01:55_szurt.csv', '/mnt/volume/jupyter/szokereso/negyedikfeladatUjraHet/Főváros/szokeresores/clientreszurt/live_data_2020-07-08_04:00:26_szurt.csv']\n",
      "['/mnt/volume/jupyter/szokereso/negyedikfeladatUjraHet/Főváros/szokeresores/clientreszurt/live_data_2020-07-09_14:02:05_szurt.csv', '/mnt/volume/jupyter/szokereso/negyedikfeladatUjraHet/Főváros/szokeresores/clientreszurt/live_data_2020-07-09_12:02:50_szurt.csv', '/mnt/volume/jupyter/szokereso/negyedikfeladatUjraHet/Főváros/szokeresores/clientreszurt/live_data_2020-07-09_16:01:56_szurt.csv', '/mnt/volume/jupyter/szokereso/negyedikfeladatUjraHet/Főváros/szokeresores/clientreszurt/live_data_2020-07-09_10:02:23_szurt.csv', '/mnt/volume/jupyter/szokereso/negyedikfeladatUjraHet/Főváros/szokeresores/clientreszurt/live_data_2020-07-09_04:00:26_szurt.csv', '/mnt/volume/jupyter/szokereso/negyedikfeladatUjraHet/Főváros/szokeresores/clientreszurt/live_data_2020-07-09_08:01:14_szurt.csv', '/mnt/volume/jupyter/szokereso/negyedikfeladatUjraHet/Főváros/szokeresores/clientreszurt/live_data_2020-07-09_06:00:31_szurt.csv', '/mnt/volume/jupyter/szokereso/negyedikfeladatUjraHet/Főváros/szokeresores/clientreszurt/live_data_2020-07-09_18:01:40_szurt.csv', '/mnt/volume/jupyter/szokereso/negyedikfeladatUjraHet/Főváros/szokeresores/clientreszurt/live_data_2020-07-09_22:00:58_szurt.csv', '/mnt/volume/jupyter/szokereso/negyedikfeladatUjraHet/Főváros/szokeresores/clientreszurt/live_data_2020-07-09_02:00:22_szurt.csv', '/mnt/volume/jupyter/szokereso/negyedikfeladatUjraHet/Főváros/szokeresores/clientreszurt/live_data_2020-07-09_20:01:46_szurt.csv', '/mnt/volume/jupyter/szokereso/negyedikfeladatUjraHet/Főváros/szokeresores/clientreszurt/live_data_2020-07-09_00:00:37_szurt.csv']\n",
      "['/mnt/volume/jupyter/szokereso/negyedikfeladatUjraHet/Főváros/szokeresores/clientreszurt/live_data_2020-07-10_20:01:25_szurt.csv', '/mnt/volume/jupyter/szokereso/negyedikfeladatUjraHet/Főváros/szokeresores/clientreszurt/live_data_2020-07-10_02:00:22_szurt.csv', '/mnt/volume/jupyter/szokereso/negyedikfeladatUjraHet/Főváros/szokeresores/clientreszurt/live_data_2020-07-10_18:01:30_szurt.csv', '/mnt/volume/jupyter/szokereso/negyedikfeladatUjraHet/Főváros/szokeresores/clientreszurt/live_data_2020-07-10_04:00:26_szurt.csv', '/mnt/volume/jupyter/szokereso/negyedikfeladatUjraHet/Főváros/szokeresores/clientreszurt/live_data_2020-07-10_10:01:48_szurt.csv', '/mnt/volume/jupyter/szokereso/negyedikfeladatUjraHet/Főváros/szokeresores/clientreszurt/live_data_2020-07-10_14:01:53_szurt.csv', '/mnt/volume/jupyter/szokereso/negyedikfeladatUjraHet/Főváros/szokeresores/clientreszurt/live_data_2020-07-10_06:00:31_szurt.csv', '/mnt/volume/jupyter/szokereso/negyedikfeladatUjraHet/Főváros/szokeresores/clientreszurt/live_data_2020-07-10_22:01:08_szurt.csv', '/mnt/volume/jupyter/szokereso/negyedikfeladatUjraHet/Főváros/szokeresores/clientreszurt/live_data_2020-07-10_16:01:53_szurt.csv', '/mnt/volume/jupyter/szokereso/negyedikfeladatUjraHet/Főváros/szokeresores/clientreszurt/live_data_2020-07-10_08:01:10_szurt.csv', '/mnt/volume/jupyter/szokereso/negyedikfeladatUjraHet/Főváros/szokeresores/clientreszurt/live_data_2020-07-10_00:00:28_szurt.csv', '/mnt/volume/jupyter/szokereso/negyedikfeladatUjraHet/Főváros/szokeresores/clientreszurt/live_data_2020-07-10_12:02:12_szurt.csv']\n",
      "['/mnt/volume/jupyter/szokereso/negyedikfeladatUjraHet/Főváros/szokeresores/clientreszurt/live_data_2020-07-11_14:01:00_szurt.csv', '/mnt/volume/jupyter/szokereso/negyedikfeladatUjraHet/Főváros/szokeresores/clientreszurt/live_data_2020-07-11_10:01:15_szurt.csv', '/mnt/volume/jupyter/szokereso/negyedikfeladatUjraHet/Főváros/szokeresores/clientreszurt/live_data_2020-07-11_12:01:07_szurt.csv', '/mnt/volume/jupyter/szokereso/negyedikfeladatUjraHet/Főváros/szokeresores/clientreszurt/live_data_2020-07-11_08:00:40_szurt.csv', '/mnt/volume/jupyter/szokereso/negyedikfeladatUjraHet/Főváros/szokeresores/clientreszurt/live_data_2020-07-11_06:00:24_szurt.csv', '/mnt/volume/jupyter/szokereso/negyedikfeladatUjraHet/Főváros/szokeresores/clientreszurt/live_data_2020-07-11_00:00:35_szurt.csv', '/mnt/volume/jupyter/szokereso/negyedikfeladatUjraHet/Főváros/szokeresores/clientreszurt/live_data_2020-07-11_22:00:52_szurt.csv', '/mnt/volume/jupyter/szokereso/negyedikfeladatUjraHet/Főváros/szokeresores/clientreszurt/live_data_2020-07-11_02:00:25_szurt.csv', '/mnt/volume/jupyter/szokereso/negyedikfeladatUjraHet/Főváros/szokeresores/clientreszurt/live_data_2020-07-11_16:00:56_szurt.csv', '/mnt/volume/jupyter/szokereso/negyedikfeladatUjraHet/Főváros/szokeresores/clientreszurt/live_data_2020-07-11_04:00:24_szurt.csv', '/mnt/volume/jupyter/szokereso/negyedikfeladatUjraHet/Főváros/szokeresores/clientreszurt/live_data_2020-07-11_18:01:05_szurt.csv', '/mnt/volume/jupyter/szokereso/negyedikfeladatUjraHet/Főváros/szokeresores/clientreszurt/live_data_2020-07-11_20:00:49_szurt.csv']\n",
      "['/mnt/volume/jupyter/szokereso/negyedikfeladatUjraHet/Főváros/szokeresores/clientreszurt/live_data_2020-07-12_18:01:15_szurt.csv', '/mnt/volume/jupyter/szokereso/negyedikfeladatUjraHet/Főváros/szokeresores/clientreszurt/live_data_2020-07-12_06:00:27_szurt.csv', '/mnt/volume/jupyter/szokereso/negyedikfeladatUjraHet/Főváros/szokeresores/clientreszurt/live_data_2020-07-12_00:00:27_szurt.csv', '/mnt/volume/jupyter/szokereso/negyedikfeladatUjraHet/Főváros/szokeresores/clientreszurt/live_data_2020-07-12_14:00:54_szurt.csv', '/mnt/volume/jupyter/szokereso/negyedikfeladatUjraHet/Főváros/szokeresores/clientreszurt/live_data_2020-07-12_02:00:23_szurt.csv', '/mnt/volume/jupyter/szokereso/negyedikfeladatUjraHet/Főváros/szokeresores/clientreszurt/live_data_2020-07-12_08:00:41_szurt.csv', '/mnt/volume/jupyter/szokereso/negyedikfeladatUjraHet/Főváros/szokeresores/clientreszurt/live_data_2020-07-12_16:00:53_szurt.csv', '/mnt/volume/jupyter/szokereso/negyedikfeladatUjraHet/Főváros/szokeresores/clientreszurt/live_data_2020-07-12_10:01:01_szurt.csv', '/mnt/volume/jupyter/szokereso/negyedikfeladatUjraHet/Főváros/szokeresores/clientreszurt/live_data_2020-07-12_04:00:24_szurt.csv', '/mnt/volume/jupyter/szokereso/negyedikfeladatUjraHet/Főváros/szokeresores/clientreszurt/live_data_2020-07-12_20:01:01_szurt.csv', '/mnt/volume/jupyter/szokereso/negyedikfeladatUjraHet/Főváros/szokeresores/clientreszurt/live_data_2020-07-12_12:00:57_szurt.csv', '/mnt/volume/jupyter/szokereso/negyedikfeladatUjraHet/Főváros/szokeresores/clientreszurt/live_data_2020-07-12_22:00:49_szurt.csv']\n",
      "['/mnt/volume/jupyter/szokereso/negyedikfeladatUjraHet/Főváros/szokeresores/clientreszurt/live_data_2020-07-13_08:01:14_szurt.csv', '/mnt/volume/jupyter/szokereso/negyedikfeladatUjraHet/Főváros/szokeresores/clientreszurt/live_data_2020-07-13_02:00:24_szurt.csv', '/mnt/volume/jupyter/szokereso/negyedikfeladatUjraHet/Főváros/szokeresores/clientreszurt/live_data_2020-07-13_20:01:16_szurt.csv', '/mnt/volume/jupyter/szokereso/negyedikfeladatUjraHet/Főváros/szokeresores/clientreszurt/live_data_2020-07-13_16:02:39_szurt.csv', '/mnt/volume/jupyter/szokereso/negyedikfeladatUjraHet/Főváros/szokeresores/clientreszurt/live_data_2020-07-13_10:01:58_szurt.csv', '/mnt/volume/jupyter/szokereso/negyedikfeladatUjraHet/Főváros/szokeresores/clientreszurt/live_data_2020-07-13_00:00:24_szurt.csv', '/mnt/volume/jupyter/szokereso/negyedikfeladatUjraHet/Főváros/szokeresores/clientreszurt/live_data_2020-07-13_06:00:26_szurt.csv', '/mnt/volume/jupyter/szokereso/negyedikfeladatUjraHet/Főváros/szokeresores/clientreszurt/live_data_2020-07-13_22:01:03_szurt.csv', '/mnt/volume/jupyter/szokereso/negyedikfeladatUjraHet/Főváros/szokeresores/clientreszurt/live_data_2020-07-13_18:02:12_szurt.csv', '/mnt/volume/jupyter/szokereso/negyedikfeladatUjraHet/Főváros/szokeresores/clientreszurt/live_data_2020-07-13_12:02:41_szurt.csv', '/mnt/volume/jupyter/szokereso/negyedikfeladatUjraHet/Főváros/szokeresores/clientreszurt/live_data_2020-07-13_04:00:26_szurt.csv', '/mnt/volume/jupyter/szokereso/negyedikfeladatUjraHet/Főváros/szokeresores/clientreszurt/live_data_2020-07-13_14:01:54_szurt.csv']\n"
     ]
    },
    {
     "name": "stdout",
     "output_type": "stream",
     "text": [
      "['/mnt/volume/jupyter/szokereso/negyedikfeladatUjraHet/Főváros/szokeresores/clientreszurt/live_data_2020-07-14_02:00:22_szurt.csv', '/mnt/volume/jupyter/szokereso/negyedikfeladatUjraHet/Főváros/szokeresores/clientreszurt/live_data_2020-07-14_10:01:54_szurt.csv', '/mnt/volume/jupyter/szokereso/negyedikfeladatUjraHet/Főváros/szokeresores/clientreszurt/live_data_2020-07-14_04:00:23_szurt.csv', '/mnt/volume/jupyter/szokereso/negyedikfeladatUjraHet/Főváros/szokeresores/clientreszurt/live_data_2020-07-14_20:01:09_szurt.csv', '/mnt/volume/jupyter/szokereso/negyedikfeladatUjraHet/Főváros/szokeresores/clientreszurt/live_data_2020-07-14_06:00:37_szurt.csv', '/mnt/volume/jupyter/szokereso/negyedikfeladatUjraHet/Főváros/szokeresores/clientreszurt/live_data_2020-07-14_14:02:19_szurt.csv', '/mnt/volume/jupyter/szokereso/negyedikfeladatUjraHet/Főváros/szokeresores/clientreszurt/live_data_2020-07-14_12:02:40_szurt.csv', '/mnt/volume/jupyter/szokereso/negyedikfeladatUjraHet/Főváros/szokeresores/clientreszurt/live_data_2020-07-14_00:00:36_szurt.csv', '/mnt/volume/jupyter/szokereso/negyedikfeladatUjraHet/Főváros/szokeresores/clientreszurt/live_data_2020-07-14_16:02:07_szurt.csv', '/mnt/volume/jupyter/szokereso/negyedikfeladatUjraHet/Főváros/szokeresores/clientreszurt/live_data_2020-07-14_18:01:45_szurt.csv', '/mnt/volume/jupyter/szokereso/negyedikfeladatUjraHet/Főváros/szokeresores/clientreszurt/live_data_2020-07-14_22:01:03_szurt.csv', '/mnt/volume/jupyter/szokereso/negyedikfeladatUjraHet/Főváros/szokeresores/clientreszurt/live_data_2020-07-14_08:00:55_szurt.csv']\n",
      "['/mnt/volume/jupyter/szokereso/negyedikfeladatUjraHet/Főváros/szokeresores/clientreszurt/live_data_2020-07-15_02:00:22_szurt.csv', '/mnt/volume/jupyter/szokereso/negyedikfeladatUjraHet/Főváros/szokeresores/clientreszurt/live_data_2020-07-15_06:00:30_szurt.csv', '/mnt/volume/jupyter/szokereso/negyedikfeladatUjraHet/Főváros/szokeresores/clientreszurt/live_data_2020-07-15_22:01:03_szurt.csv', '/mnt/volume/jupyter/szokereso/negyedikfeladatUjraHet/Főváros/szokeresores/clientreszurt/live_data_2020-07-15_04:00:23_szurt.csv', '/mnt/volume/jupyter/szokereso/negyedikfeladatUjraHet/Főváros/szokeresores/clientreszurt/live_data_2020-07-15_00:00:31_szurt.csv', '/mnt/volume/jupyter/szokereso/negyedikfeladatUjraHet/Főváros/szokeresores/clientreszurt/live_data_2020-07-15_08:01:02_szurt.csv', '/mnt/volume/jupyter/szokereso/negyedikfeladatUjraHet/Főváros/szokeresores/clientreszurt/live_data_2020-07-15_14:01:40_szurt.csv', '/mnt/volume/jupyter/szokereso/negyedikfeladatUjraHet/Főváros/szokeresores/clientreszurt/live_data_2020-07-15_16:01:59_szurt.csv', '/mnt/volume/jupyter/szokereso/negyedikfeladatUjraHet/Főváros/szokeresores/clientreszurt/live_data_2020-07-15_20:01:30_szurt.csv', '/mnt/volume/jupyter/szokereso/negyedikfeladatUjraHet/Főváros/szokeresores/clientreszurt/live_data_2020-07-15_12:02:03_szurt.csv', '/mnt/volume/jupyter/szokereso/negyedikfeladatUjraHet/Főváros/szokeresores/clientreszurt/live_data_2020-07-15_18:01:54_szurt.csv', '/mnt/volume/jupyter/szokereso/negyedikfeladatUjraHet/Főváros/szokeresores/clientreszurt/live_data_2020-07-15_10:01:58_szurt.csv']\n",
      "['/mnt/volume/jupyter/szokereso/negyedikfeladatUjraHet/Főváros/szokeresores/clientreszurt/live_data_2020-07-16_12:02:31_szurt.csv', '/mnt/volume/jupyter/szokereso/negyedikfeladatUjraHet/Főváros/szokeresores/clientreszurt/live_data_2020-07-16_06:00:28_szurt.csv', '/mnt/volume/jupyter/szokereso/negyedikfeladatUjraHet/Főváros/szokeresores/clientreszurt/live_data_2020-07-16_20:01:28_szurt.csv', '/mnt/volume/jupyter/szokereso/negyedikfeladatUjraHet/Főváros/szokeresores/clientreszurt/live_data_2020-07-16_08:01:07_szurt.csv', '/mnt/volume/jupyter/szokereso/negyedikfeladatUjraHet/Főváros/szokeresores/clientreszurt/live_data_2020-07-16_00:00:31_szurt.csv', '/mnt/volume/jupyter/szokereso/negyedikfeladatUjraHet/Főváros/szokeresores/clientreszurt/live_data_2020-07-16_22:01:19_szurt.csv', '/mnt/volume/jupyter/szokereso/negyedikfeladatUjraHet/Főváros/szokeresores/clientreszurt/live_data_2020-07-16_14:01:53_szurt.csv', '/mnt/volume/jupyter/szokereso/negyedikfeladatUjraHet/Főváros/szokeresores/clientreszurt/live_data_2020-07-16_02:00:21_szurt.csv', '/mnt/volume/jupyter/szokereso/negyedikfeladatUjraHet/Főváros/szokeresores/clientreszurt/live_data_2020-07-16_16:02:30_szurt.csv', '/mnt/volume/jupyter/szokereso/negyedikfeladatUjraHet/Főváros/szokeresores/clientreszurt/live_data_2020-07-16_10:01:53_szurt.csv', '/mnt/volume/jupyter/szokereso/negyedikfeladatUjraHet/Főváros/szokeresores/clientreszurt/live_data_2020-07-16_04:00:27_szurt.csv', '/mnt/volume/jupyter/szokereso/negyedikfeladatUjraHet/Főváros/szokeresores/clientreszurt/live_data_2020-07-16_18:01:30_szurt.csv']\n",
      "['/mnt/volume/jupyter/szokereso/negyedikfeladatUjraHet/Főváros/szokeresores/clientreszurt/live_data_2020-07-17_12:02:06_szurt.csv', '/mnt/volume/jupyter/szokereso/negyedikfeladatUjraHet/Főváros/szokeresores/clientreszurt/live_data_2020-07-17_02:00:23_szurt.csv', '/mnt/volume/jupyter/szokereso/negyedikfeladatUjraHet/Főváros/szokeresores/clientreszurt/live_data_2020-07-17_20:01:21_szurt.csv', '/mnt/volume/jupyter/szokereso/negyedikfeladatUjraHet/Főváros/szokeresores/clientreszurt/live_data_2020-07-17_06:00:28_szurt.csv', '/mnt/volume/jupyter/szokereso/negyedikfeladatUjraHet/Főváros/szokeresores/clientreszurt/live_data_2020-07-17_14:02:12_szurt.csv', '/mnt/volume/jupyter/szokereso/negyedikfeladatUjraHet/Főváros/szokeresores/clientreszurt/live_data_2020-07-17_10:01:53_szurt.csv', '/mnt/volume/jupyter/szokereso/negyedikfeladatUjraHet/Főváros/szokeresores/clientreszurt/live_data_2020-07-17_18:01:56_szurt.csv', '/mnt/volume/jupyter/szokereso/negyedikfeladatUjraHet/Főváros/szokeresores/clientreszurt/live_data_2020-07-17_16:01:54_szurt.csv', '/mnt/volume/jupyter/szokereso/negyedikfeladatUjraHet/Főváros/szokeresores/clientreszurt/live_data_2020-07-17_00:00:31_szurt.csv', '/mnt/volume/jupyter/szokereso/negyedikfeladatUjraHet/Főváros/szokeresores/clientreszurt/live_data_2020-07-17_08:01:07_szurt.csv', '/mnt/volume/jupyter/szokereso/negyedikfeladatUjraHet/Főváros/szokeresores/clientreszurt/live_data_2020-07-17_04:00:25_szurt.csv', '/mnt/volume/jupyter/szokereso/negyedikfeladatUjraHet/Főváros/szokeresores/clientreszurt/live_data_2020-07-17_22:01:17_szurt.csv']\n",
      "['/mnt/volume/jupyter/szokereso/negyedikfeladatUjraHet/Főváros/szokeresores/clientreszurt/live_data_2020-07-18_02:00:46_szurt.csv', '/mnt/volume/jupyter/szokereso/negyedikfeladatUjraHet/Főváros/szokeresores/clientreszurt/live_data_2020-07-18_20:00:52_szurt.csv', '/mnt/volume/jupyter/szokereso/negyedikfeladatUjraHet/Főváros/szokeresores/clientreszurt/live_data_2020-07-18_04:00:27_szurt.csv', '/mnt/volume/jupyter/szokereso/negyedikfeladatUjraHet/Főváros/szokeresores/clientreszurt/live_data_2020-07-18_18:01:42_szurt.csv', '/mnt/volume/jupyter/szokereso/negyedikfeladatUjraHet/Főváros/szokeresores/clientreszurt/live_data_2020-07-18_08:00:46_szurt.csv', '/mnt/volume/jupyter/szokereso/negyedikfeladatUjraHet/Főváros/szokeresores/clientreszurt/live_data_2020-07-18_06:00:28_szurt.csv', '/mnt/volume/jupyter/szokereso/negyedikfeladatUjraHet/Főváros/szokeresores/clientreszurt/live_data_2020-07-18_10:01:07_szurt.csv', '/mnt/volume/jupyter/szokereso/negyedikfeladatUjraHet/Főváros/szokeresores/clientreszurt/live_data_2020-07-18_16:01:09_szurt.csv', '/mnt/volume/jupyter/szokereso/negyedikfeladatUjraHet/Főváros/szokeresores/clientreszurt/live_data_2020-07-18_22:00:44_szurt.csv', '/mnt/volume/jupyter/szokereso/negyedikfeladatUjraHet/Főváros/szokeresores/clientreszurt/live_data_2020-07-18_12:01:01_szurt.csv', '/mnt/volume/jupyter/szokereso/negyedikfeladatUjraHet/Főváros/szokeresores/clientreszurt/live_data_2020-07-18_14:00:57_szurt.csv']\n",
      "['/mnt/volume/jupyter/szokereso/negyedikfeladatUjraHet/Főváros/szokeresores/clientreszurt/live_data_2020-07-19_14:01:05_szurt.csv', '/mnt/volume/jupyter/szokereso/negyedikfeladatUjraHet/Főváros/szokeresores/clientreszurt/live_data_2020-07-19_22:00:48_szurt.csv', '/mnt/volume/jupyter/szokereso/negyedikfeladatUjraHet/Főváros/szokeresores/clientreszurt/live_data_2020-07-19_02:00:24_szurt.csv', '/mnt/volume/jupyter/szokereso/negyedikfeladatUjraHet/Főváros/szokeresores/clientreszurt/live_data_2020-07-19_20:01:11_szurt.csv', '/mnt/volume/jupyter/szokereso/negyedikfeladatUjraHet/Főváros/szokeresores/clientreszurt/live_data_2020-07-19_18:01:05_szurt.csv', '/mnt/volume/jupyter/szokereso/negyedikfeladatUjraHet/Főváros/szokeresores/clientreszurt/live_data_2020-07-19_12:01:25_szurt.csv', '/mnt/volume/jupyter/szokereso/negyedikfeladatUjraHet/Főváros/szokeresores/clientreszurt/live_data_2020-07-19_08:04:03_szurt.csv', '/mnt/volume/jupyter/szokereso/negyedikfeladatUjraHet/Főváros/szokeresores/clientreszurt/live_data_2020-07-19_04:00:23_szurt.csv', '/mnt/volume/jupyter/szokereso/negyedikfeladatUjraHet/Főváros/szokeresores/clientreszurt/live_data_2020-07-19_06:00:30_szurt.csv', '/mnt/volume/jupyter/szokereso/negyedikfeladatUjraHet/Főváros/szokeresores/clientreszurt/live_data_2020-07-19_10:01:14_szurt.csv', '/mnt/volume/jupyter/szokereso/negyedikfeladatUjraHet/Főváros/szokeresores/clientreszurt/live_data_2020-07-19_16:01:09_szurt.csv', '/mnt/volume/jupyter/szokereso/negyedikfeladatUjraHet/Főváros/szokeresores/clientreszurt/live_data_2020-07-19_00:00:45_szurt.csv']\n",
      "['/mnt/volume/jupyter/szokereso/negyedikfeladatUjraHet/Főváros/szokeresores/clientreszurt/live_data_2020-07-20_02:00:23_szurt.csv', '/mnt/volume/jupyter/szokereso/negyedikfeladatUjraHet/Főváros/szokeresores/clientreszurt/live_data_2020-07-20_12:02:08_szurt.csv', '/mnt/volume/jupyter/szokereso/negyedikfeladatUjraHet/Főváros/szokeresores/clientreszurt/live_data_2020-07-20_10:01:48_szurt.csv', '/mnt/volume/jupyter/szokereso/negyedikfeladatUjraHet/Főváros/szokeresores/clientreszurt/live_data_2020-07-20_20:01:30_szurt.csv', '/mnt/volume/jupyter/szokereso/negyedikfeladatUjraHet/Főváros/szokeresores/clientreszurt/live_data_2020-07-20_22:01:18_szurt.csv', '/mnt/volume/jupyter/szokereso/negyedikfeladatUjraHet/Főváros/szokeresores/clientreszurt/live_data_2020-07-20_00:00:28_szurt.csv', '/mnt/volume/jupyter/szokereso/negyedikfeladatUjraHet/Főváros/szokeresores/clientreszurt/live_data_2020-07-20_18:01:53_szurt.csv', '/mnt/volume/jupyter/szokereso/negyedikfeladatUjraHet/Főváros/szokeresores/clientreszurt/live_data_2020-07-20_16:02:22_szurt.csv', '/mnt/volume/jupyter/szokereso/negyedikfeladatUjraHet/Főváros/szokeresores/clientreszurt/live_data_2020-07-20_08:01:06_szurt.csv', '/mnt/volume/jupyter/szokereso/negyedikfeladatUjraHet/Főváros/szokeresores/clientreszurt/live_data_2020-07-20_06:00:26_szurt.csv', '/mnt/volume/jupyter/szokereso/negyedikfeladatUjraHet/Főváros/szokeresores/clientreszurt/live_data_2020-07-20_14:02:12_szurt.csv', '/mnt/volume/jupyter/szokereso/negyedikfeladatUjraHet/Főváros/szokeresores/clientreszurt/live_data_2020-07-20_04:00:26_szurt.csv']\n",
      "['/mnt/volume/jupyter/szokereso/negyedikfeladatUjraHet/Főváros/szokeresores/clientreszurt/live_data_2020-07-21_08:01:12_szurt.csv', '/mnt/volume/jupyter/szokereso/negyedikfeladatUjraHet/Főváros/szokeresores/clientreszurt/live_data_2020-07-21_04:00:26_szurt.csv', '/mnt/volume/jupyter/szokereso/negyedikfeladatUjraHet/Főváros/szokeresores/clientreszurt/live_data_2020-07-21_10:01:44_szurt.csv', '/mnt/volume/jupyter/szokereso/negyedikfeladatUjraHet/Főváros/szokeresores/clientreszurt/live_data_2020-07-21_06:00:34_szurt.csv', '/mnt/volume/jupyter/szokereso/negyedikfeladatUjraHet/Főváros/szokeresores/clientreszurt/live_data_2020-07-21_16:02:26_szurt.csv', '/mnt/volume/jupyter/szokereso/negyedikfeladatUjraHet/Főváros/szokeresores/clientreszurt/live_data_2020-07-21_18:01:35_szurt.csv', '/mnt/volume/jupyter/szokereso/negyedikfeladatUjraHet/Főváros/szokeresores/clientreszurt/live_data_2020-07-21_22:01:12_szurt.csv', '/mnt/volume/jupyter/szokereso/negyedikfeladatUjraHet/Főváros/szokeresores/clientreszurt/live_data_2020-07-21_20:01:41_szurt.csv', '/mnt/volume/jupyter/szokereso/negyedikfeladatUjraHet/Főváros/szokeresores/clientreszurt/live_data_2020-07-21_14:01:41_szurt.csv', '/mnt/volume/jupyter/szokereso/negyedikfeladatUjraHet/Főváros/szokeresores/clientreszurt/live_data_2020-07-21_00:00:30_szurt.csv', '/mnt/volume/jupyter/szokereso/negyedikfeladatUjraHet/Főváros/szokeresores/clientreszurt/live_data_2020-07-21_02:00:23_szurt.csv', '/mnt/volume/jupyter/szokereso/negyedikfeladatUjraHet/Főváros/szokeresores/clientreszurt/live_data_2020-07-21_12:02:36_szurt.csv']\n",
      "['/mnt/volume/jupyter/szokereso/negyedikfeladatUjraHet/Főváros/szokeresores/clientreszurt/live_data_2020-07-22_14:01:30_szurt.csv', '/mnt/volume/jupyter/szokereso/negyedikfeladatUjraHet/Főváros/szokeresores/clientreszurt/live_data_2020-07-22_20:01:08_szurt.csv', '/mnt/volume/jupyter/szokereso/negyedikfeladatUjraHet/Főváros/szokeresores/clientreszurt/live_data_2020-07-22_08:01:16_szurt.csv', '/mnt/volume/jupyter/szokereso/negyedikfeladatUjraHet/Főváros/szokeresores/clientreszurt/live_data_2020-07-22_18:01:28_szurt.csv', '/mnt/volume/jupyter/szokereso/negyedikfeladatUjraHet/Főváros/szokeresores/clientreszurt/live_data_2020-07-22_04:00:25_szurt.csv', '/mnt/volume/jupyter/szokereso/negyedikfeladatUjraHet/Főváros/szokeresores/clientreszurt/live_data_2020-07-22_10:01:56_szurt.csv', '/mnt/volume/jupyter/szokereso/negyedikfeladatUjraHet/Főváros/szokeresores/clientreszurt/live_data_2020-07-22_22:00:56_szurt.csv', '/mnt/volume/jupyter/szokereso/negyedikfeladatUjraHet/Főváros/szokeresores/clientreszurt/live_data_2020-07-22_16:01:47_szurt.csv', '/mnt/volume/jupyter/szokereso/negyedikfeladatUjraHet/Főváros/szokeresores/clientreszurt/live_data_2020-07-22_00:00:29_szurt.csv', '/mnt/volume/jupyter/szokereso/negyedikfeladatUjraHet/Főváros/szokeresores/clientreszurt/live_data_2020-07-22_02:00:21_szurt.csv', '/mnt/volume/jupyter/szokereso/negyedikfeladatUjraHet/Főváros/szokeresores/clientreszurt/live_data_2020-07-22_12:02:17_szurt.csv', '/mnt/volume/jupyter/szokereso/negyedikfeladatUjraHet/Főváros/szokeresores/clientreszurt/live_data_2020-07-22_06:00:35_szurt.csv']\n",
      "['/mnt/volume/jupyter/szokereso/negyedikfeladatUjraHet/Főváros/szokeresores/clientreszurt/live_data_2020-07-23_02:00:24_szurt.csv', '/mnt/volume/jupyter/szokereso/negyedikfeladatUjraHet/Főváros/szokeresores/clientreszurt/live_data_2020-07-23_04:00:25_szurt.csv', '/mnt/volume/jupyter/szokereso/negyedikfeladatUjraHet/Főváros/szokeresores/clientreszurt/live_data_2020-07-23_14:01:27_szurt.csv', '/mnt/volume/jupyter/szokereso/negyedikfeladatUjraHet/Főváros/szokeresores/clientreszurt/live_data_2020-07-23_18:01:40_szurt.csv', '/mnt/volume/jupyter/szokereso/negyedikfeladatUjraHet/Főváros/szokeresores/clientreszurt/live_data_2020-07-23_20:01:14_szurt.csv', '/mnt/volume/jupyter/szokereso/negyedikfeladatUjraHet/Főváros/szokeresores/clientreszurt/live_data_2020-07-23_16:01:35_szurt.csv', '/mnt/volume/jupyter/szokereso/negyedikfeladatUjraHet/Főváros/szokeresores/clientreszurt/live_data_2020-07-23_00:00:28_szurt.csv', '/mnt/volume/jupyter/szokereso/negyedikfeladatUjraHet/Főváros/szokeresores/clientreszurt/live_data_2020-07-23_10:01:31_szurt.csv', '/mnt/volume/jupyter/szokereso/negyedikfeladatUjraHet/Főváros/szokeresores/clientreszurt/live_data_2020-07-23_22:01:10_szurt.csv', '/mnt/volume/jupyter/szokereso/negyedikfeladatUjraHet/Főváros/szokeresores/clientreszurt/live_data_2020-07-23_06:00:34_szurt.csv', '/mnt/volume/jupyter/szokereso/negyedikfeladatUjraHet/Főváros/szokeresores/clientreszurt/live_data_2020-07-23_08:01:15_szurt.csv', '/mnt/volume/jupyter/szokereso/negyedikfeladatUjraHet/Főváros/szokeresores/clientreszurt/live_data_2020-07-23_12:01:48_szurt.csv']\n"
     ]
    },
    {
     "name": "stdout",
     "output_type": "stream",
     "text": [
      "['/mnt/volume/jupyter/szokereso/negyedikfeladatUjraHet/Főváros/szokeresores/clientreszurt/live_data_2020-07-24_22:00:58_szurt.csv', '/mnt/volume/jupyter/szokereso/negyedikfeladatUjraHet/Főváros/szokeresores/clientreszurt/live_data_2020-07-24_00:00:27_szurt.csv', '/mnt/volume/jupyter/szokereso/negyedikfeladatUjraHet/Főváros/szokeresores/clientreszurt/live_data_2020-07-24_20:01:11_szurt.csv', '/mnt/volume/jupyter/szokereso/negyedikfeladatUjraHet/Főváros/szokeresores/clientreszurt/live_data_2020-07-24_04:00:28_szurt.csv', '/mnt/volume/jupyter/szokereso/negyedikfeladatUjraHet/Főváros/szokeresores/clientreszurt/live_data_2020-07-24_08:01:14_szurt.csv', '/mnt/volume/jupyter/szokereso/negyedikfeladatUjraHet/Főváros/szokeresores/clientreszurt/live_data_2020-07-24_10:32:27_szurt.csv', '/mnt/volume/jupyter/szokereso/negyedikfeladatUjraHet/Főváros/szokeresores/clientreszurt/live_data_2020-07-24_18:01:03_szurt.csv', '/mnt/volume/jupyter/szokereso/negyedikfeladatUjraHet/Főváros/szokeresores/clientreszurt/live_data_2020-07-24_16:03:29_szurt.csv', '/mnt/volume/jupyter/szokereso/negyedikfeladatUjraHet/Főváros/szokeresores/clientreszurt/live_data_2020-07-24_12:01:24_szurt.csv', '/mnt/volume/jupyter/szokereso/negyedikfeladatUjraHet/Főváros/szokeresores/clientreszurt/live_data_2020-07-24_14:01:23_szurt.csv', '/mnt/volume/jupyter/szokereso/negyedikfeladatUjraHet/Főváros/szokeresores/clientreszurt/live_data_2020-07-24_10:01:43_szurt.csv', '/mnt/volume/jupyter/szokereso/negyedikfeladatUjraHet/Főváros/szokeresores/clientreszurt/live_data_2020-07-24_02:00:21_szurt.csv', '/mnt/volume/jupyter/szokereso/negyedikfeladatUjraHet/Főváros/szokeresores/clientreszurt/live_data_2020-07-24_06:00:35_szurt.csv']\n",
      "['/mnt/volume/jupyter/szokereso/negyedikfeladatUjraHet/Főváros/szokeresores/clientreszurt/live_data_2020-07-25_18:01:13_szurt.csv', '/mnt/volume/jupyter/szokereso/negyedikfeladatUjraHet/Főváros/szokeresores/clientreszurt/live_data_2020-07-25_08:00:40_szurt.csv', '/mnt/volume/jupyter/szokereso/negyedikfeladatUjraHet/Főváros/szokeresores/clientreszurt/live_data_2020-07-25_00:00:28_szurt.csv', '/mnt/volume/jupyter/szokereso/negyedikfeladatUjraHet/Főváros/szokeresores/clientreszurt/live_data_2020-07-25_06:00:26_szurt.csv', '/mnt/volume/jupyter/szokereso/negyedikfeladatUjraHet/Főváros/szokeresores/clientreszurt/live_data_2020-07-25_10:01:04_szurt.csv', '/mnt/volume/jupyter/szokereso/negyedikfeladatUjraHet/Főváros/szokeresores/clientreszurt/live_data_2020-07-25_14:00:50_szurt.csv', '/mnt/volume/jupyter/szokereso/negyedikfeladatUjraHet/Főváros/szokeresores/clientreszurt/live_data_2020-07-25_20:00:49_szurt.csv', '/mnt/volume/jupyter/szokereso/negyedikfeladatUjraHet/Főváros/szokeresores/clientreszurt/live_data_2020-07-25_04:00:27_szurt.csv', '/mnt/volume/jupyter/szokereso/negyedikfeladatUjraHet/Főváros/szokeresores/clientreszurt/live_data_2020-07-25_02:00:29_szurt.csv', '/mnt/volume/jupyter/szokereso/negyedikfeladatUjraHet/Főváros/szokeresores/clientreszurt/live_data_2020-07-25_12:01:00_szurt.csv', '/mnt/volume/jupyter/szokereso/negyedikfeladatUjraHet/Főváros/szokeresores/clientreszurt/live_data_2020-07-25_22:00:47_szurt.csv', '/mnt/volume/jupyter/szokereso/negyedikfeladatUjraHet/Főváros/szokeresores/clientreszurt/live_data_2020-07-25_16:00:45_szurt.csv']\n",
      "['/mnt/volume/jupyter/szokereso/negyedikfeladatUjraHet/Főváros/szokeresores/clientreszurt/live_data_2020-07-26_10:00:57_szurt.csv', '/mnt/volume/jupyter/szokereso/negyedikfeladatUjraHet/Főváros/szokeresores/clientreszurt/live_data_2020-07-26_04:00:25_szurt.csv', '/mnt/volume/jupyter/szokereso/negyedikfeladatUjraHet/Főváros/szokeresores/clientreszurt/live_data_2020-07-26_06:00:25_szurt.csv', '/mnt/volume/jupyter/szokereso/negyedikfeladatUjraHet/Főváros/szokeresores/clientreszurt/live_data_2020-07-26_08:00:33_szurt.csv', '/mnt/volume/jupyter/szokereso/negyedikfeladatUjraHet/Főváros/szokeresores/clientreszurt/live_data_2020-07-26_16:00:53_szurt.csv', '/mnt/volume/jupyter/szokereso/negyedikfeladatUjraHet/Főváros/szokeresores/clientreszurt/live_data_2020-07-26_02:00:28_szurt.csv', '/mnt/volume/jupyter/szokereso/negyedikfeladatUjraHet/Főváros/szokeresores/clientreszurt/live_data_2020-07-26_20:05:30_szurt.csv', '/mnt/volume/jupyter/szokereso/negyedikfeladatUjraHet/Főváros/szokeresores/clientreszurt/live_data_2020-07-26_18:00:50_szurt.csv', '/mnt/volume/jupyter/szokereso/negyedikfeladatUjraHet/Főváros/szokeresores/clientreszurt/live_data_2020-07-26_22:00:58_szurt.csv', '/mnt/volume/jupyter/szokereso/negyedikfeladatUjraHet/Főváros/szokeresores/clientreszurt/live_data_2020-07-26_00:00:41_szurt.csv', '/mnt/volume/jupyter/szokereso/negyedikfeladatUjraHet/Főváros/szokeresores/clientreszurt/live_data_2020-07-26_14:00:56_szurt.csv', '/mnt/volume/jupyter/szokereso/negyedikfeladatUjraHet/Főváros/szokeresores/clientreszurt/live_data_2020-07-26_12:00:54_szurt.csv']\n",
      "['/mnt/volume/jupyter/szokereso/negyedikfeladatUjraHet/Főváros/szokeresores/clientreszurt/live_data_2020-07-27_12:03:05_szurt.csv', '/mnt/volume/jupyter/szokereso/negyedikfeladatUjraHet/Főváros/szokeresores/clientreszurt/live_data_2020-07-27_14:01:33_szurt.csv', '/mnt/volume/jupyter/szokereso/negyedikfeladatUjraHet/Főváros/szokeresores/clientreszurt/live_data_2020-07-27_02:00:34_szurt.csv', '/mnt/volume/jupyter/szokereso/negyedikfeladatUjraHet/Főváros/szokeresores/clientreszurt/live_data_2020-07-27_04:00:33_szurt.csv', '/mnt/volume/jupyter/szokereso/negyedikfeladatUjraHet/Főváros/szokeresores/clientreszurt/live_data_2020-07-27_22:01:24_szurt.csv', '/mnt/volume/jupyter/szokereso/negyedikfeladatUjraHet/Főváros/szokeresores/clientreszurt/live_data_2020-07-27_16:01:23_szurt.csv', '/mnt/volume/jupyter/szokereso/negyedikfeladatUjraHet/Főváros/szokeresores/clientreszurt/live_data_2020-07-27_10:01:46_szurt.csv', '/mnt/volume/jupyter/szokereso/negyedikfeladatUjraHet/Főváros/szokeresores/clientreszurt/live_data_2020-07-27_20:02:27_szurt.csv', '/mnt/volume/jupyter/szokereso/negyedikfeladatUjraHet/Főváros/szokeresores/clientreszurt/live_data_2020-07-27_18:01:33_szurt.csv', '/mnt/volume/jupyter/szokereso/negyedikfeladatUjraHet/Főváros/szokeresores/clientreszurt/live_data_2020-07-27_06:00:42_szurt.csv', '/mnt/volume/jupyter/szokereso/negyedikfeladatUjraHet/Főváros/szokeresores/clientreszurt/live_data_2020-07-27_08:00:57_szurt.csv', '/mnt/volume/jupyter/szokereso/negyedikfeladatUjraHet/Főváros/szokeresores/clientreszurt/live_data_2020-07-27_00:00:28_szurt.csv']\n",
      "['/mnt/volume/jupyter/szokereso/negyedikfeladatUjraHet/Főváros/szokeresores/clientreszurt/live_data_2020-07-28_12:01:47_szurt.csv', '/mnt/volume/jupyter/szokereso/negyedikfeladatUjraHet/Főváros/szokeresores/clientreszurt/live_data_2020-07-28_16:01:42_szurt.csv', '/mnt/volume/jupyter/szokereso/negyedikfeladatUjraHet/Főváros/szokeresores/clientreszurt/live_data_2020-07-28_00:00:29_szurt.csv', '/mnt/volume/jupyter/szokereso/negyedikfeladatUjraHet/Főváros/szokeresores/clientreszurt/live_data_2020-07-28_22:00:59_szurt.csv', '/mnt/volume/jupyter/szokereso/negyedikfeladatUjraHet/Főváros/szokeresores/clientreszurt/live_data_2020-07-28_18:01:19_szurt.csv', '/mnt/volume/jupyter/szokereso/negyedikfeladatUjraHet/Főváros/szokeresores/clientreszurt/live_data_2020-07-28_08:00:56_szurt.csv', '/mnt/volume/jupyter/szokereso/negyedikfeladatUjraHet/Főváros/szokeresores/clientreszurt/live_data_2020-07-28_02:00:32_szurt.csv', '/mnt/volume/jupyter/szokereso/negyedikfeladatUjraHet/Főváros/szokeresores/clientreszurt/live_data_2020-07-28_04:00:23_szurt.csv', '/mnt/volume/jupyter/szokereso/negyedikfeladatUjraHet/Főváros/szokeresores/clientreszurt/live_data_2020-07-28_14:01:39_szurt.csv', '/mnt/volume/jupyter/szokereso/negyedikfeladatUjraHet/Főváros/szokeresores/clientreszurt/live_data_2020-07-28_10:01:37_szurt.csv', '/mnt/volume/jupyter/szokereso/negyedikfeladatUjraHet/Főváros/szokeresores/clientreszurt/live_data_2020-07-28_20:01:22_szurt.csv', '/mnt/volume/jupyter/szokereso/negyedikfeladatUjraHet/Főváros/szokeresores/clientreszurt/live_data_2020-07-28_06:00:30_szurt.csv']\n",
      "['/mnt/volume/jupyter/szokereso/negyedikfeladatUjraHet/Főváros/szokeresores/clientreszurt/live_data_2020-07-29_20:01:25_szurt.csv', '/mnt/volume/jupyter/szokereso/negyedikfeladatUjraHet/Főváros/szokeresores/clientreszurt/live_data_2020-07-29_18:01:39_szurt.csv', '/mnt/volume/jupyter/szokereso/negyedikfeladatUjraHet/Főváros/szokeresores/clientreszurt/live_data_2020-07-29_00:00:30_szurt.csv', '/mnt/volume/jupyter/szokereso/negyedikfeladatUjraHet/Főváros/szokeresores/clientreszurt/live_data_2020-07-29_16:01:45_szurt.csv', '/mnt/volume/jupyter/szokereso/negyedikfeladatUjraHet/Főváros/szokeresores/clientreszurt/live_data_2020-07-29_14:01:48_szurt.csv', '/mnt/volume/jupyter/szokereso/negyedikfeladatUjraHet/Főváros/szokeresores/clientreszurt/live_data_2020-07-29_06:00:30_szurt.csv', '/mnt/volume/jupyter/szokereso/negyedikfeladatUjraHet/Főváros/szokeresores/clientreszurt/live_data_2020-07-29_22:01:13_szurt.csv', '/mnt/volume/jupyter/szokereso/negyedikfeladatUjraHet/Főváros/szokeresores/clientreszurt/live_data_2020-07-29_04:00:27_szurt.csv', '/mnt/volume/jupyter/szokereso/negyedikfeladatUjraHet/Főváros/szokeresores/clientreszurt/live_data_2020-07-29_02:00:32_szurt.csv', '/mnt/volume/jupyter/szokereso/negyedikfeladatUjraHet/Főváros/szokeresores/clientreszurt/live_data_2020-07-29_10:01:37_szurt.csv', '/mnt/volume/jupyter/szokereso/negyedikfeladatUjraHet/Főváros/szokeresores/clientreszurt/live_data_2020-07-29_08:01:01_szurt.csv', '/mnt/volume/jupyter/szokereso/negyedikfeladatUjraHet/Főváros/szokeresores/clientreszurt/live_data_2020-07-29_12:01:49_szurt.csv']\n",
      "['/mnt/volume/jupyter/szokereso/negyedikfeladatUjraHet/Főváros/szokeresores/clientreszurt/live_data_2020-07-30_16:02:08_szurt.csv', '/mnt/volume/jupyter/szokereso/negyedikfeladatUjraHet/Főváros/szokeresores/clientreszurt/live_data_2020-07-30_02:00:27_szurt.csv', '/mnt/volume/jupyter/szokereso/negyedikfeladatUjraHet/Főváros/szokeresores/clientreszurt/live_data_2020-07-30_04:00:26_szurt.csv', '/mnt/volume/jupyter/szokereso/negyedikfeladatUjraHet/Főváros/szokeresores/clientreszurt/live_data_2020-07-30_12:02:31_szurt.csv', '/mnt/volume/jupyter/szokereso/negyedikfeladatUjraHet/Főváros/szokeresores/clientreszurt/live_data_2020-07-30_08:01:08_szurt.csv', '/mnt/volume/jupyter/szokereso/negyedikfeladatUjraHet/Főváros/szokeresores/clientreszurt/live_data_2020-07-30_06:00:31_szurt.csv', '/mnt/volume/jupyter/szokereso/negyedikfeladatUjraHet/Főváros/szokeresores/clientreszurt/live_data_2020-07-30_10:01:24_szurt.csv', '/mnt/volume/jupyter/szokereso/negyedikfeladatUjraHet/Főváros/szokeresores/clientreszurt/live_data_2020-07-30_22:01:04_szurt.csv', '/mnt/volume/jupyter/szokereso/negyedikfeladatUjraHet/Főváros/szokeresores/clientreszurt/live_data_2020-07-30_20:01:10_szurt.csv', '/mnt/volume/jupyter/szokereso/negyedikfeladatUjraHet/Főváros/szokeresores/clientreszurt/live_data_2020-07-30_14:01:41_szurt.csv', '/mnt/volume/jupyter/szokereso/negyedikfeladatUjraHet/Főváros/szokeresores/clientreszurt/live_data_2020-07-30_00:00:32_szurt.csv', '/mnt/volume/jupyter/szokereso/negyedikfeladatUjraHet/Főváros/szokeresores/clientreszurt/live_data_2020-07-30_18:01:43_szurt.csv']\n",
      "['/mnt/volume/jupyter/szokereso/negyedikfeladatUjraHet/Főváros/szokeresores/clientreszurt/live_data_2020-07-31_04:00:25_szurt.csv', '/mnt/volume/jupyter/szokereso/negyedikfeladatUjraHet/Főváros/szokeresores/clientreszurt/live_data_2020-07-31_08:01:03_szurt.csv', '/mnt/volume/jupyter/szokereso/negyedikfeladatUjraHet/Főváros/szokeresores/clientreszurt/live_data_2020-07-31_20:01:13_szurt.csv', '/mnt/volume/jupyter/szokereso/negyedikfeladatUjraHet/Főváros/szokeresores/clientreszurt/live_data_2020-07-31_16:01:38_szurt.csv', '/mnt/volume/jupyter/szokereso/negyedikfeladatUjraHet/Főváros/szokeresores/clientreszurt/live_data_2020-07-31_12:02:15_szurt.csv', '/mnt/volume/jupyter/szokereso/negyedikfeladatUjraHet/Főváros/szokeresores/clientreszurt/live_data_2020-07-31_22:01:01_szurt.csv', '/mnt/volume/jupyter/szokereso/negyedikfeladatUjraHet/Főváros/szokeresores/clientreszurt/live_data_2020-07-31_18:01:31_szurt.csv', '/mnt/volume/jupyter/szokereso/negyedikfeladatUjraHet/Főváros/szokeresores/clientreszurt/live_data_2020-07-31_02:02:42_szurt.csv', '/mnt/volume/jupyter/szokereso/negyedikfeladatUjraHet/Főváros/szokeresores/clientreszurt/live_data_2020-07-31_10:01:38_szurt.csv', '/mnt/volume/jupyter/szokereso/negyedikfeladatUjraHet/Főváros/szokeresores/clientreszurt/live_data_2020-07-31_06:00:35_szurt.csv', '/mnt/volume/jupyter/szokereso/negyedikfeladatUjraHet/Főváros/szokeresores/clientreszurt/live_data_2020-07-31_14:01:58_szurt.csv']\n",
      "['/mnt/volume/jupyter/szokereso/negyedikfeladatUjraHet/Főváros/szokeresores/clientreszurt/live_data_2020-08-01_00:00:30_szurt.csv', '/mnt/volume/jupyter/szokereso/negyedikfeladatUjraHet/Főváros/szokeresores/clientreszurt/live_data_2020-08-01_08:00:34_szurt.csv', '/mnt/volume/jupyter/szokereso/negyedikfeladatUjraHet/Főváros/szokeresores/clientreszurt/live_data_2020-08-01_02:00:27_szurt.csv', '/mnt/volume/jupyter/szokereso/negyedikfeladatUjraHet/Főváros/szokeresores/clientreszurt/live_data_2020-08-01_14:00:57_szurt.csv', '/mnt/volume/jupyter/szokereso/negyedikfeladatUjraHet/Főváros/szokeresores/clientreszurt/live_data_2020-08-01_18:01:14_szurt.csv', '/mnt/volume/jupyter/szokereso/negyedikfeladatUjraHet/Főváros/szokeresores/clientreszurt/live_data_2020-08-01_22:00:41_szurt.csv', '/mnt/volume/jupyter/szokereso/negyedikfeladatUjraHet/Főváros/szokeresores/clientreszurt/live_data_2020-08-01_12:01:10_szurt.csv', '/mnt/volume/jupyter/szokereso/negyedikfeladatUjraHet/Főváros/szokeresores/clientreszurt/live_data_2020-08-01_16:00:57_szurt.csv', '/mnt/volume/jupyter/szokereso/negyedikfeladatUjraHet/Főváros/szokeresores/clientreszurt/live_data_2020-08-01_06:00:24_szurt.csv', '/mnt/volume/jupyter/szokereso/negyedikfeladatUjraHet/Főváros/szokeresores/clientreszurt/live_data_2020-08-01_10:01:10_szurt.csv', '/mnt/volume/jupyter/szokereso/negyedikfeladatUjraHet/Főváros/szokeresores/clientreszurt/live_data_2020-08-01_20:00:51_szurt.csv', '/mnt/volume/jupyter/szokereso/negyedikfeladatUjraHet/Főváros/szokeresores/clientreszurt/live_data_2020-08-01_04:00:25_szurt.csv']\n",
      "['/mnt/volume/jupyter/szokereso/negyedikfeladatUjraHet/Főváros/szokeresores/clientreszurt/live_data_2020-08-02_10:01:05_szurt.csv', '/mnt/volume/jupyter/szokereso/negyedikfeladatUjraHet/Főváros/szokeresores/clientreszurt/live_data_2020-08-02_16:00:53_szurt.csv', '/mnt/volume/jupyter/szokereso/negyedikfeladatUjraHet/Főváros/szokeresores/clientreszurt/live_data_2020-08-02_14:00:51_szurt.csv', '/mnt/volume/jupyter/szokereso/negyedikfeladatUjraHet/Főváros/szokeresores/clientreszurt/live_data_2020-08-02_02:00:30_szurt.csv', '/mnt/volume/jupyter/szokereso/negyedikfeladatUjraHet/Főváros/szokeresores/clientreszurt/live_data_2020-08-02_12:00:55_szurt.csv', '/mnt/volume/jupyter/szokereso/negyedikfeladatUjraHet/Főváros/szokeresores/clientreszurt/live_data_2020-08-02_00:00:28_szurt.csv', '/mnt/volume/jupyter/szokereso/negyedikfeladatUjraHet/Főváros/szokeresores/clientreszurt/live_data_2020-08-02_08:00:35_szurt.csv', '/mnt/volume/jupyter/szokereso/negyedikfeladatUjraHet/Főváros/szokeresores/clientreszurt/live_data_2020-08-02_04:00:24_szurt.csv', '/mnt/volume/jupyter/szokereso/negyedikfeladatUjraHet/Főváros/szokeresores/clientreszurt/live_data_2020-08-02_18:00:54_szurt.csv', '/mnt/volume/jupyter/szokereso/negyedikfeladatUjraHet/Főváros/szokeresores/clientreszurt/live_data_2020-08-02_20:01:03_szurt.csv', '/mnt/volume/jupyter/szokereso/negyedikfeladatUjraHet/Főváros/szokeresores/clientreszurt/live_data_2020-08-02_22:00:52_szurt.csv', '/mnt/volume/jupyter/szokereso/negyedikfeladatUjraHet/Főváros/szokeresores/clientreszurt/live_data_2020-08-02_06:00:25_szurt.csv']\n",
      "['/mnt/volume/jupyter/szokereso/negyedikfeladatUjraHet/Főváros/szokeresores/clientreszurt/live_data_2020-08-03_08:01:04_szurt.csv', '/mnt/volume/jupyter/szokereso/negyedikfeladatUjraHet/Főváros/szokeresores/clientreszurt/live_data_2020-08-03_12:01:45_szurt.csv', '/mnt/volume/jupyter/szokereso/negyedikfeladatUjraHet/Főváros/szokeresores/clientreszurt/live_data_2020-08-03_06:00:28_szurt.csv', '/mnt/volume/jupyter/szokereso/negyedikfeladatUjraHet/Főváros/szokeresores/clientreszurt/live_data_2020-08-03_16:01:56_szurt.csv', '/mnt/volume/jupyter/szokereso/negyedikfeladatUjraHet/Főváros/szokeresores/clientreszurt/live_data_2020-08-03_18:01:34_szurt.csv', '/mnt/volume/jupyter/szokereso/negyedikfeladatUjraHet/Főváros/szokeresores/clientreszurt/live_data_2020-08-03_10:01:42_szurt.csv', '/mnt/volume/jupyter/szokereso/negyedikfeladatUjraHet/Főváros/szokeresores/clientreszurt/live_data_2020-08-03_20:01:18_szurt.csv', '/mnt/volume/jupyter/szokereso/negyedikfeladatUjraHet/Főváros/szokeresores/clientreszurt/live_data_2020-08-03_14:01:27_szurt.csv', '/mnt/volume/jupyter/szokereso/negyedikfeladatUjraHet/Főváros/szokeresores/clientreszurt/live_data_2020-08-03_04:00:23_szurt.csv', '/mnt/volume/jupyter/szokereso/negyedikfeladatUjraHet/Főváros/szokeresores/clientreszurt/live_data_2020-08-03_22:01:08_szurt.csv', '/mnt/volume/jupyter/szokereso/negyedikfeladatUjraHet/Főváros/szokeresores/clientreszurt/live_data_2020-08-03_02:00:31_szurt.csv']\n",
      "['/mnt/volume/jupyter/szokereso/negyedikfeladatUjraHet/Főváros/szokeresores/clientreszurt/live_data_2020-08-04_18:01:53_szurt.csv', '/mnt/volume/jupyter/szokereso/negyedikfeladatUjraHet/Főváros/szokeresores/clientreszurt/live_data_2020-08-04_10:01:40_szurt.csv', '/mnt/volume/jupyter/szokereso/negyedikfeladatUjraHet/Főváros/szokeresores/clientreszurt/live_data_2020-08-04_14:01:28_szurt.csv', '/mnt/volume/jupyter/szokereso/negyedikfeladatUjraHet/Főváros/szokeresores/clientreszurt/live_data_2020-08-04_04:00:24_szurt.csv', '/mnt/volume/jupyter/szokereso/negyedikfeladatUjraHet/Főváros/szokeresores/clientreszurt/live_data_2020-08-04_12:04:11_szurt.csv', '/mnt/volume/jupyter/szokereso/negyedikfeladatUjraHet/Főváros/szokeresores/clientreszurt/live_data_2020-08-04_16:01:56_szurt.csv', '/mnt/volume/jupyter/szokereso/negyedikfeladatUjraHet/Főváros/szokeresores/clientreszurt/live_data_2020-08-04_02:00:28_szurt.csv', '/mnt/volume/jupyter/szokereso/negyedikfeladatUjraHet/Főváros/szokeresores/clientreszurt/live_data_2020-08-04_20:01:30_szurt.csv', '/mnt/volume/jupyter/szokereso/negyedikfeladatUjraHet/Főváros/szokeresores/clientreszurt/live_data_2020-08-04_00:00:25_szurt.csv', '/mnt/volume/jupyter/szokereso/negyedikfeladatUjraHet/Főváros/szokeresores/clientreszurt/live_data_2020-08-04_08:01:07_szurt.csv', '/mnt/volume/jupyter/szokereso/negyedikfeladatUjraHet/Főváros/szokeresores/clientreszurt/live_data_2020-08-04_06:00:30_szurt.csv', '/mnt/volume/jupyter/szokereso/negyedikfeladatUjraHet/Főváros/szokeresores/clientreszurt/live_data_2020-08-04_22:01:12_szurt.csv']\n",
      "['/mnt/volume/jupyter/szokereso/negyedikfeladatUjraHet/Főváros/szokeresores/clientreszurt/live_data_2020-08-05_08:01:12_szurt.csv', '/mnt/volume/jupyter/szokereso/negyedikfeladatUjraHet/Főváros/szokeresores/clientreszurt/live_data_2020-08-05_22:01:12_szurt.csv', '/mnt/volume/jupyter/szokereso/negyedikfeladatUjraHet/Főváros/szokeresores/clientreszurt/live_data_2020-08-05_18:01:55_szurt.csv', '/mnt/volume/jupyter/szokereso/negyedikfeladatUjraHet/Főváros/szokeresores/clientreszurt/live_data_2020-08-05_12:01:55_szurt.csv', '/mnt/volume/jupyter/szokereso/negyedikfeladatUjraHet/Főváros/szokeresores/clientreszurt/live_data_2020-08-05_04:00:27_szurt.csv', '/mnt/volume/jupyter/szokereso/negyedikfeladatUjraHet/Főváros/szokeresores/clientreszurt/live_data_2020-08-05_16:01:43_szurt.csv', '/mnt/volume/jupyter/szokereso/negyedikfeladatUjraHet/Főváros/szokeresores/clientreszurt/live_data_2020-08-05_00:00:42_szurt.csv', '/mnt/volume/jupyter/szokereso/negyedikfeladatUjraHet/Főváros/szokeresores/clientreszurt/live_data_2020-08-05_02:00:40_szurt.csv', '/mnt/volume/jupyter/szokereso/negyedikfeladatUjraHet/Főváros/szokeresores/clientreszurt/live_data_2020-08-05_06:00:31_szurt.csv', '/mnt/volume/jupyter/szokereso/negyedikfeladatUjraHet/Főváros/szokeresores/clientreszurt/live_data_2020-08-05_20:01:16_szurt.csv', '/mnt/volume/jupyter/szokereso/negyedikfeladatUjraHet/Főváros/szokeresores/clientreszurt/live_data_2020-08-05_10:01:43_szurt.csv', '/mnt/volume/jupyter/szokereso/negyedikfeladatUjraHet/Főváros/szokeresores/clientreszurt/live_data_2020-08-05_14:01:39_szurt.csv']\n",
      "['/mnt/volume/jupyter/szokereso/negyedikfeladatUjraHet/Főváros/szokeresores/clientreszurt/live_data_2020-08-06_10:01:50_szurt.csv', '/mnt/volume/jupyter/szokereso/negyedikfeladatUjraHet/Főváros/szokeresores/clientreszurt/live_data_2020-08-06_06:00:41_szurt.csv', '/mnt/volume/jupyter/szokereso/negyedikfeladatUjraHet/Főváros/szokeresores/clientreszurt/live_data_2020-08-06_12:01:45_szurt.csv', '/mnt/volume/jupyter/szokereso/negyedikfeladatUjraHet/Főváros/szokeresores/clientreszurt/live_data_2020-08-06_04:00:35_szurt.csv', '/mnt/volume/jupyter/szokereso/negyedikfeladatUjraHet/Főváros/szokeresores/clientreszurt/live_data_2020-08-06_20:01:32_szurt.csv', '/mnt/volume/jupyter/szokereso/negyedikfeladatUjraHet/Főváros/szokeresores/clientreszurt/live_data_2020-08-06_18:01:32_szurt.csv', '/mnt/volume/jupyter/szokereso/negyedikfeladatUjraHet/Főváros/szokeresores/clientreszurt/live_data_2020-08-06_16:01:39_szurt.csv', '/mnt/volume/jupyter/szokereso/negyedikfeladatUjraHet/Főváros/szokeresores/clientreszurt/live_data_2020-08-06_08:01:14_szurt.csv', '/mnt/volume/jupyter/szokereso/negyedikfeladatUjraHet/Főváros/szokeresores/clientreszurt/live_data_2020-08-06_14:01:45_szurt.csv', '/mnt/volume/jupyter/szokereso/negyedikfeladatUjraHet/Főváros/szokeresores/clientreszurt/live_data_2020-08-06_02:00:45_szurt.csv', '/mnt/volume/jupyter/szokereso/negyedikfeladatUjraHet/Főváros/szokeresores/clientreszurt/live_data_2020-08-06_22:01:01_szurt.csv']\n"
     ]
    },
    {
     "name": "stdout",
     "output_type": "stream",
     "text": [
      "['/mnt/volume/jupyter/szokereso/negyedikfeladatUjraHet/Főváros/szokeresores/clientreszurt/live_data_2020-08-07_14:01:56_szurt.csv', '/mnt/volume/jupyter/szokereso/negyedikfeladatUjraHet/Főváros/szokeresores/clientreszurt/live_data_2020-08-07_06:00:43_szurt.csv', '/mnt/volume/jupyter/szokereso/negyedikfeladatUjraHet/Főváros/szokeresores/clientreszurt/live_data_2020-08-07_02:00:42_szurt.csv', '/mnt/volume/jupyter/szokereso/negyedikfeladatUjraHet/Főváros/szokeresores/clientreszurt/live_data_2020-08-07_16:01:47_szurt.csv', '/mnt/volume/jupyter/szokereso/negyedikfeladatUjraHet/Főváros/szokeresores/clientreszurt/live_data_2020-08-07_20:01:32_szurt.csv', '/mnt/volume/jupyter/szokereso/negyedikfeladatUjraHet/Főváros/szokeresores/clientreszurt/live_data_2020-08-07_22:01:06_szurt.csv', '/mnt/volume/jupyter/szokereso/negyedikfeladatUjraHet/Főváros/szokeresores/clientreszurt/live_data_2020-08-07_04:00:26_szurt.csv', '/mnt/volume/jupyter/szokereso/negyedikfeladatUjraHet/Főváros/szokeresores/clientreszurt/live_data_2020-08-07_08:01:05_szurt.csv', '/mnt/volume/jupyter/szokereso/negyedikfeladatUjraHet/Főváros/szokeresores/clientreszurt/live_data_2020-08-07_10:01:23_szurt.csv', '/mnt/volume/jupyter/szokereso/negyedikfeladatUjraHet/Főváros/szokeresores/clientreszurt/live_data_2020-08-07_18:01:36_szurt.csv', '/mnt/volume/jupyter/szokereso/negyedikfeladatUjraHet/Főváros/szokeresores/clientreszurt/live_data_2020-08-07_12:01:33_szurt.csv']\n",
      "['/mnt/volume/jupyter/szokereso/negyedikfeladatUjraHet/Főváros/szokeresores/clientreszurt/live_data_2020-08-08_04:00:25_szurt.csv', '/mnt/volume/jupyter/szokereso/negyedikfeladatUjraHet/Főváros/szokeresores/clientreszurt/live_data_2020-08-08_10:01:19_szurt.csv', '/mnt/volume/jupyter/szokereso/negyedikfeladatUjraHet/Főváros/szokeresores/clientreszurt/live_data_2020-08-08_08:00:39_szurt.csv', '/mnt/volume/jupyter/szokereso/negyedikfeladatUjraHet/Főváros/szokeresores/clientreszurt/live_data_2020-08-08_16:00:59_szurt.csv', '/mnt/volume/jupyter/szokereso/negyedikfeladatUjraHet/Főváros/szokeresores/clientreszurt/live_data_2020-08-08_22:00:55_szurt.csv', '/mnt/volume/jupyter/szokereso/negyedikfeladatUjraHet/Főváros/szokeresores/clientreszurt/live_data_2020-08-08_02:00:30_szurt.csv', '/mnt/volume/jupyter/szokereso/negyedikfeladatUjraHet/Főváros/szokeresores/clientreszurt/live_data_2020-08-08_18:01:07_szurt.csv', '/mnt/volume/jupyter/szokereso/negyedikfeladatUjraHet/Főváros/szokeresores/clientreszurt/live_data_2020-08-08_00:00:30_szurt.csv', '/mnt/volume/jupyter/szokereso/negyedikfeladatUjraHet/Főváros/szokeresores/clientreszurt/live_data_2020-08-08_14:01:03_szurt.csv', '/mnt/volume/jupyter/szokereso/negyedikfeladatUjraHet/Főváros/szokeresores/clientreszurt/live_data_2020-08-08_12:00:57_szurt.csv', '/mnt/volume/jupyter/szokereso/negyedikfeladatUjraHet/Főváros/szokeresores/clientreszurt/live_data_2020-08-08_20:00:54_szurt.csv', '/mnt/volume/jupyter/szokereso/negyedikfeladatUjraHet/Főváros/szokeresores/clientreszurt/live_data_2020-08-08_06:00:39_szurt.csv']\n",
      "['/mnt/volume/jupyter/szokereso/negyedikfeladatUjraHet/Főváros/szokeresores/clientreszurt/live_data_2020-08-09_06:09:32_szurt.csv', '/mnt/volume/jupyter/szokereso/negyedikfeladatUjraHet/Főváros/szokeresores/clientreszurt/live_data_2020-08-09_02:06:56_szurt.csv', '/mnt/volume/jupyter/szokereso/negyedikfeladatUjraHet/Főváros/szokeresores/clientreszurt/live_data_2020-08-09_22:00:49_szurt.csv', '/mnt/volume/jupyter/szokereso/negyedikfeladatUjraHet/Főváros/szokeresores/clientreszurt/live_data_2020-08-09_18:01:16_szurt.csv', '/mnt/volume/jupyter/szokereso/negyedikfeladatUjraHet/Főváros/szokeresores/clientreszurt/live_data_2020-08-09_20:01:06_szurt.csv', '/mnt/volume/jupyter/szokereso/negyedikfeladatUjraHet/Főváros/szokeresores/clientreszurt/live_data_2020-08-09_16:01:08_szurt.csv', '/mnt/volume/jupyter/szokereso/negyedikfeladatUjraHet/Főváros/szokeresores/clientreszurt/live_data_2020-08-09_04:06:05_szurt.csv', '/mnt/volume/jupyter/szokereso/negyedikfeladatUjraHet/Főváros/szokeresores/clientreszurt/live_data_2020-08-09_12:01:18_szurt.csv', '/mnt/volume/jupyter/szokereso/negyedikfeladatUjraHet/Főváros/szokeresores/clientreszurt/live_data_2020-08-09_08:00:42_szurt.csv', '/mnt/volume/jupyter/szokereso/negyedikfeladatUjraHet/Főváros/szokeresores/clientreszurt/live_data_2020-08-09_14:00:55_szurt.csv', '/mnt/volume/jupyter/szokereso/negyedikfeladatUjraHet/Főváros/szokeresores/clientreszurt/live_data_2020-08-09_10:00:58_szurt.csv']\n",
      "['/mnt/volume/jupyter/szokereso/negyedikfeladatUjraHet/Főváros/szokeresores/clientreszurt/live_data_2020-08-10_14:01:57_szurt.csv', '/mnt/volume/jupyter/szokereso/negyedikfeladatUjraHet/Főváros/szokeresores/clientreszurt/live_data_2020-08-10_20:01:36_szurt.csv', '/mnt/volume/jupyter/szokereso/negyedikfeladatUjraHet/Főváros/szokeresores/clientreszurt/live_data_2020-08-10_16:01:30_szurt.csv', '/mnt/volume/jupyter/szokereso/negyedikfeladatUjraHet/Főváros/szokeresores/clientreszurt/live_data_2020-08-10_00:01:49_szurt.csv', '/mnt/volume/jupyter/szokereso/negyedikfeladatUjraHet/Főváros/szokeresores/clientreszurt/live_data_2020-08-10_10:01:32_szurt.csv', '/mnt/volume/jupyter/szokereso/negyedikfeladatUjraHet/Főváros/szokeresores/clientreszurt/live_data_2020-08-10_08:01:08_szurt.csv', '/mnt/volume/jupyter/szokereso/negyedikfeladatUjraHet/Főváros/szokeresores/clientreszurt/live_data_2020-08-10_02:00:34_szurt.csv', '/mnt/volume/jupyter/szokereso/negyedikfeladatUjraHet/Főváros/szokeresores/clientreszurt/live_data_2020-08-10_18:01:38_szurt.csv', '/mnt/volume/jupyter/szokereso/negyedikfeladatUjraHet/Főváros/szokeresores/clientreszurt/live_data_2020-08-10_04:00:32_szurt.csv', '/mnt/volume/jupyter/szokereso/negyedikfeladatUjraHet/Főváros/szokeresores/clientreszurt/live_data_2020-08-10_12:02:07_szurt.csv', '/mnt/volume/jupyter/szokereso/negyedikfeladatUjraHet/Főváros/szokeresores/clientreszurt/live_data_2020-08-10_22:01:15_szurt.csv', '/mnt/volume/jupyter/szokereso/negyedikfeladatUjraHet/Főváros/szokeresores/clientreszurt/live_data_2020-08-10_06:00:37_szurt.csv']\n",
      "['/mnt/volume/jupyter/szokereso/negyedikfeladatUjraHet/Főváros/szokeresores/clientreszurt/live_data_2020-08-11_02:02:36_szurt.csv', '/mnt/volume/jupyter/szokereso/negyedikfeladatUjraHet/Főváros/szokeresores/clientreszurt/live_data_2020-08-11_08:01:07_szurt.csv', '/mnt/volume/jupyter/szokereso/negyedikfeladatUjraHet/Főváros/szokeresores/clientreszurt/live_data_2020-08-11_16:01:55_szurt.csv', '/mnt/volume/jupyter/szokereso/negyedikfeladatUjraHet/Főváros/szokeresores/clientreszurt/live_data_2020-08-11_06:00:29_szurt.csv', '/mnt/volume/jupyter/szokereso/negyedikfeladatUjraHet/Főváros/szokeresores/clientreszurt/live_data_2020-08-11_22:01:05_szurt.csv', '/mnt/volume/jupyter/szokereso/negyedikfeladatUjraHet/Főváros/szokeresores/clientreszurt/live_data_2020-08-11_10:01:27_szurt.csv', '/mnt/volume/jupyter/szokereso/negyedikfeladatUjraHet/Főváros/szokeresores/clientreszurt/live_data_2020-08-11_18:01:21_szurt.csv', '/mnt/volume/jupyter/szokereso/negyedikfeladatUjraHet/Főváros/szokeresores/clientreszurt/live_data_2020-08-11_12:02:04_szurt.csv', '/mnt/volume/jupyter/szokereso/negyedikfeladatUjraHet/Főváros/szokeresores/clientreszurt/live_data_2020-08-11_04:00:24_szurt.csv', '/mnt/volume/jupyter/szokereso/negyedikfeladatUjraHet/Főváros/szokeresores/clientreszurt/live_data_2020-08-11_14:01:41_szurt.csv', '/mnt/volume/jupyter/szokereso/negyedikfeladatUjraHet/Főváros/szokeresores/clientreszurt/live_data_2020-08-11_20:01:25_szurt.csv']\n",
      "['/mnt/volume/jupyter/szokereso/negyedikfeladatUjraHet/Főváros/szokeresores/clientreszurt/live_data_2020-08-12_22:01:01_szurt.csv', '/mnt/volume/jupyter/szokereso/negyedikfeladatUjraHet/Főváros/szokeresores/clientreszurt/live_data_2020-08-12_08:01:04_szurt.csv', '/mnt/volume/jupyter/szokereso/negyedikfeladatUjraHet/Főváros/szokeresores/clientreszurt/live_data_2020-08-12_02:00:25_szurt.csv', '/mnt/volume/jupyter/szokereso/negyedikfeladatUjraHet/Főváros/szokeresores/clientreszurt/live_data_2020-08-12_00:00:29_szurt.csv', '/mnt/volume/jupyter/szokereso/negyedikfeladatUjraHet/Főváros/szokeresores/clientreszurt/live_data_2020-08-12_12:02:08_szurt.csv', '/mnt/volume/jupyter/szokereso/negyedikfeladatUjraHet/Főváros/szokeresores/clientreszurt/live_data_2020-08-12_16:02:06_szurt.csv', '/mnt/volume/jupyter/szokereso/negyedikfeladatUjraHet/Főváros/szokeresores/clientreszurt/live_data_2020-08-12_18:01:43_szurt.csv', '/mnt/volume/jupyter/szokereso/negyedikfeladatUjraHet/Főváros/szokeresores/clientreszurt/live_data_2020-08-12_20:01:13_szurt.csv', '/mnt/volume/jupyter/szokereso/negyedikfeladatUjraHet/Főváros/szokeresores/clientreszurt/live_data_2020-08-12_06:00:34_szurt.csv', '/mnt/volume/jupyter/szokereso/negyedikfeladatUjraHet/Főváros/szokeresores/clientreszurt/live_data_2020-08-12_14:01:43_szurt.csv', '/mnt/volume/jupyter/szokereso/negyedikfeladatUjraHet/Főváros/szokeresores/clientreszurt/live_data_2020-08-12_04:00:25_szurt.csv', '/mnt/volume/jupyter/szokereso/negyedikfeladatUjraHet/Főváros/szokeresores/clientreszurt/live_data_2020-08-12_10:01:04_szurt.csv']\n",
      "['/mnt/volume/jupyter/szokereso/negyedikfeladatUjraHet/Főváros/szokeresores/clientreszurt/live_data_2020-08-13_22:00:49_szurt.csv', '/mnt/volume/jupyter/szokereso/negyedikfeladatUjraHet/Főváros/szokeresores/clientreszurt/live_data_2020-08-13_12:03:23_szurt.csv', '/mnt/volume/jupyter/szokereso/negyedikfeladatUjraHet/Főváros/szokeresores/clientreszurt/live_data_2020-08-13_04:00:28_szurt.csv', '/mnt/volume/jupyter/szokereso/negyedikfeladatUjraHet/Főváros/szokeresores/clientreszurt/live_data_2020-08-13_08:00:45_szurt.csv', '/mnt/volume/jupyter/szokereso/negyedikfeladatUjraHet/Főváros/szokeresores/clientreszurt/live_data_2020-08-13_16:01:42_szurt.csv', '/mnt/volume/jupyter/szokereso/negyedikfeladatUjraHet/Főváros/szokeresores/clientreszurt/live_data_2020-08-13_18:01:21_szurt.csv', '/mnt/volume/jupyter/szokereso/negyedikfeladatUjraHet/Főváros/szokeresores/clientreszurt/live_data_2020-08-13_10:05:45_szurt.csv', '/mnt/volume/jupyter/szokereso/negyedikfeladatUjraHet/Főváros/szokeresores/clientreszurt/live_data_2020-08-13_06:00:27_szurt.csv', '/mnt/volume/jupyter/szokereso/negyedikfeladatUjraHet/Főváros/szokeresores/clientreszurt/live_data_2020-08-13_02:02:35_szurt.csv', '/mnt/volume/jupyter/szokereso/negyedikfeladatUjraHet/Főváros/szokeresores/clientreszurt/live_data_2020-08-13_20:01:22_szurt.csv', '/mnt/volume/jupyter/szokereso/negyedikfeladatUjraHet/Főváros/szokeresores/clientreszurt/live_data_2020-08-13_14:02:10_szurt.csv']\n",
      "['/mnt/volume/jupyter/szokereso/negyedikfeladatUjraHet/Főváros/szokeresores/clientreszurt/live_data_2020-08-14_04:00:26_szurt.csv', '/mnt/volume/jupyter/szokereso/negyedikfeladatUjraHet/Főváros/szokeresores/clientreszurt/live_data_2020-08-14_14:01:39_szurt.csv', '/mnt/volume/jupyter/szokereso/negyedikfeladatUjraHet/Főváros/szokeresores/clientreszurt/live_data_2020-08-14_18:01:30_szurt.csv', '/mnt/volume/jupyter/szokereso/negyedikfeladatUjraHet/Főváros/szokeresores/clientreszurt/live_data_2020-08-14_16:01:45_szurt.csv', '/mnt/volume/jupyter/szokereso/negyedikfeladatUjraHet/Főváros/szokeresores/clientreszurt/live_data_2020-08-14_00:00:35_szurt.csv', '/mnt/volume/jupyter/szokereso/negyedikfeladatUjraHet/Főváros/szokeresores/clientreszurt/live_data_2020-08-14_06:00:31_szurt.csv', '/mnt/volume/jupyter/szokereso/negyedikfeladatUjraHet/Főváros/szokeresores/clientreszurt/live_data_2020-08-14_12:01:38_szurt.csv', '/mnt/volume/jupyter/szokereso/negyedikfeladatUjraHet/Főváros/szokeresores/clientreszurt/live_data_2020-08-14_08:00:54_szurt.csv', '/mnt/volume/jupyter/szokereso/negyedikfeladatUjraHet/Főváros/szokeresores/clientreszurt/live_data_2020-08-14_02:00:23_szurt.csv', '/mnt/volume/jupyter/szokereso/negyedikfeladatUjraHet/Főváros/szokeresores/clientreszurt/live_data_2020-08-14_20:01:02_szurt.csv', '/mnt/volume/jupyter/szokereso/negyedikfeladatUjraHet/Főváros/szokeresores/clientreszurt/live_data_2020-08-14_10:01:22_szurt.csv', '/mnt/volume/jupyter/szokereso/negyedikfeladatUjraHet/Főváros/szokeresores/clientreszurt/live_data_2020-08-14_22:01:02_szurt.csv']\n",
      "['/mnt/volume/jupyter/szokereso/negyedikfeladatUjraHet/Főváros/szokeresores/clientreszurt/live_data_2020-08-15_16:00:59_szurt.csv', '/mnt/volume/jupyter/szokereso/negyedikfeladatUjraHet/Főváros/szokeresores/clientreszurt/live_data_2020-08-15_18:00:55_szurt.csv', '/mnt/volume/jupyter/szokereso/negyedikfeladatUjraHet/Főváros/szokeresores/clientreszurt/live_data_2020-08-15_02:00:32_szurt.csv', '/mnt/volume/jupyter/szokereso/negyedikfeladatUjraHet/Főváros/szokeresores/clientreszurt/live_data_2020-08-15_04:00:24_szurt.csv', '/mnt/volume/jupyter/szokereso/negyedikfeladatUjraHet/Főváros/szokeresores/clientreszurt/live_data_2020-08-15_08:00:36_szurt.csv', '/mnt/volume/jupyter/szokereso/negyedikfeladatUjraHet/Főváros/szokeresores/clientreszurt/live_data_2020-08-15_00:00:42_szurt.csv', '/mnt/volume/jupyter/szokereso/negyedikfeladatUjraHet/Főváros/szokeresores/clientreszurt/live_data_2020-08-15_12:01:02_szurt.csv', '/mnt/volume/jupyter/szokereso/negyedikfeladatUjraHet/Főváros/szokeresores/clientreszurt/live_data_2020-08-15_06:00:24_szurt.csv', '/mnt/volume/jupyter/szokereso/negyedikfeladatUjraHet/Főváros/szokeresores/clientreszurt/live_data_2020-08-15_10:01:07_szurt.csv', '/mnt/volume/jupyter/szokereso/negyedikfeladatUjraHet/Főváros/szokeresores/clientreszurt/live_data_2020-08-15_22:01:00_szurt.csv', '/mnt/volume/jupyter/szokereso/negyedikfeladatUjraHet/Főváros/szokeresores/clientreszurt/live_data_2020-08-15_20:00:51_szurt.csv', '/mnt/volume/jupyter/szokereso/negyedikfeladatUjraHet/Főváros/szokeresores/clientreszurt/live_data_2020-08-15_14:00:59_szurt.csv']\n",
      "['/mnt/volume/jupyter/szokereso/negyedikfeladatUjraHet/Főváros/szokeresores/clientreszurt/live_data_2020-08-16_18:00:57_szurt.csv', '/mnt/volume/jupyter/szokereso/negyedikfeladatUjraHet/Főváros/szokeresores/clientreszurt/live_data_2020-08-16_14:00:51_szurt.csv', '/mnt/volume/jupyter/szokereso/negyedikfeladatUjraHet/Főváros/szokeresores/clientreszurt/live_data_2020-08-16_10:01:10_szurt.csv', '/mnt/volume/jupyter/szokereso/negyedikfeladatUjraHet/Főváros/szokeresores/clientreszurt/live_data_2020-08-16_02:00:28_szurt.csv', '/mnt/volume/jupyter/szokereso/negyedikfeladatUjraHet/Főváros/szokeresores/clientreszurt/live_data_2020-08-16_22:01:12_szurt.csv', '/mnt/volume/jupyter/szokereso/negyedikfeladatUjraHet/Főváros/szokeresores/clientreszurt/live_data_2020-08-16_00:00:25_szurt.csv', '/mnt/volume/jupyter/szokereso/negyedikfeladatUjraHet/Főváros/szokeresores/clientreszurt/live_data_2020-08-16_04:00:23_szurt.csv', '/mnt/volume/jupyter/szokereso/negyedikfeladatUjraHet/Főváros/szokeresores/clientreszurt/live_data_2020-08-16_06:00:25_szurt.csv', '/mnt/volume/jupyter/szokereso/negyedikfeladatUjraHet/Főváros/szokeresores/clientreszurt/live_data_2020-08-16_12:01:14_szurt.csv', '/mnt/volume/jupyter/szokereso/negyedikfeladatUjraHet/Főváros/szokeresores/clientreszurt/live_data_2020-08-16_20:00:57_szurt.csv', '/mnt/volume/jupyter/szokereso/negyedikfeladatUjraHet/Főváros/szokeresores/clientreszurt/live_data_2020-08-16_16:00:52_szurt.csv', '/mnt/volume/jupyter/szokereso/negyedikfeladatUjraHet/Főváros/szokeresores/clientreszurt/live_data_2020-08-16_08:00:39_szurt.csv']\n",
      "['/mnt/volume/jupyter/szokereso/negyedikfeladatUjraHet/Főváros/szokeresores/clientreszurt/live_data_2020-08-17_06:00:33_szurt.csv', '/mnt/volume/jupyter/szokereso/negyedikfeladatUjraHet/Főváros/szokeresores/clientreszurt/live_data_2020-08-17_10:01:37_szurt.csv', '/mnt/volume/jupyter/szokereso/negyedikfeladatUjraHet/Főváros/szokeresores/clientreszurt/live_data_2020-08-17_08:01:13_szurt.csv', '/mnt/volume/jupyter/szokereso/negyedikfeladatUjraHet/Főváros/szokeresores/clientreszurt/live_data_2020-08-17_02:00:26_szurt.csv', '/mnt/volume/jupyter/szokereso/negyedikfeladatUjraHet/Főváros/szokeresores/clientreszurt/live_data_2020-08-17_18:01:28_szurt.csv', '/mnt/volume/jupyter/szokereso/negyedikfeladatUjraHet/Főváros/szokeresores/clientreszurt/live_data_2020-08-17_14:01:54_szurt.csv', '/mnt/volume/jupyter/szokereso/negyedikfeladatUjraHet/Főváros/szokeresores/clientreszurt/live_data_2020-08-17_00:00:26_szurt.csv', '/mnt/volume/jupyter/szokereso/negyedikfeladatUjraHet/Főváros/szokeresores/clientreszurt/live_data_2020-08-17_20:01:09_szurt.csv', '/mnt/volume/jupyter/szokereso/negyedikfeladatUjraHet/Főváros/szokeresores/clientreszurt/live_data_2020-08-17_16:01:34_szurt.csv', '/mnt/volume/jupyter/szokereso/negyedikfeladatUjraHet/Főváros/szokeresores/clientreszurt/live_data_2020-08-17_12:02:20_szurt.csv', '/mnt/volume/jupyter/szokereso/negyedikfeladatUjraHet/Főváros/szokeresores/clientreszurt/live_data_2020-08-17_04:00:24_szurt.csv', '/mnt/volume/jupyter/szokereso/negyedikfeladatUjraHet/Főváros/szokeresores/clientreszurt/live_data_2020-08-17_22:01:07_szurt.csv']\n",
      "['/mnt/volume/jupyter/szokereso/negyedikfeladatUjraHet/Főváros/szokeresores/clientreszurt/live_data_2020-08-18_20:01:17_szurt.csv', '/mnt/volume/jupyter/szokereso/negyedikfeladatUjraHet/Főváros/szokeresores/clientreszurt/live_data_2020-08-18_16:01:44_szurt.csv', '/mnt/volume/jupyter/szokereso/negyedikfeladatUjraHet/Főváros/szokeresores/clientreszurt/live_data_2020-08-18_08:03:48_szurt.csv', '/mnt/volume/jupyter/szokereso/negyedikfeladatUjraHet/Főváros/szokeresores/clientreszurt/live_data_2020-08-18_14:01:30_szurt.csv', '/mnt/volume/jupyter/szokereso/negyedikfeladatUjraHet/Főváros/szokeresores/clientreszurt/live_data_2020-08-18_10:01:28_szurt.csv', '/mnt/volume/jupyter/szokereso/negyedikfeladatUjraHet/Főváros/szokeresores/clientreszurt/live_data_2020-08-18_02:02:34_szurt.csv', '/mnt/volume/jupyter/szokereso/negyedikfeladatUjraHet/Főváros/szokeresores/clientreszurt/live_data_2020-08-18_22:01:09_szurt.csv', '/mnt/volume/jupyter/szokereso/negyedikfeladatUjraHet/Főváros/szokeresores/clientreszurt/live_data_2020-08-18_06:00:33_szurt.csv', '/mnt/volume/jupyter/szokereso/negyedikfeladatUjraHet/Főváros/szokeresores/clientreszurt/live_data_2020-08-18_04:00:25_szurt.csv', '/mnt/volume/jupyter/szokereso/negyedikfeladatUjraHet/Főváros/szokeresores/clientreszurt/live_data_2020-08-18_18:01:37_szurt.csv', '/mnt/volume/jupyter/szokereso/negyedikfeladatUjraHet/Főváros/szokeresores/clientreszurt/live_data_2020-08-18_12:01:48_szurt.csv']\n",
      "['/mnt/volume/jupyter/szokereso/negyedikfeladatUjraHet/Főváros/szokeresores/clientreszurt/live_data_2020-08-19_18:02:05_szurt.csv', '/mnt/volume/jupyter/szokereso/negyedikfeladatUjraHet/Főváros/szokeresores/clientreszurt/live_data_2020-08-19_20:01:22_szurt.csv', '/mnt/volume/jupyter/szokereso/negyedikfeladatUjraHet/Főváros/szokeresores/clientreszurt/live_data_2020-08-19_06:00:32_szurt.csv', '/mnt/volume/jupyter/szokereso/negyedikfeladatUjraHet/Főváros/szokeresores/clientreszurt/live_data_2020-08-19_12:02:13_szurt.csv', '/mnt/volume/jupyter/szokereso/negyedikfeladatUjraHet/Főváros/szokeresores/clientreszurt/live_data_2020-08-19_16:01:51_szurt.csv', '/mnt/volume/jupyter/szokereso/negyedikfeladatUjraHet/Főváros/szokeresores/clientreszurt/live_data_2020-08-19_22:00:58_szurt.csv', '/mnt/volume/jupyter/szokereso/negyedikfeladatUjraHet/Főváros/szokeresores/clientreszurt/live_data_2020-08-19_14:01:12_szurt.csv', '/mnt/volume/jupyter/szokereso/negyedikfeladatUjraHet/Főváros/szokeresores/clientreszurt/live_data_2020-08-19_08:00:55_szurt.csv', '/mnt/volume/jupyter/szokereso/negyedikfeladatUjraHet/Főváros/szokeresores/clientreszurt/live_data_2020-08-19_04:00:26_szurt.csv', '/mnt/volume/jupyter/szokereso/negyedikfeladatUjraHet/Főváros/szokeresores/clientreszurt/live_data_2020-08-19_02:02:37_szurt.csv', '/mnt/volume/jupyter/szokereso/negyedikfeladatUjraHet/Főváros/szokeresores/clientreszurt/live_data_2020-08-19_10:01:25_szurt.csv']\n",
      "['/mnt/volume/jupyter/szokereso/negyedikfeladatUjraHet/Főváros/szokeresores/clientreszurt/live_data_2020-08-20_02:00:27_szurt.csv', '/mnt/volume/jupyter/szokereso/negyedikfeladatUjraHet/Főváros/szokeresores/clientreszurt/live_data_2020-08-20_08:00:52_szurt.csv', '/mnt/volume/jupyter/szokereso/negyedikfeladatUjraHet/Főváros/szokeresores/clientreszurt/live_data_2020-08-20_16:01:09_szurt.csv', '/mnt/volume/jupyter/szokereso/negyedikfeladatUjraHet/Főváros/szokeresores/clientreszurt/live_data_2020-08-20_04:00:25_szurt.csv', '/mnt/volume/jupyter/szokereso/negyedikfeladatUjraHet/Főváros/szokeresores/clientreszurt/live_data_2020-08-20_06:00:29_szurt.csv', '/mnt/volume/jupyter/szokereso/negyedikfeladatUjraHet/Főváros/szokeresores/clientreszurt/live_data_2020-08-20_20:00:56_szurt.csv', '/mnt/volume/jupyter/szokereso/negyedikfeladatUjraHet/Főváros/szokeresores/clientreszurt/live_data_2020-08-20_12:01:03_szurt.csv', '/mnt/volume/jupyter/szokereso/negyedikfeladatUjraHet/Főváros/szokeresores/clientreszurt/live_data_2020-08-20_10:01:08_szurt.csv', '/mnt/volume/jupyter/szokereso/negyedikfeladatUjraHet/Főváros/szokeresores/clientreszurt/live_data_2020-08-20_00:00:25_szurt.csv', '/mnt/volume/jupyter/szokereso/negyedikfeladatUjraHet/Főváros/szokeresores/clientreszurt/live_data_2020-08-20_18:01:01_szurt.csv', '/mnt/volume/jupyter/szokereso/negyedikfeladatUjraHet/Főváros/szokeresores/clientreszurt/live_data_2020-08-20_22:00:52_szurt.csv', '/mnt/volume/jupyter/szokereso/negyedikfeladatUjraHet/Főváros/szokeresores/clientreszurt/live_data_2020-08-20_14:01:00_szurt.csv']\n"
     ]
    },
    {
     "name": "stdout",
     "output_type": "stream",
     "text": [
      "['/mnt/volume/jupyter/szokereso/negyedikfeladatUjraHet/Főváros/szokeresores/clientreszurt/live_data_2020-08-21_22:00:51_szurt.csv', '/mnt/volume/jupyter/szokereso/negyedikfeladatUjraHet/Főváros/szokeresores/clientreszurt/live_data_2020-08-21_04:00:26_szurt.csv', '/mnt/volume/jupyter/szokereso/negyedikfeladatUjraHet/Főváros/szokeresores/clientreszurt/live_data_2020-08-21_08:00:49_szurt.csv', '/mnt/volume/jupyter/szokereso/negyedikfeladatUjraHet/Főváros/szokeresores/clientreszurt/live_data_2020-08-21_20:01:10_szurt.csv', '/mnt/volume/jupyter/szokereso/negyedikfeladatUjraHet/Főváros/szokeresores/clientreszurt/live_data_2020-08-21_06:00:27_szurt.csv', '/mnt/volume/jupyter/szokereso/negyedikfeladatUjraHet/Főváros/szokeresores/clientreszurt/live_data_2020-08-21_18:01:11_szurt.csv', '/mnt/volume/jupyter/szokereso/negyedikfeladatUjraHet/Főváros/szokeresores/clientreszurt/live_data_2020-08-21_02:00:27_szurt.csv', '/mnt/volume/jupyter/szokereso/negyedikfeladatUjraHet/Főváros/szokeresores/clientreszurt/live_data_2020-08-21_12:01:04_szurt.csv', '/mnt/volume/jupyter/szokereso/negyedikfeladatUjraHet/Főváros/szokeresores/clientreszurt/live_data_2020-08-21_10:02:57_szurt.csv', '/mnt/volume/jupyter/szokereso/negyedikfeladatUjraHet/Főváros/szokeresores/clientreszurt/live_data_2020-08-21_00:00:28_szurt.csv', '/mnt/volume/jupyter/szokereso/negyedikfeladatUjraHet/Főváros/szokeresores/clientreszurt/live_data_2020-08-21_14:01:06_szurt.csv', '/mnt/volume/jupyter/szokereso/negyedikfeladatUjraHet/Főváros/szokeresores/clientreszurt/live_data_2020-08-21_16:00:55_szurt.csv']\n",
      "['/mnt/volume/jupyter/szokereso/negyedikfeladatUjraHet/Főváros/szokeresores/clientreszurt/live_data_2020-08-22_16:00:50_szurt.csv', '/mnt/volume/jupyter/szokereso/negyedikfeladatUjraHet/Főváros/szokeresores/clientreszurt/live_data_2020-08-22_08:00:42_szurt.csv', '/mnt/volume/jupyter/szokereso/negyedikfeladatUjraHet/Főváros/szokeresores/clientreszurt/live_data_2020-08-22_06:00:24_szurt.csv', '/mnt/volume/jupyter/szokereso/negyedikfeladatUjraHet/Főváros/szokeresores/clientreszurt/live_data_2020-08-22_22:00:48_szurt.csv', '/mnt/volume/jupyter/szokereso/negyedikfeladatUjraHet/Főváros/szokeresores/clientreszurt/live_data_2020-08-22_00:00:25_szurt.csv', '/mnt/volume/jupyter/szokereso/negyedikfeladatUjraHet/Főváros/szokeresores/clientreszurt/live_data_2020-08-22_10:01:04_szurt.csv', '/mnt/volume/jupyter/szokereso/negyedikfeladatUjraHet/Főváros/szokeresores/clientreszurt/live_data_2020-08-22_20:03:54_szurt.csv', '/mnt/volume/jupyter/szokereso/negyedikfeladatUjraHet/Főváros/szokeresores/clientreszurt/live_data_2020-08-22_04:00:26_szurt.csv', '/mnt/volume/jupyter/szokereso/negyedikfeladatUjraHet/Főváros/szokeresores/clientreszurt/live_data_2020-08-22_18:00:57_szurt.csv', '/mnt/volume/jupyter/szokereso/negyedikfeladatUjraHet/Főváros/szokeresores/clientreszurt/live_data_2020-08-22_12:03:23_szurt.csv', '/mnt/volume/jupyter/szokereso/negyedikfeladatUjraHet/Főváros/szokeresores/clientreszurt/live_data_2020-08-22_14:01:01_szurt.csv', '/mnt/volume/jupyter/szokereso/negyedikfeladatUjraHet/Főváros/szokeresores/clientreszurt/live_data_2020-08-22_02:00:25_szurt.csv']\n",
      "['/mnt/volume/jupyter/szokereso/negyedikfeladatUjraHet/Főváros/szokeresores/clientreszurt/live_data_2020-08-23_08:00:35_szurt.csv', '/mnt/volume/jupyter/szokereso/negyedikfeladatUjraHet/Főváros/szokeresores/clientreszurt/live_data_2020-08-23_04:00:23_szurt.csv', '/mnt/volume/jupyter/szokereso/negyedikfeladatUjraHet/Főváros/szokeresores/clientreszurt/live_data_2020-08-23_18:04:03_szurt.csv', '/mnt/volume/jupyter/szokereso/negyedikfeladatUjraHet/Főváros/szokeresores/clientreszurt/live_data_2020-08-23_12:01:10_szurt.csv', '/mnt/volume/jupyter/szokereso/negyedikfeladatUjraHet/Főváros/szokeresores/clientreszurt/live_data_2020-08-23_14:04:53_szurt.csv', '/mnt/volume/jupyter/szokereso/negyedikfeladatUjraHet/Főváros/szokeresores/clientreszurt/live_data_2020-08-23_02:00:27_szurt.csv', '/mnt/volume/jupyter/szokereso/negyedikfeladatUjraHet/Főváros/szokeresores/clientreszurt/live_data_2020-08-23_22:00:55_szurt.csv', '/mnt/volume/jupyter/szokereso/negyedikfeladatUjraHet/Főváros/szokeresores/clientreszurt/live_data_2020-08-23_10:03:51_szurt.csv', '/mnt/volume/jupyter/szokereso/negyedikfeladatUjraHet/Főváros/szokeresores/clientreszurt/live_data_2020-08-23_06:00:28_szurt.csv', '/mnt/volume/jupyter/szokereso/negyedikfeladatUjraHet/Főváros/szokeresores/clientreszurt/live_data_2020-08-23_16:08:06_szurt.csv', '/mnt/volume/jupyter/szokereso/negyedikfeladatUjraHet/Főváros/szokeresores/clientreszurt/live_data_2020-08-23_20:00:52_szurt.csv']\n",
      "['/mnt/volume/jupyter/szokereso/negyedikfeladatUjraHet/Főváros/szokeresores/clientreszurt/live_data_2020-08-24_06:00:28_szurt.csv', '/mnt/volume/jupyter/szokereso/negyedikfeladatUjraHet/Főváros/szokeresores/clientreszurt/live_data_2020-08-24_04:00:24_szurt.csv', '/mnt/volume/jupyter/szokereso/negyedikfeladatUjraHet/Főváros/szokeresores/clientreszurt/live_data_2020-08-24_12:02:01_szurt.csv', '/mnt/volume/jupyter/szokereso/negyedikfeladatUjraHet/Főváros/szokeresores/clientreszurt/live_data_2020-08-24_08:00:43_szurt.csv', '/mnt/volume/jupyter/szokereso/negyedikfeladatUjraHet/Főváros/szokeresores/clientreszurt/live_data_2020-08-24_10:02:09_szurt.csv', '/mnt/volume/jupyter/szokereso/negyedikfeladatUjraHet/Főváros/szokeresores/clientreszurt/live_data_2020-08-24_02:02:37_szurt.csv']\n",
      "[]\n",
      "[]\n",
      "[]\n",
      "[]\n",
      "[]\n",
      "[]\n",
      "[]\n",
      "[]\n",
      "[]\n",
      "[]\n",
      "[]\n",
      "[]\n",
      "[]\n",
      "[]\n",
      "[]\n",
      "[]\n",
      "[]\n",
      "[]\n",
      "[]\n",
      "[]\n",
      "[]\n",
      "[]\n",
      "[]\n",
      "[]\n",
      "[]\n",
      "[]\n",
      "[]\n",
      "[]\n",
      "[]\n",
      "[]\n",
      "[]\n",
      "[]\n",
      "[]\n",
      "[]\n",
      "[]\n",
      "[]\n",
      "[]\n",
      "[]\n",
      "[]\n",
      "[]\n",
      "[]\n",
      "[]\n",
      "[]\n",
      "[]\n",
      "[]\n",
      "[]\n",
      "[]\n",
      "[]\n",
      "[]\n",
      "[]\n",
      "[]\n",
      "[]\n",
      "[]\n",
      "[]\n",
      "[]\n",
      "[]\n",
      "[]\n",
      "[]\n",
      "[]\n",
      "[]\n",
      "[]\n",
      "[]\n",
      "[]\n",
      "[]\n",
      "[]\n",
      "[]\n",
      "[]\n",
      "[]\n",
      "[]\n",
      "[]\n",
      "[]\n",
      "[]\n",
      "[]\n",
      "[]\n",
      "[]\n",
      "[]\n",
      "[]\n",
      "[]\n",
      "[]\n",
      "[]\n",
      "[]\n",
      "[]\n",
      "[]\n",
      "[]\n",
      "[]\n",
      "[]\n",
      "[]\n",
      "[]\n",
      "[]\n",
      "[]\n",
      "[]\n",
      "[]\n",
      "[]\n",
      "[]\n",
      "[]\n",
      "[]\n",
      "[]\n",
      "[]\n",
      "[]\n",
      "[]\n",
      "[]\n",
      "[]\n",
      "[]\n",
      "[]\n",
      "[]\n",
      "[]\n",
      "[]\n",
      "[]\n",
      "[]\n",
      "[]\n",
      "[]\n",
      "[]\n",
      "[]\n",
      "[]\n",
      "[]\n",
      "[]\n",
      "[]\n",
      "[]\n",
      "[]\n",
      "[]\n",
      "[]\n",
      "[]\n",
      "[]\n",
      "[]\n",
      "[]\n",
      "[]\n",
      "[]\n",
      "[]\n",
      "[]\n",
      "[]\n",
      "[]\n",
      "[]\n",
      "[]\n",
      "[]\n",
      "[]\n",
      "[]\n",
      "[]\n",
      "[]\n",
      "[]\n",
      "[]\n",
      "[]\n",
      "[]\n",
      "[]\n",
      "[]\n",
      "[]\n",
      "[]\n",
      "[]\n",
      "[]\n",
      "[]\n",
      "[]\n",
      "[]\n",
      "[]\n"
     ]
    },
    {
     "ename": "KeyboardInterrupt",
     "evalue": "",
     "output_type": "error",
     "traceback": [
      "\u001b[0;31m---------------------------------------------------------------------------\u001b[0m",
      "\u001b[0;31mKeyboardInterrupt\u001b[0m                         Traceback (most recent call last)",
      "\u001b[0;32m<ipython-input-11-5f90ea16ef78>\u001b[0m in \u001b[0;36m<module>\u001b[0;34m\u001b[0m\n\u001b[1;32m      2\u001b[0m     \u001b[0;32mif\u001b[0m \u001b[0mclient\u001b[0m\u001b[0;34m==\u001b[0m\u001b[0;34m'Jobbik'\u001b[0m\u001b[0;34m:\u001b[0m\u001b[0;34m\u001b[0m\u001b[0;34m\u001b[0m\u001b[0m\n\u001b[1;32m      3\u001b[0m         \u001b[0;32mfor\u001b[0m \u001b[0msingle_date\u001b[0m \u001b[0;32min\u001b[0m \u001b[0;34m(\u001b[0m\u001b[0mstart_date\u001b[0m \u001b[0;34m+\u001b[0m \u001b[0mdatetime\u001b[0m\u001b[0;34m.\u001b[0m\u001b[0mtimedelta\u001b[0m\u001b[0;34m(\u001b[0m\u001b[0mn\u001b[0m\u001b[0;34m)\u001b[0m \u001b[0;32mfor\u001b[0m \u001b[0mn\u001b[0m \u001b[0;32min\u001b[0m \u001b[0mrange\u001b[0m\u001b[0;34m(\u001b[0m\u001b[0mday_count\u001b[0m\u001b[0;34m)\u001b[0m\u001b[0;34m)\u001b[0m\u001b[0;34m:\u001b[0m\u001b[0;34m\u001b[0m\u001b[0;34m\u001b[0m\u001b[0m\n\u001b[0;32m----> 4\u001b[0;31m             \u001b[0mfilesThatDate\u001b[0m \u001b[0;34m=\u001b[0m \u001b[0mgetFilesOnGivenDate\u001b[0m\u001b[0;34m(\u001b[0m\u001b[0msingle_date\u001b[0m\u001b[0;34m,\u001b[0m\u001b[0mmomFilesPathAndWildCard\u001b[0m\u001b[0;34m)\u001b[0m\u001b[0;34m\u001b[0m\u001b[0;34m\u001b[0m\u001b[0m\n\u001b[0m\u001b[1;32m      5\u001b[0m             \u001b[0mprint\u001b[0m\u001b[0;34m(\u001b[0m\u001b[0mfilesThatDate\u001b[0m\u001b[0;34m)\u001b[0m\u001b[0;34m\u001b[0m\u001b[0;34m\u001b[0m\u001b[0m\n",
      "\u001b[0;32m<ipython-input-1-337f648b1a69>\u001b[0m in \u001b[0;36mgetFilesOnGivenDate\u001b[0;34m(day, momFilesPathAndWildCard)\u001b[0m\n\u001b[1;32m     94\u001b[0m \u001b[0;34m\u001b[0m\u001b[0m\n\u001b[1;32m     95\u001b[0m     return list(\n\u001b[0;32m---> 96\u001b[0;31m     \u001b[0mset\u001b[0m\u001b[0;34m(\u001b[0m\u001b[0mget_files_sorted_by_date_after_a_date\u001b[0m\u001b[0;34m(\u001b[0m\u001b[0mmomFilesPathAndWildCard\u001b[0m\u001b[0;34m,\u001b[0m\u001b[0;34m[\u001b[0m\u001b[0mday\u001b[0m\u001b[0;34m.\u001b[0m\u001b[0myear\u001b[0m\u001b[0;34m,\u001b[0m\u001b[0mday\u001b[0m\u001b[0;34m.\u001b[0m\u001b[0mmonth\u001b[0m\u001b[0;34m,\u001b[0m\u001b[0mday\u001b[0m\u001b[0;34m.\u001b[0m\u001b[0mday\u001b[0m\u001b[0;34m,\u001b[0m\u001b[0;36m0\u001b[0m\u001b[0;34m]\u001b[0m\u001b[0;34m)\u001b[0m\u001b[0;34m)\u001b[0m\u001b[0;34m-\u001b[0m\u001b[0;31m\\\u001b[0m\u001b[0;34m\u001b[0m\u001b[0;34m\u001b[0m\u001b[0m\n\u001b[0m\u001b[1;32m     97\u001b[0m     set(get_files_sorted_by_date_after_a_date(momFilesPathAndWildCard,[dayafterday.year,dayafterday.month,dayafterday.day,0])))\n\u001b[1;32m     98\u001b[0m \u001b[0;34m\u001b[0m\u001b[0m\n",
      "\u001b[0;32m<ipython-input-1-337f648b1a69>\u001b[0m in \u001b[0;36mget_files_sorted_by_date_after_a_date\u001b[0;34m(look_for_this_pattern, cutoffdate)\u001b[0m\n\u001b[1;32m     76\u001b[0m \u001b[0;34m\u001b[0m\u001b[0m\n\u001b[1;32m     77\u001b[0m \u001b[0;32mdef\u001b[0m \u001b[0mget_files_sorted_by_date_after_a_date\u001b[0m\u001b[0;34m(\u001b[0m\u001b[0mlook_for_this_pattern\u001b[0m\u001b[0;34m,\u001b[0m \u001b[0mcutoffdate\u001b[0m\u001b[0;34m)\u001b[0m\u001b[0;34m:\u001b[0m\u001b[0;34m\u001b[0m\u001b[0;34m\u001b[0m\u001b[0m\n\u001b[0;32m---> 78\u001b[0;31m     \u001b[0mcsvs\u001b[0m \u001b[0;34m=\u001b[0m \u001b[0mglob\u001b[0m\u001b[0;34m.\u001b[0m\u001b[0mglob\u001b[0m\u001b[0;34m(\u001b[0m\u001b[0mlook_for_this_pattern\u001b[0m\u001b[0;34m)\u001b[0m\u001b[0;34m\u001b[0m\u001b[0;34m\u001b[0m\u001b[0m\n\u001b[0m\u001b[1;32m     79\u001b[0m     \u001b[0mdatetimes\u001b[0m\u001b[0;34m=\u001b[0m\u001b[0;34m[\u001b[0m\u001b[0mdatetime\u001b[0m\u001b[0;34m.\u001b[0m\u001b[0mdatetime\u001b[0m\u001b[0;34m(\u001b[0m\u001b[0;34m*\u001b[0m\u001b[0;34m[\u001b[0m\u001b[0mint\u001b[0m\u001b[0;34m(\u001b[0m\u001b[0mnum\u001b[0m\u001b[0;34m)\u001b[0m \u001b[0;32mfor\u001b[0m \u001b[0mnum\u001b[0m \u001b[0;32min\u001b[0m \u001b[0mre\u001b[0m\u001b[0;34m.\u001b[0m\u001b[0mfindall\u001b[0m\u001b[0;34m(\u001b[0m\u001b[0;34mr'\\d+'\u001b[0m\u001b[0;34m,\u001b[0m \u001b[0meach\u001b[0m\u001b[0;34m)\u001b[0m\u001b[0;34m[\u001b[0m\u001b[0;34m:\u001b[0m\u001b[0;36m4\u001b[0m\u001b[0;34m]\u001b[0m\u001b[0;34m]\u001b[0m\u001b[0;34m)\u001b[0m \u001b[0;32mfor\u001b[0m \u001b[0meach\u001b[0m \u001b[0;32min\u001b[0m \u001b[0mcsvs\u001b[0m\u001b[0;34m]\u001b[0m\u001b[0;34m\u001b[0m\u001b[0;34m\u001b[0m\u001b[0m\n\u001b[1;32m     80\u001b[0m     \u001b[0mdt_csvs_filtered\u001b[0m\u001b[0;34m=\u001b[0m\u001b[0;34m[\u001b[0m\u001b[0;34m[\u001b[0m\u001b[0mdt\u001b[0m\u001b[0;34m,\u001b[0m \u001b[0mcsv\u001b[0m\u001b[0;34m]\u001b[0m \u001b[0;32mfor\u001b[0m \u001b[0mdt\u001b[0m\u001b[0;34m,\u001b[0m \u001b[0mcsv\u001b[0m \u001b[0;32min\u001b[0m \u001b[0mzip\u001b[0m\u001b[0;34m(\u001b[0m\u001b[0mdatetimes\u001b[0m\u001b[0;34m,\u001b[0m\u001b[0mcsvs\u001b[0m\u001b[0;34m)\u001b[0m \u001b[0;32mif\u001b[0m \u001b[0mdt\u001b[0m \u001b[0;34m>=\u001b[0m \u001b[0mdatetime\u001b[0m\u001b[0;34m.\u001b[0m\u001b[0mdatetime\u001b[0m\u001b[0;34m(\u001b[0m\u001b[0;34m*\u001b[0m\u001b[0mcutoffdate\u001b[0m\u001b[0;34m)\u001b[0m\u001b[0;34m]\u001b[0m\u001b[0;34m\u001b[0m\u001b[0;34m\u001b[0m\u001b[0m\n",
      "\u001b[0;32m/usr/lib/python3.6/glob.py\u001b[0m in \u001b[0;36mglob\u001b[0;34m(pathname, recursive)\u001b[0m\n\u001b[1;32m     18\u001b[0m     \u001b[0mzero\u001b[0m \u001b[0;32mor\u001b[0m \u001b[0mmore\u001b[0m \u001b[0mdirectories\u001b[0m \u001b[0;32mand\u001b[0m \u001b[0msubdirectories\u001b[0m\u001b[0;34m.\u001b[0m\u001b[0;34m\u001b[0m\u001b[0;34m\u001b[0m\u001b[0m\n\u001b[1;32m     19\u001b[0m     \"\"\"\n\u001b[0;32m---> 20\u001b[0;31m     \u001b[0;32mreturn\u001b[0m \u001b[0mlist\u001b[0m\u001b[0;34m(\u001b[0m\u001b[0miglob\u001b[0m\u001b[0;34m(\u001b[0m\u001b[0mpathname\u001b[0m\u001b[0;34m,\u001b[0m \u001b[0mrecursive\u001b[0m\u001b[0;34m=\u001b[0m\u001b[0mrecursive\u001b[0m\u001b[0;34m)\u001b[0m\u001b[0;34m)\u001b[0m\u001b[0;34m\u001b[0m\u001b[0;34m\u001b[0m\u001b[0m\n\u001b[0m\u001b[1;32m     21\u001b[0m \u001b[0;34m\u001b[0m\u001b[0m\n\u001b[1;32m     22\u001b[0m \u001b[0;32mdef\u001b[0m \u001b[0miglob\u001b[0m\u001b[0;34m(\u001b[0m\u001b[0mpathname\u001b[0m\u001b[0;34m,\u001b[0m \u001b[0;34m*\u001b[0m\u001b[0;34m,\u001b[0m \u001b[0mrecursive\u001b[0m\u001b[0;34m=\u001b[0m\u001b[0;32mFalse\u001b[0m\u001b[0;34m)\u001b[0m\u001b[0;34m:\u001b[0m\u001b[0;34m\u001b[0m\u001b[0;34m\u001b[0m\u001b[0m\n",
      "\u001b[0;32m/usr/lib/python3.6/glob.py\u001b[0m in \u001b[0;36m_iglob\u001b[0;34m(pathname, recursive, dironly)\u001b[0m\n\u001b[1;32m     70\u001b[0m         \u001b[0mglob_in_dir\u001b[0m \u001b[0;34m=\u001b[0m \u001b[0m_glob0\u001b[0m\u001b[0;34m\u001b[0m\u001b[0;34m\u001b[0m\u001b[0m\n\u001b[1;32m     71\u001b[0m     \u001b[0;32mfor\u001b[0m \u001b[0mdirname\u001b[0m \u001b[0;32min\u001b[0m \u001b[0mdirs\u001b[0m\u001b[0;34m:\u001b[0m\u001b[0;34m\u001b[0m\u001b[0;34m\u001b[0m\u001b[0m\n\u001b[0;32m---> 72\u001b[0;31m         \u001b[0;32mfor\u001b[0m \u001b[0mname\u001b[0m \u001b[0;32min\u001b[0m \u001b[0mglob_in_dir\u001b[0m\u001b[0;34m(\u001b[0m\u001b[0mdirname\u001b[0m\u001b[0;34m,\u001b[0m \u001b[0mbasename\u001b[0m\u001b[0;34m,\u001b[0m \u001b[0mdironly\u001b[0m\u001b[0;34m)\u001b[0m\u001b[0;34m:\u001b[0m\u001b[0;34m\u001b[0m\u001b[0;34m\u001b[0m\u001b[0m\n\u001b[0m\u001b[1;32m     73\u001b[0m             \u001b[0;32myield\u001b[0m \u001b[0mos\u001b[0m\u001b[0;34m.\u001b[0m\u001b[0mpath\u001b[0m\u001b[0;34m.\u001b[0m\u001b[0mjoin\u001b[0m\u001b[0;34m(\u001b[0m\u001b[0mdirname\u001b[0m\u001b[0;34m,\u001b[0m \u001b[0mname\u001b[0m\u001b[0;34m)\u001b[0m\u001b[0;34m\u001b[0m\u001b[0;34m\u001b[0m\u001b[0m\n\u001b[1;32m     74\u001b[0m \u001b[0;34m\u001b[0m\u001b[0m\n",
      "\u001b[0;32m/usr/lib/python3.6/glob.py\u001b[0m in \u001b[0;36m_glob1\u001b[0;34m(dirname, pattern, dironly)\u001b[0m\n\u001b[1;32m     78\u001b[0m \u001b[0;34m\u001b[0m\u001b[0m\n\u001b[1;32m     79\u001b[0m \u001b[0;32mdef\u001b[0m \u001b[0m_glob1\u001b[0m\u001b[0;34m(\u001b[0m\u001b[0mdirname\u001b[0m\u001b[0;34m,\u001b[0m \u001b[0mpattern\u001b[0m\u001b[0;34m,\u001b[0m \u001b[0mdironly\u001b[0m\u001b[0;34m)\u001b[0m\u001b[0;34m:\u001b[0m\u001b[0;34m\u001b[0m\u001b[0;34m\u001b[0m\u001b[0m\n\u001b[0;32m---> 80\u001b[0;31m     \u001b[0mnames\u001b[0m \u001b[0;34m=\u001b[0m \u001b[0mlist\u001b[0m\u001b[0;34m(\u001b[0m\u001b[0m_iterdir\u001b[0m\u001b[0;34m(\u001b[0m\u001b[0mdirname\u001b[0m\u001b[0;34m,\u001b[0m \u001b[0mdironly\u001b[0m\u001b[0;34m)\u001b[0m\u001b[0;34m)\u001b[0m\u001b[0;34m\u001b[0m\u001b[0;34m\u001b[0m\u001b[0m\n\u001b[0m\u001b[1;32m     81\u001b[0m     \u001b[0;32mif\u001b[0m \u001b[0;32mnot\u001b[0m \u001b[0m_ishidden\u001b[0m\u001b[0;34m(\u001b[0m\u001b[0mpattern\u001b[0m\u001b[0;34m)\u001b[0m\u001b[0;34m:\u001b[0m\u001b[0;34m\u001b[0m\u001b[0;34m\u001b[0m\u001b[0m\n\u001b[1;32m     82\u001b[0m         \u001b[0mnames\u001b[0m \u001b[0;34m=\u001b[0m \u001b[0;34m(\u001b[0m\u001b[0mx\u001b[0m \u001b[0;32mfor\u001b[0m \u001b[0mx\u001b[0m \u001b[0;32min\u001b[0m \u001b[0mnames\u001b[0m \u001b[0;32mif\u001b[0m \u001b[0;32mnot\u001b[0m \u001b[0m_ishidden\u001b[0m\u001b[0;34m(\u001b[0m\u001b[0mx\u001b[0m\u001b[0;34m)\u001b[0m\u001b[0;34m)\u001b[0m\u001b[0;34m\u001b[0m\u001b[0;34m\u001b[0m\u001b[0m\n",
      "\u001b[0;32m/usr/lib/python3.6/glob.py\u001b[0m in \u001b[0;36m_iterdir\u001b[0;34m(dirname, dironly)\u001b[0m\n\u001b[1;32m    119\u001b[0m             \u001b[0mdirname\u001b[0m \u001b[0;34m=\u001b[0m \u001b[0mos\u001b[0m\u001b[0;34m.\u001b[0m\u001b[0mcurdir\u001b[0m\u001b[0;34m\u001b[0m\u001b[0;34m\u001b[0m\u001b[0m\n\u001b[1;32m    120\u001b[0m     \u001b[0;32mtry\u001b[0m\u001b[0;34m:\u001b[0m\u001b[0;34m\u001b[0m\u001b[0;34m\u001b[0m\u001b[0m\n\u001b[0;32m--> 121\u001b[0;31m         \u001b[0;32mwith\u001b[0m \u001b[0mos\u001b[0m\u001b[0;34m.\u001b[0m\u001b[0mscandir\u001b[0m\u001b[0;34m(\u001b[0m\u001b[0mdirname\u001b[0m\u001b[0;34m)\u001b[0m \u001b[0;32mas\u001b[0m \u001b[0mit\u001b[0m\u001b[0;34m:\u001b[0m\u001b[0;34m\u001b[0m\u001b[0;34m\u001b[0m\u001b[0m\n\u001b[0m\u001b[1;32m    122\u001b[0m             \u001b[0;32mfor\u001b[0m \u001b[0mentry\u001b[0m \u001b[0;32min\u001b[0m \u001b[0mit\u001b[0m\u001b[0;34m:\u001b[0m\u001b[0;34m\u001b[0m\u001b[0;34m\u001b[0m\u001b[0m\n\u001b[1;32m    123\u001b[0m                 \u001b[0;32mtry\u001b[0m\u001b[0;34m:\u001b[0m\u001b[0;34m\u001b[0m\u001b[0;34m\u001b[0m\u001b[0m\n",
      "\u001b[0;31mKeyboardInterrupt\u001b[0m: "
     ]
    }
   ],
   "source": [
    "for client in clients:\n",
    "    if client=='Jobbik':\n",
    "        for single_date in (start_date + datetime.timedelta(n) for n in range(day_count)):\n",
    "            if sdatetime.datetime(2021, 1, 24, 0, 0):\n",
    "            filesThatDate = getFilesOnGivenDate(single_date,momFilesPathAndWildCard)\n",
    "            print(filesThatDate)"
   ]
  },
  {
   "cell_type": "code",
   "execution_count": 4,
   "metadata": {},
   "outputs": [
    {
     "data": {
      "text/plain": [
       "False"
      ]
     },
     "execution_count": 4,
     "metadata": {},
     "output_type": "execute_result"
    }
   ],
   "source": [
    "single_date==datetime.datetime(2021,5,10,0,0)"
   ]
  },
  {
   "cell_type": "code",
   "execution_count": 7,
   "metadata": {},
   "outputs": [
    {
     "data": {
      "text/plain": [
       "True"
      ]
     },
     "execution_count": 7,
     "metadata": {},
     "output_type": "execute_result"
    }
   ],
   "source": [
    "start_date == start_date"
   ]
  },
  {
   "cell_type": "code",
   "execution_count": 12,
   "metadata": {},
   "outputs": [
    {
     "data": {
      "text/plain": [
       "True"
      ]
     },
     "execution_count": 12,
     "metadata": {},
     "output_type": "execute_result"
    }
   ],
   "source": [
    "start_date == datetime.datetime(2020, 7, 1, 0, 0)\n"
   ]
  },
  {
   "cell_type": "code",
   "execution_count": 14,
   "metadata": {},
   "outputs": [
    {
     "data": {
      "text/plain": [
       "True"
      ]
     },
     "execution_count": 14,
     "metadata": {},
     "output_type": "execute_result"
    }
   ],
   "source": [
    "single_date == datetime.datetime(2021, 1, 24, 0, 0)\n"
   ]
  },
  {
   "cell_type": "code",
   "execution_count": 20,
   "metadata": {},
   "outputs": [
    {
     "name": "stdout",
     "output_type": "stream",
     "text": [
      "Jobbik/szokeresores/clientreszurt/live_data_2020-08-22_00:00:25_szurt.csv\r\n",
      "Jobbik/szokeresores/clientreszurt/live_data_2020-08-22_02:00:25_szurt.csv\r\n",
      "Jobbik/szokeresores/clientreszurt/live_data_2020-08-22_04:00:26_szurt.csv\r\n",
      "Jobbik/szokeresores/clientreszurt/live_data_2020-08-22_06:00:24_szurt.csv\r\n",
      "Jobbik/szokeresores/clientreszurt/live_data_2020-08-22_08:00:42_szurt.csv\r\n",
      "Jobbik/szokeresores/clientreszurt/live_data_2020-08-22_10:01:04_szurt.csv\r\n",
      "Jobbik/szokeresores/clientreszurt/live_data_2020-08-22_12:03:23_szurt.csv\r\n",
      "Jobbik/szokeresores/clientreszurt/live_data_2020-08-22_14:01:01_szurt.csv\r\n",
      "Jobbik/szokeresores/clientreszurt/live_data_2020-08-22_16:00:50_szurt.csv\r\n",
      "Jobbik/szokeresores/clientreszurt/live_data_2020-08-22_18:00:57_szurt.csv\r\n",
      "Jobbik/szokeresores/clientreszurt/live_data_2020-08-22_20:03:54_szurt.csv\r\n",
      "Jobbik/szokeresores/clientreszurt/live_data_2020-08-22_22:00:48_szurt.csv\r\n"
     ]
    }
   ],
   "source": [
    "!ls Jobbik/szokeresores/clientreszurt/*08-22*"
   ]
  },
  {
   "cell_type": "code",
   "execution_count": 18,
   "metadata": {},
   "outputs": [
    {
     "name": "stdout",
     "output_type": "stream",
     "text": [
      "/mnt/volume/jupyter/szokereso/negyedikfeladatUjraHet\r\n"
     ]
    }
   ],
   "source": [
    "!pwd"
   ]
  },
  {
   "cell_type": "code",
   "execution_count": 21,
   "metadata": {},
   "outputs": [
    {
     "name": "stdout",
     "output_type": "stream",
     "text": [
      "../negyedikfeladat\r\n",
      "../negyedikfeladatOsszevonasokkal\r\n",
      "../negyedikfeladatScriptsUnited\r\n",
      "../negyedikfeladatScriptsUnited2\r\n",
      "../negyedikfeladatScriptsUnited3\r\n",
      "../negyedikfeladatScriptsUnitedDK\r\n",
      "../negyedikfeladatScriptsUnitedFidesz\r\n",
      "../negyedikfeladatScriptsUnitedFőváros\r\n",
      "../negyedikfeladatScriptsUnitedJobbik\r\n",
      "../negyedikfeladatScriptsUnitedKDNP\r\n",
      "../negyedikfeladatScriptsUnitedLMP\r\n",
      "../negyedikfeladatScriptsUnitedMiHazánk\r\n",
      "../negyedikfeladatScriptsUnitedMomentum\r\n",
      "../negyedikfeladatScriptsUnitedMSZP\r\n",
      "../negyedikfeladatScriptsUnitedPárbeszéd\r\n",
      "../negyedikfeladatUjra\r\n",
      "../negyedikfeladatUjraHarom\r\n",
      "../negyedikfeladatUjraHat\r\n",
      "../negyedikfeladatUjraHet\r\n",
      "../negyedikfeladatUjraKetto\r\n",
      "../negyedikfeladatUjraNegy\r\n",
      "../negyedikfeladatUjraOt\r\n"
     ]
    }
   ],
   "source": [
    "!ls ../negyedikfe* -d"
   ]
  },
  {
   "cell_type": "code",
   "execution_count": null,
   "metadata": {},
   "outputs": [],
   "source": []
  }
 ],
 "metadata": {
  "kernelspec": {
   "display_name": "Python 3",
   "language": "python",
   "name": "python3"
  },
  "language_info": {
   "codemirror_mode": {
    "name": "ipython",
    "version": 3
   },
   "file_extension": ".py",
   "mimetype": "text/x-python",
   "name": "python",
   "nbconvert_exporter": "python",
   "pygments_lexer": "ipython3",
   "version": "3.6.9"
  }
 },
 "nbformat": 4,
 "nbformat_minor": 4
}
