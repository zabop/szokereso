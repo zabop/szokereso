{
 "cells": [
  {
   "cell_type": "code",
   "execution_count": 2,
   "metadata": {},
   "outputs": [
    {
     "data": {
      "text/plain": [
       "\"\\nnecessary imports\\nszokereso_functions.py is a file, currently in the same directory as this file (ie szokereso_core)\\nIf you move them, you'll need to take care not to mess up the import, for which, I recommend:\\nhttps://stackoverflow.com/q/4383571/8565438\\n\""
      ]
     },
     "execution_count": 2,
     "metadata": {},
     "output_type": "execute_result"
    }
   ],
   "source": [
    "import szokereso_functions as sf\n",
    "import pandas as pd\n",
    "import pathlib\n",
    "'''\n",
    "necessary imports\n",
    "szokereso_functions.py is a file, currently in the same directory as this file (ie szokereso_core)\n",
    "If you move them, you'll need to take care not to mess up the import, for which, I recommend:\n",
    "https://stackoverflow.com/q/4383571/8565438\n",
    "'''"
   ]
  },
  {
   "cell_type": "code",
   "execution_count": 3,
   "metadata": {},
   "outputs": [
    {
     "data": {
      "text/plain": [
       "'\\nSetting variables which will be used later.\\nexcelFile is the path to the dictionary file, where the names are coming from\\nlistOfColsWeWantToOutput is the name of the columns we are writing to csv file.\\nIf debugmode is True, not output will be produced.\\npath needed to handle output locations correctly\\n'"
      ]
     },
     "execution_count": 3,
     "metadata": {},
     "output_type": "execute_result"
    }
   ],
   "source": [
    "excelFile='/mnt/volume/jupyter/szokereso/negyedikfeladatUjraHat/vip_szotar_1.5.xlsx'\n",
    "\n",
    "listOfColsWeWantToOutput = ['TITLE', 'URL', 'AGEGROUP', 'OWNTIME', 'SCRAPETIME', 'TEXT', 'AUTHOR',\n",
    "                            'OUTLET', 'TOP1', 'TOP2', 'TOP4', 'TOP8', 'TOP12', 'TOP24', 'TOP48',\n",
    "                            'clientdict0', 'clientdict1','clientdict2', 'clientdict3',\n",
    "                            'clientdict4', 'clientdict5','clientdict6', 'clientdict7',\n",
    "                            'clientdict8', 'clientdict9']\n",
    "\n",
    "debugmode=True\n",
    "path=str(pathlib.Path().absolute())\n",
    "\n",
    "'''\n",
    "Setting variables which will be used later.\n",
    "excelFile is the path to the dictionary file, where the names are coming from\n",
    "listOfColsWeWantToOutput is the name of the columns we are writing to csv file.\n",
    "If debugmode is True, not output will be produced.\n",
    "path needed to handle output locations correctly\n",
    "'''"
   ]
  },
  {
   "cell_type": "code",
   "execution_count": null,
   "metadata": {},
   "outputs": [
    {
     "name": "stdout",
     "output_type": "stream",
     "text": [
      "Directory tree has been built here: /mnt/volume/jupyter/szokereso/negyedikfeladatUjraHet/\n",
      "(If you want to build it somewhere else, make sure  this function is in the directory you want the directory tree to be in.)\n"
     ]
    }
   ],
   "source": [
    "dfs = sf.prepareDirectoryTreeAndReturnDfs(excelFile,path)\n",
    "#To get help with how the function above works, just call: help(sf.prepareDirectoryTreeAndReturnDfs)\n",
    "\n",
    "clients=list(dfs.keys())\n",
    "#ie the list \n",
    "\n",
    "\n",
    "while True:\n",
    "    for client in clients:\n",
    "        \n",
    "        preMomFile,\\\n",
    "        postMomFileSzokereso,\\\n",
    "        inputPathAndWildcard,\\\n",
    "        postMomFileSzurt,\\\n",
    "        szokeresoResFilesPath,\\\n",
    "        szokeresoResFilesPathAndWildcard,\\\n",
    "        momentumraSzurtSzokeresesPath = sf.pathFinder(client,path=path)\n",
    "        \n",
    "        while True:\n",
    "            todoFiles = sf.get_files_sorted_by_date_after_a_date(inputPathAndWildcard,[2020,7,1,0])\n",
    "            todoFilesWithoutOutput = sf.getTodoFilesWithoutOutput(\n",
    "                                        todoFiles=todoFiles,\n",
    "                                        outputFiles=sf.getOutputFiles(szokeresoResFilesPathAndWildcard))\n",
    "            if len(todoFilesWithoutOutput) == 0: break\n",
    "            targetcsv=todoFilesWithoutOutput[0]\n",
    "            targetdf = pd.read_csv(targetcsv)\n",
    "            #dictionaries=getDictionaries(clientSearchlist=getSearchListFromTabName(tabName=client))\n",
    "\n",
    "            dictionary = sf.dictionary_class('clientdict',10,sf.getSearchListFromTabName(tabName=client,excelFile=excelFile))\n",
    "            \n",
    "            #num_of_columns_for_each_dict={dictionary.name: dictionary.maxcolnum for dictionary in dictionaries}\n",
    "            num_of_columns_for_each_dict={dictionary.name: dictionary.maxcolnum}\n",
    "            for each in num_of_columns_for_each_dict:\n",
    "                for index in range(num_of_columns_for_each_dict[each]):\n",
    "                    targetdf[each + str(index)]=''\n",
    "                    \n",
    "            for icell, cell in enumerate(list(targetdf['TEXT'])):\n",
    "                if type(cell) is not float:\n",
    "                    sf_matchfinder=sf.matchfinder(cell,dictionary.searchlist)\n",
    "                    if not len(sf_matchfinder) > dictionary.maxcolnum and len(sf_matchfinder)>0:\n",
    "                        for i, e in enumerate(sf_matchfinder):\n",
    "                            targetdf.loc[icell,dictionary.name+str(i)]=e\n",
    "                                            \n",
    "            filenamecore = targetcsv.split('/')[-1].split('.')[0]\n",
    "            szokeresoResFilePathAndName=szokeresoResFilesPath+preMomFile+filenamecore+postMomFileSzokereso\n",
    "            targetdf = targetdf[targetdf['clientdict0'].str.len()>0]\n",
    "\n",
    "            classeddf = sf.equivalences(\n",
    "                targetdf[[col for col in targetdf.columns if 'client' in col]],sf.getEquivalenceClasses(dfs[client]))\n",
    "\n",
    "            classeddf.rename(columns={col:col+'clssd' for col in targetdf.columns},inplace=True)\n",
    "            targetdf = targetdf.join(classeddf)\n",
    "            \n",
    "            print(momentumraSzurtSzokeresesPath+preMomFile+filenamecore+postMomFileSzurt)\n",
    "            targetdf.drop(columns=[col for col in targetdf.columns if 'client' in col and 'clssd' not in col],inplace=True)\n",
    "            targetdf.rename(columns={col:col.replace('clssd','') for col in targetdf.columns if 'client' in col},inplace=True)\n",
    "            if not debugmode: targetdf[listOfColsWeWantToOutput].to_csv(momentumraSzurtSzokeresesPath+preMomFile+filenamecore+postMomFileSzurt,index=False)\n",
    "            #targetdf[listOfColsWeWantToOutput].to_csv('probaout.csv',index=False)\n",
    "         \n",
    "    sf.doThisWhenNoFileIsFoundToProcess()"
   ]
  },
  {
   "cell_type": "code",
   "execution_count": null,
   "metadata": {},
   "outputs": [],
   "source": []
  }
 ],
 "metadata": {
  "kernelspec": {
   "display_name": "Python 3",
   "language": "python",
   "name": "python3"
  },
  "language_info": {
   "codemirror_mode": {
    "name": "ipython",
    "version": 3
   },
   "file_extension": ".py",
   "mimetype": "text/x-python",
   "name": "python",
   "nbconvert_exporter": "python",
   "pygments_lexer": "ipython3",
   "version": "3.6.9"
  }
 },
 "nbformat": 4,
 "nbformat_minor": 4
}
