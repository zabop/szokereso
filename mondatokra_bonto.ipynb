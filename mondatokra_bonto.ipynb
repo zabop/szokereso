{
 "cells": [
  {
   "cell_type": "code",
   "execution_count": 1,
   "metadata": {},
   "outputs": [],
   "source": [
    "import pandas as pd"
   ]
  },
  {
   "cell_type": "code",
   "execution_count": 8,
   "metadata": {},
   "outputs": [],
   "source": [
    "df = pd.read_csv('resultfiles/data_2020-07-13_02:00:24_szokereso_result.csv')"
   ]
  },
  {
   "cell_type": "code",
   "execution_count": 79,
   "metadata": {},
   "outputs": [
    {
     "name": "stdout",
     "output_type": "stream",
     "text": [
      "1 4 milliárd fényéven át húzódó falat találtak az univerzumban\n",
      "Egyre több jel mutat arra hogy haldokló csillagoknak köszönhetjük az életet a Földön\n",
      "Magyarország igazi nagyhatalom a lakhatás drágulásában\n",
      "A Google Térkép elkezdte mutatni a közlekedési lámpákat az USA-ban\n",
      "Ha már unod a gót és a sakkot íme két különleges háborús játék a Qubit ajánlásával\n",
      "Mit tehetsz a leömlő esővízzel hogy jobb legyen neked és a Földnek is?\n",
      "WMO: Öt éven belül átléphetjük az 1 5 Celsius-fokos klímacélt\n",
      "A Harvard és az MIT beperelte a Trump-adminisztrációt\n",
      "A kínai uralom lenullázza az internetet is Hongkongban\n",
      "Magyar kutatók foglalták össze mitől cifra a kutyabunda\n",
      "Szoros kapcsolatot szeretne a kormánnyal Freund Tamás az MTA új elnöke\n"
     ]
    }
   ],
   "source": [
    "for each in df['TITLE'][0:25]:\n",
    "    if len(each)<85:\n",
    "        #print('hw')\n",
    "        print(str(each))"
   ]
  },
  {
   "cell_type": "code",
   "execution_count": 72,
   "metadata": {},
   "outputs": [
    {
     "data": {
      "text/plain": [
       "92"
      ]
     },
     "execution_count": 72,
     "metadata": {},
     "output_type": "execute_result"
    }
   ],
   "source": [
    "len(each)"
   ]
  },
  {
   "cell_type": "code",
   "execution_count": 14,
   "metadata": {
    "collapsed": true
   },
   "outputs": [
    {
     "name": "stderr",
     "output_type": "stream",
     "text": [
      "Downloading https://raw.githubusercontent.com/stanfordnlp/stanza-resources/master/resources_1.0.0.json: 115kB [00:00, 30.5MB/s]                    \n",
      "2020-07-21 23:24:16 INFO: Downloading default packages for language: hu (Hungarian)...\n",
      "2020-07-21 23:24:16 INFO: File exists: /mnt/volume/jupyter/stanza_resources/hu/default.zip.\n",
      "2020-07-21 23:24:20 INFO: Finished downloading models and saved to /mnt/volume/jupyter/stanza_resources.\n",
      "2020-07-21 23:24:20 INFO: Loading these models for language: hu (Hungarian):\n",
      "=======================\n",
      "| Processor | Package |\n",
      "-----------------------\n",
      "| tokenize  | szeged  |\n",
      "| pos       | szeged  |\n",
      "| lemma     | szeged  |\n",
      "| depparse  | szeged  |\n",
      "=======================\n",
      "\n",
      "2020-07-21 23:24:20 INFO: Use device: cpu\n",
      "2020-07-21 23:24:20 INFO: Loading: tokenize\n",
      "2020-07-21 23:24:20 INFO: Loading: pos\n",
      "2020-07-21 23:24:21 INFO: Loading: lemma\n",
      "2020-07-21 23:24:21 INFO: Loading: depparse\n",
      "2020-07-21 23:24:23 INFO: Done loading processors!\n"
     ]
    }
   ],
   "source": [
    "import stanza\n",
    "stanza.download('hu')\n",
    "nlp = stanza.Pipeline('hu')"
   ]
  },
  {
   "cell_type": "code",
   "execution_count": 16,
   "metadata": {},
   "outputs": [],
   "source": [
    "doc = nlp(df['TEXT'][0])"
   ]
  },
  {
   "cell_type": "code",
   "execution_count": 18,
   "metadata": {},
   "outputs": [],
   "source": [
    "doc_sentences=doc.sentences"
   ]
  },
  {
   "cell_type": "code",
   "execution_count": 52,
   "metadata": {},
   "outputs": [],
   "source": [
    "sentencesList=[' '.join([word.text for word in sentence.words]) for sentence in doc_sentences]"
   ]
  },
  {
   "cell_type": "code",
   "execution_count": null,
   "metadata": {},
   "outputs": [],
   "source": []
  }
 ],
 "metadata": {
  "kernelspec": {
   "display_name": "Python 3",
   "language": "python",
   "name": "python3"
  },
  "language_info": {
   "codemirror_mode": {
    "name": "ipython",
    "version": 3
   },
   "file_extension": ".py",
   "mimetype": "text/x-python",
   "name": "python",
   "nbconvert_exporter": "python",
   "pygments_lexer": "ipython3",
   "version": "3.6.9"
  }
 },
 "nbformat": 4,
 "nbformat_minor": 4
}
