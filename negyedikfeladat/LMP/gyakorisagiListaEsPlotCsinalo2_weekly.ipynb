{
 "cells": [
  {
   "cell_type": "code",
   "execution_count": 1,
   "metadata": {},
   "outputs": [],
   "source": [
    "clientName = 'LMP'"
   ]
  },
  {
   "cell_type": "code",
   "execution_count": 2,
   "metadata": {},
   "outputs": [],
   "source": [
    "import pandas as pd\n",
    "import glob\n",
    "import datetime\n",
    "import time\n",
    "import matplotlib.pyplot as plt"
   ]
  },
  {
   "cell_type": "code",
   "execution_count": 7,
   "metadata": {},
   "outputs": [],
   "source": [
    "def generateFreqRes(filesThatDate,date):\n",
    "#    print(date)\n",
    "    dfs = [pd.read_csv(file) for file in filesThatDate]\n",
    "    df = pd.concat([df[col] for df in dfs for col in df.columns if 'client' in col])\n",
    "    df_value_counts = df.value_counts()\n",
    "    df_value_counts.sort_values(ascending=True).to_csv(freqFilesPath+'weeklyfreqfile_'+str(date).split(' ')[0]+'.csv')\n",
    "    plot = pd.read_csv(freqFilesPath+'weeklyfreqfile_'+str(date).split(' ')[0]+'.csv',index_col=0).plot.barh(legend=False)\n",
    "    fig = plot.get_figure()\n",
    "    fig.savefig(freqFilesPath+'barplot_'+str(date).split(' ')[0]+'.png', bbox_inches='tight')\n",
    "    plt.close()"
   ]
  },
  {
   "cell_type": "code",
   "execution_count": 8,
   "metadata": {},
   "outputs": [],
   "source": [
    "def get_files_sorted_by_date_after_a_date(look_for_this_pattern,cutoffdate):\n",
    "    \n",
    "    csvs = glob.glob(look_for_this_pattern)\n",
    "    datetimes=[datetime.datetime(int(each.split('/')[-1][37:41]),\n",
    "                                 int(each.split('/')[-1][42:44]),\n",
    "                                 int(each.split('/')[-1][45:47]),\n",
    "                                 int(each.split('/')[-1][48:50]),\n",
    "                                 int(each.split('/')[-1][51:53])) for each in csvs]\n",
    "\n",
    "    dt_csvs_filtered=[[dt, csv] for dt, csv in zip(datetimes,csvs) if dt >= datetime.datetime(*cutoffdate)]\n",
    "    \n",
    "    sorted_filtered_csvs = [csv\n",
    "                        for _, csv in sorted(\n",
    "                                         zip([eachpair[0] for eachpair in dt_csvs_filtered],\n",
    "                                             [eachpair[1] for eachpair in dt_csvs_filtered]))]\n",
    "    \n",
    "    return sorted_filtered_csvs"
   ]
  },
  {
   "cell_type": "code",
   "execution_count": 9,
   "metadata": {},
   "outputs": [],
   "source": [
    "def getFilesOnGivenWeek(dayOfFirstDayOfWeek):\n",
    "    \n",
    "    sevenDayAfterDay = dayOfFirstDayOfWeek + datetime.timedelta(days=7)\n",
    "    \n",
    "    return list(\n",
    "    set(get_files_sorted_by_date_after_a_date(momFilesPathAndWildCard,[dayOfFirstDayOfWeek.year,\n",
    "                                                                       dayOfFirstDayOfWeek.month,\n",
    "                                                                       dayOfFirstDayOfWeek.day,0]))-\\\n",
    "    set(get_files_sorted_by_date_after_a_date(momFilesPathAndWildCard,[sevenDayAfterDay.year,\n",
    "                                                                       sevenDayAfterDay.month,\n",
    "                                                                       sevenDayAfterDay.day,0])))\n"
   ]
  },
  {
   "cell_type": "code",
   "execution_count": 10,
   "metadata": {},
   "outputs": [],
   "source": [
    "def doThisWhenNotEnoughFilesForWeek(sleepThisMuch=60*60,day=None):\n",
    "    print('Not enough files found. '+str(day)+' Sleeping '+str(sleepThisMuch/60)+' minutes.')\n",
    "    time.sleep(sleepThisMuch)"
   ]
  },
  {
   "cell_type": "code",
   "execution_count": 11,
   "metadata": {},
   "outputs": [],
   "source": [
    "def didMoreThanThisManySecondsElapsedSinceEndOfThatWeek(singleDate,seconds):\n",
    "    return (datetime.datetime.now() - (singleDate + datetime.timedelta(days=7))).total_seconds() > seconds"
   ]
  },
  {
   "cell_type": "code",
   "execution_count": 12,
   "metadata": {},
   "outputs": [],
   "source": [
    "freqFilesPath = '/mnt/volume/jupyter/szokereso/negyedikfeladat/'+clientName+'/szokeresores/weeklyfreqs/'\n",
    "momFilesPathAndWildCard  = '/mnt/volume/jupyter/szokereso/negyedikfeladat/'+clientName+'/szokeresores/clientreszurt/live_updated3_dict_only_1client_data_*_dfUnifiedNanFilteredOnlySomeColsUpdated3.csv'"
   ]
  },
  {
   "cell_type": "code",
   "execution_count": 13,
   "metadata": {},
   "outputs": [
    {
     "name": "stdout",
     "output_type": "stream",
     "text": [
      "2020-06-29 00:00:00\n",
      "2020-07-06 00:00:00\n",
      "2020-07-13 00:00:00\n"
     ]
    },
    {
     "name": "stderr",
     "output_type": "stream",
     "text": [
      "ERROR:root:Internal Python error in the inspect module.\n",
      "Below is the traceback from this internal error.\n",
      "\n"
     ]
    },
    {
     "name": "stdout",
     "output_type": "stream",
     "text": [
      "Traceback (most recent call last):\n",
      "  File \"/usr/local/lib/python3.6/dist-packages/IPython/core/interactiveshell.py\", line 3331, in run_code\n",
      "    exec(code_obj, self.user_global_ns, self.user_ns)\n",
      "  File \"<ipython-input-13-f7233b30bb85>\", line 10, in <module>\n",
      "    generateFreqRes(filesThatDate,single_date)\n",
      "  File \"<ipython-input-7-7e38831cb6a1>\", line 3, in generateFreqRes\n",
      "    dfs = [pd.read_csv(file) for file in filesThatDate]\n",
      "  File \"<ipython-input-7-7e38831cb6a1>\", line 3, in <listcomp>\n",
      "    dfs = [pd.read_csv(file) for file in filesThatDate]\n",
      "  File \"/mnt/volume/jupyter/.local/lib/python3.6/site-packages/pandas/io/parsers.py\", line 676, in parser_f\n",
      "    return _read(filepath_or_buffer, kwds)\n",
      "  File \"/mnt/volume/jupyter/.local/lib/python3.6/site-packages/pandas/io/parsers.py\", line 454, in _read\n",
      "    data = parser.read(nrows)\n",
      "  File \"/mnt/volume/jupyter/.local/lib/python3.6/site-packages/pandas/io/parsers.py\", line 1133, in read\n",
      "    ret = self._engine.read(nrows)\n",
      "  File \"/mnt/volume/jupyter/.local/lib/python3.6/site-packages/pandas/io/parsers.py\", line 2037, in read\n",
      "    data = self._reader.read(nrows)\n",
      "  File \"pandas/_libs/parsers.pyx\", line 860, in pandas._libs.parsers.TextReader.read\n",
      "  File \"pandas/_libs/parsers.pyx\", line 875, in pandas._libs.parsers.TextReader._read_low_memory\n",
      "  File \"pandas/_libs/parsers.pyx\", line 952, in pandas._libs.parsers.TextReader._read_rows\n",
      "  File \"pandas/_libs/parsers.pyx\", line 1084, in pandas._libs.parsers.TextReader._convert_column_data\n",
      "  File \"pandas/_libs/parsers.pyx\", line 1130, in pandas._libs.parsers.TextReader._convert_tokens\n",
      "  File \"pandas/_libs/parsers.pyx\", line 1173, in pandas._libs.parsers.TextReader._convert_with_dtype\n",
      "  File \"/mnt/volume/jupyter/.local/lib/python3.6/site-packages/pandas/core/dtypes/common.py\", line 542, in is_categorical_dtype\n",
      "    def is_categorical_dtype(arr_or_dtype) -> bool:\n",
      "KeyboardInterrupt\n",
      "\n",
      "During handling of the above exception, another exception occurred:\n",
      "\n",
      "Traceback (most recent call last):\n",
      "  File \"/usr/local/lib/python3.6/dist-packages/IPython/core/interactiveshell.py\", line 2044, in showtraceback\n",
      "    stb = value._render_traceback_()\n",
      "AttributeError: 'KeyboardInterrupt' object has no attribute '_render_traceback_'\n",
      "\n",
      "During handling of the above exception, another exception occurred:\n",
      "\n",
      "Traceback (most recent call last):\n",
      "  File \"/usr/local/lib/python3.6/dist-packages/IPython/core/ultratb.py\", line 1148, in get_records\n",
      "    return _fixed_getinnerframes(etb, number_of_lines_of_context, tb_offset)\n",
      "  File \"/usr/local/lib/python3.6/dist-packages/IPython/core/ultratb.py\", line 316, in wrapped\n",
      "    return f(*args, **kwargs)\n",
      "  File \"/usr/local/lib/python3.6/dist-packages/IPython/core/ultratb.py\", line 350, in _fixed_getinnerframes\n",
      "    records = fix_frame_records_filenames(inspect.getinnerframes(etb, context))\n",
      "  File \"/usr/lib/python3.6/inspect.py\", line 1490, in getinnerframes\n",
      "    frameinfo = (tb.tb_frame,) + getframeinfo(tb, context)\n",
      "  File \"/usr/lib/python3.6/inspect.py\", line 1452, in getframeinfo\n",
      "    lines, lnum = findsource(frame)\n",
      "  File \"/usr/local/lib/python3.6/dist-packages/IPython/core/ultratb.py\", line 182, in findsource\n",
      "    lines = linecache.getlines(file, globals_dict)\n",
      "  File \"/usr/lib/python3.6/linecache.py\", line 47, in getlines\n",
      "    return updatecache(filename, module_globals)\n",
      "  File \"/usr/lib/python3.6/linecache.py\", line 136, in updatecache\n",
      "    with tokenize.open(fullname) as fp:\n",
      "  File \"/usr/lib/python3.6/tokenize.py\", line 454, in open\n",
      "    encoding, lines = detect_encoding(buffer.readline)\n",
      "  File \"/usr/lib/python3.6/tokenize.py\", line 423, in detect_encoding\n",
      "    first = read_or_stop()\n",
      "  File \"/usr/lib/python3.6/tokenize.py\", line 381, in read_or_stop\n",
      "    return readline()\n",
      "KeyboardInterrupt\n"
     ]
    },
    {
     "ename": "KeyboardInterrupt",
     "evalue": "",
     "output_type": "error",
     "traceback": [
      "\u001b[0;31m---------------------------------------------------------------------------\u001b[0m"
     ]
    }
   ],
   "source": [
    "start_date = datetime.datetime(2020,6,29)\n",
    "week_count = 100\n",
    "\n",
    "for single_date in (start_date + datetime.timedelta(7*n) for n in range(week_count)):\n",
    "    while True:\n",
    "        filesThatDate = getFilesOnGivenWeek(single_date)\n",
    "        if len(filesThatDate) < 12*7 and not didMoreThanThisManySecondsElapsedSinceEndOfThatWeek(single_date, 600):\n",
    "            doThisWhenNotEnoughFilesForWeek(sleepThisMuch=120*60,day=single_date)\n",
    "        else:\n",
    "            generateFreqRes(filesThatDate,single_date)\n",
    "            print(single_date)\n",
    "            break\n"
   ]
  },
  {
   "cell_type": "code",
   "execution_count": null,
   "metadata": {},
   "outputs": [],
   "source": []
  }
 ],
 "metadata": {
  "kernelspec": {
   "display_name": "Python 3",
   "language": "python",
   "name": "python3"
  },
  "language_info": {
   "codemirror_mode": {
    "name": "ipython",
    "version": 3
   },
   "file_extension": ".py",
   "mimetype": "text/x-python",
   "name": "python",
   "nbconvert_exporter": "python",
   "pygments_lexer": "ipython3",
   "version": "3.6.9"
  }
 },
 "nbformat": 4,
 "nbformat_minor": 4
}
