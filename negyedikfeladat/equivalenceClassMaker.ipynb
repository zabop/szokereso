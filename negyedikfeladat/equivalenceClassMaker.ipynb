{
 "cells": [
  {
   "cell_type": "code",
   "execution_count": 7,
   "metadata": {},
   "outputs": [],
   "source": [
    "import pandas as pd"
   ]
  },
  {
   "cell_type": "code",
   "execution_count": 8,
   "metadata": {},
   "outputs": [],
   "source": [
    "xl = pd.ExcelFile('/mnt/volume/jupyter/szokereso/vip_szotar_1.2.xlsx')"
   ]
  },
  {
   "cell_type": "code",
   "execution_count": 12,
   "metadata": {},
   "outputs": [],
   "source": [
    "dfs = {sheetname:\n",
    "       xl.parse(sheetname,header=None)\n",
    "       for sheetname in xl.sheet_names\n",
    "       if 'Momentum' not in sheetname}"
   ]
  },
  {
   "cell_type": "code",
   "execution_count": 13,
   "metadata": {},
   "outputs": [
    {
     "data": {
      "text/plain": [
       "dict_keys(['Fidesz', 'KDNP', 'DK', 'MSZP', 'Jobbik', 'Párbeszéd', 'LMP', 'MiHazánk', 'Főváros'])"
      ]
     },
     "execution_count": 13,
     "metadata": {},
     "output_type": "execute_result"
    }
   ],
   "source": [
    "dfs.keys()"
   ]
  },
  {
   "cell_type": "code",
   "execution_count": 27,
   "metadata": {},
   "outputs": [],
   "source": [
    "equivalenceClasses = {row[1][0]: list(row[1]) for row in dfs['Párbeszéd'].iterrows() for alias in row[1]}"
   ]
  },
  {
   "cell_type": "code",
   "execution_count": 29,
   "metadata": {},
   "outputs": [
    {
     "data": {
      "text/plain": [
       "{'PM': ['PM', 'Párbeszéd', 'Párbeszéd Magyarországért Mozgalom'],\n",
       " 'Mellár Tamás': ['Mellár Tamás', 'Mellár', nan],\n",
       " 'Burány Sándor': ['Burány Sándor', nan, nan],\n",
       " 'Szabó Tímea': ['Szabó Tímea', nan, nan],\n",
       " 'Kocsis-Cake Olivio': ['Kocsis-Cake Olivio', 'Kocsis-Cake', nan],\n",
       " 'Tordai Bence': ['Tordai Bence', 'Tordai', nan]}"
      ]
     },
     "execution_count": 29,
     "metadata": {},
     "output_type": "execute_result"
    }
   ],
   "source": [
    "equivalenceClasses"
   ]
  },
  {
   "cell_type": "code",
   "execution_count": null,
   "metadata": {},
   "outputs": [],
   "source": []
  }
 ],
 "metadata": {
  "kernelspec": {
   "display_name": "Python 3",
   "language": "python",
   "name": "python3"
  },
  "language_info": {
   "codemirror_mode": {
    "name": "ipython",
    "version": 3
   },
   "file_extension": ".py",
   "mimetype": "text/x-python",
   "name": "python",
   "nbconvert_exporter": "python",
   "pygments_lexer": "ipython3",
   "version": "3.6.9"
  }
 },
 "nbformat": 4,
 "nbformat_minor": 4
}
