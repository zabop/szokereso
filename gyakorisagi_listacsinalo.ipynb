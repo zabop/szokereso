{
 "cells": [
  {
   "cell_type": "code",
   "execution_count": 11,
   "metadata": {},
   "outputs": [],
   "source": [
    "import pandas as pd\n",
    "import glob\n",
    "from tqdm import tqdm\n",
    "tqdm.pandas()"
   ]
  },
  {
   "cell_type": "code",
   "execution_count": 12,
   "metadata": {},
   "outputs": [],
   "source": [
    "resfiles=glob.glob('resultfiles/*_szokereso_result.csv')\n",
    "dictstrings = ['person_data', 'wikilist','stanza','settlement_list']"
   ]
  },
  {
   "cell_type": "code",
   "execution_count": 13,
   "metadata": {},
   "outputs": [],
   "source": [
    "for resfile in resfiles:\n",
    "    for dictstring in dictstrings:\n",
    "        df=pd.read_csv(resfile)\n",
    "\n",
    "        freqs  =list(pd.concat([df[col] for col in df.columns if dictstring in col]).value_counts())\n",
    "        entries=list(pd.concat([df[col] for col in df.columns if dictstring in col]).value_counts().index)\n",
    "\n",
    "        #with open(resfile.split('.')[0]+'_'+dictstring+'_gyakorisagi_lista.txt', 'w') as f:\n",
    "        #    for entry, freq in zip(entries, freqs):\n",
    "        #        f.write(entry+' '+str(freq)+'\\n')"
   ]
  },
  {
   "cell_type": "code",
   "execution_count": 14,
   "metadata": {
    "collapsed": true
   },
   "outputs": [
    {
     "name": "stderr",
     "output_type": "stream",
     "text": [
      "Downloading https://raw.githubusercontent.com/stanfordnlp/stanza-resources/master/resources_1.0.0.json: 115kB [00:00, 26.0MB/s]                    \n",
      "2020-07-08 22:39:51 INFO: Downloading default packages for language: hu (Hungarian)...\n",
      "2020-07-08 22:39:52 INFO: File exists: /mnt/volume/jupyter/stanza_resources/hu/default.zip.\n",
      "2020-07-08 22:39:56 INFO: Finished downloading models and saved to /mnt/volume/jupyter/stanza_resources.\n",
      "2020-07-08 22:39:56 INFO: Loading these models for language: hu (Hungarian):\n",
      "=======================\n",
      "| Processor | Package |\n",
      "-----------------------\n",
      "| tokenize  | szeged  |\n",
      "| pos       | szeged  |\n",
      "| lemma     | szeged  |\n",
      "| depparse  | szeged  |\n",
      "=======================\n",
      "\n",
      "2020-07-08 22:39:56 INFO: Use device: cpu\n",
      "2020-07-08 22:39:56 INFO: Loading: tokenize\n",
      "2020-07-08 22:39:56 INFO: Loading: pos\n",
      "2020-07-08 22:39:57 INFO: Loading: lemma\n",
      "2020-07-08 22:39:57 INFO: Loading: depparse\n",
      "2020-07-08 22:39:59 INFO: Done loading processors!\n"
     ]
    }
   ],
   "source": [
    "import stanza\n",
    "stanza.download('hu')\n",
    "nlp = stanza.Pipeline('hu')"
   ]
  },
  {
   "cell_type": "code",
   "execution_count": 17,
   "metadata": {},
   "outputs": [],
   "source": [
    "stanzacols=[col for col in df.columns if 'stanza' in col]"
   ]
  },
  {
   "cell_type": "code",
   "execution_count": 18,
   "metadata": {},
   "outputs": [],
   "source": [
    "def lemmatize(text):\n",
    "    if type(text) is float: return text\n",
    "    doc=nlp(text)\n",
    "    return ' '.join([word.lemma for word in doc.sentences[0].words])"
   ]
  },
  {
   "cell_type": "code",
   "execution_count": 20,
   "metadata": {},
   "outputs": [
    {
     "name": "stderr",
     "output_type": "stream",
     "text": [
      "100%|██████████| 3720/3720 [23:59<00:00,  2.58it/s]\n",
      "100%|██████████| 3720/3720 [32:40<00:00,  1.90it/s]\n",
      "100%|██████████| 3720/3720 [30:28<00:00,  2.03it/s] \n",
      " 80%|████████  | 2992/3720 [18:31<08:08,  1.49it/s] IOPub message rate exceeded.\n",
      "The notebook server will temporarily stop sending output\n",
      "to the client in order to avoid crashing it.\n",
      "To change this limit, set the config variable\n",
      "`--NotebookApp.iopub_msg_rate_limit`.\n",
      "\n",
      "Current values:\n",
      "NotebookApp.iopub_msg_rate_limit=1000.0 (msgs/sec)\n",
      "NotebookApp.rate_limit_window=3.0 (secs)\n",
      "\n"
     ]
    }
   ],
   "source": [
    "for stanzacol in stanzacols:\n",
    "    df[stanzacol+'_lemmatized']=df[stanzacol].progress_apply(lemmatize)"
   ]
  },
  {
   "cell_type": "code",
   "execution_count": 7,
   "metadata": {},
   "outputs": [],
   "source": [
    "#dictcols=[col for col in df.columns if any([dictstring in col for dictstring in dictstrings])]\n",
    "#for dictcol in dictcols:\n",
    "#    df[dictcol+'_lemmatized']=df[dictcol].progress_apply(lemmatize)"
   ]
  }
 ],
 "metadata": {
  "kernelspec": {
   "display_name": "Python 3",
   "language": "python",
   "name": "python3"
  },
  "language_info": {
   "codemirror_mode": {
    "name": "ipython",
    "version": 3
   },
   "file_extension": ".py",
   "mimetype": "text/x-python",
   "name": "python",
   "nbconvert_exporter": "python",
   "pygments_lexer": "ipython3",
   "version": "3.6.9"
  }
 },
 "nbformat": 4,
 "nbformat_minor": 4
}
