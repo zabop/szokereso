{
 "cells": [
  {
   "cell_type": "code",
   "execution_count": 50,
   "metadata": {},
   "outputs": [],
   "source": [
    "import pandas as pd\n",
    "import numpy as np"
   ]
  },
  {
   "cell_type": "code",
   "execution_count": 36,
   "metadata": {},
   "outputs": [],
   "source": [
    "excelFile='/mnt/volume/jupyter/szokereso/vip_szotar_1.4.xlsx'"
   ]
  },
  {
   "cell_type": "code",
   "execution_count": 37,
   "metadata": {},
   "outputs": [],
   "source": [
    "xl = pd.ExcelFile(excelFile)\n",
    "sheetNames = [sheetName.strip() for sheetName in xl.sheet_names]\n",
    "dfs = {sheetname.strip():\n",
    "       xl.parse(sheetname,header=None)\n",
    "       for sheetname in xl.sheet_names}   "
   ]
  },
  {
   "cell_type": "code",
   "execution_count": 60,
   "metadata": {},
   "outputs": [],
   "source": [
    "newDfs=\\\n",
    "{key:pd.concat([dfs[key],pd.DataFrame(dfs[key].apply(lambda r:\n",
    "                         pd.Series(name.replace('Dr. ','') for name in r if 'Dr. ' in repr(name)),\n",
    "                         axis=1),\n",
    "                         index=dfs[key].index)],\n",
    "                         axis=1)\\\n",
    "                         .apply(lambda x : (x[x.notnull()].values.tolist()+x[x.isnull()].values.tolist()),1) #https://stackoverflow.com/q/45970751/8565438\n",
    "                         for key in dfs.keys()}"
   ]
  },
  {
   "cell_type": "code",
   "execution_count": 61,
   "metadata": {},
   "outputs": [],
   "source": [
    "writer = pd.ExcelWriter('test_output.xlsx')\n",
    "for name, df in zip(newDfs.keys(),newDfs.values()):\n",
    "    df.to_excel(writer, name, index=False, header=False)\n",
    "writer.save()"
   ]
  },
  {
   "cell_type": "code",
   "execution_count": 62,
   "metadata": {},
   "outputs": [
    {
     "name": "stdout",
     "output_type": "stream",
     "text": [
      "/mnt/volume/jupyter/szokereso/negyedikfeladatUjraOt\r\n"
     ]
    }
   ],
   "source": [
    "!pwd"
   ]
  },
  {
   "cell_type": "code",
   "execution_count": null,
   "metadata": {},
   "outputs": [],
   "source": []
  }
 ],
 "metadata": {
  "kernelspec": {
   "display_name": "Python 3",
   "language": "python",
   "name": "python3"
  },
  "language_info": {
   "codemirror_mode": {
    "name": "ipython",
    "version": 3
   },
   "file_extension": ".py",
   "mimetype": "text/x-python",
   "name": "python",
   "nbconvert_exporter": "python",
   "pygments_lexer": "ipython3",
   "version": "3.6.9"
  }
 },
 "nbformat": 4,
 "nbformat_minor": 4
}
