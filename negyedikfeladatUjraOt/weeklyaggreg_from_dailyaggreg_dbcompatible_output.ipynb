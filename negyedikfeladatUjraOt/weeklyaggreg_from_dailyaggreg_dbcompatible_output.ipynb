{
 "cells": [
  {
   "cell_type": "code",
   "execution_count": 161,
   "metadata": {},
   "outputs": [],
   "source": [
    "import pandas as pd\n",
    "import glob\n",
    "import re\n",
    "import datetime\n",
    "import matplotlib.pyplot as plt\n",
    "import time\n",
    "from datetime import date, timedelta"
   ]
  },
  {
   "cell_type": "code",
   "execution_count": 162,
   "metadata": {},
   "outputs": [],
   "source": [
    "def weeknum(dayname):\n",
    "    if dayname == 'Monday':   return 0\n",
    "    if dayname == 'Tuesday':  return 1\n",
    "    if dayname == 'Wednesday':return 2\n",
    "    if dayname == 'Thursday': return 3\n",
    "    if dayname == 'Friday':   return 4\n",
    "    if dayname == 'Saturday': return 5\n",
    "    if dayname == 'Sunday':   return 6"
   ]
  },
  {
   "cell_type": "code",
   "execution_count": 163,
   "metadata": {},
   "outputs": [],
   "source": [
    "def alldays(year, whichDayYouWant):\n",
    "    d = date(year, 1, 1)\n",
    "    d += timedelta(days = (weeknum(whichDayYouWant) - d.weekday()) % 7)\n",
    "    while d.year == year:\n",
    "        yield d\n",
    "        d += timedelta(days = 7)"
   ]
  },
  {
   "cell_type": "code",
   "execution_count": 164,
   "metadata": {},
   "outputs": [],
   "source": [
    "def weeknumber(year, month, day, weekstartsonthisday):\n",
    "    specificdays = [d for d in alldays(year, weekstartsonthisday)]\n",
    "    return len([specificday for specificday in specificdays if specificday <= datetime.date(year,month,day)])"
   ]
  },
  {
   "cell_type": "code",
   "execution_count": 155,
   "metadata": {},
   "outputs": [],
   "source": [
    "dailyaggregfiles = glob.glob('*/szokeresores/dailyfreqs/*csv')\n",
    "df = pd.DataFrame(dailyaggregfiles,columns=['dailyaggregfiles'])"
   ]
  },
  {
   "cell_type": "code",
   "execution_count": 156,
   "metadata": {},
   "outputs": [],
   "source": [
    "df['client']         = df.apply(lambda r:r['dailyaggregfiles'].split('/')[0],axis=1)\n",
    "df['dt']             = df.apply(lambda r:datetime.datetime(*[int(e) for e in re.findall(r'\\d+',r['dailyaggregfiles'])]),axis=1)\n",
    "df['yearWeekFridayThursday'] = df['dt'].apply(\n",
    "                                lambda r: '_'.join([str(r.year),\n",
    "                                                    str(weeknumber(r.year,r.month,r.day,'Friday'))]))\n",
    "df['yearWeekFridayThursdayClient'] = df.apply(\n",
    "                                lambda r: r['yearWeekFridayThursday']+'_'+r['client'],axis=1)\n",
    "df.drop(columns=['client','dt','yearWeekFridayThursday'],inplace=True);"
   ]
  },
  {
   "cell_type": "code",
   "execution_count": 157,
   "metadata": {},
   "outputs": [],
   "source": [
    "gb = df.groupby('yearWeekFridayThursdayClient')\n",
    "dfsByWeekByClient = {group:gb.get_group(group) for group in gb.groups}"
   ]
  },
  {
   "cell_type": "code",
   "execution_count": 166,
   "metadata": {},
   "outputs": [],
   "source": [
    "weeklyAggregDfByWeekByClient = {key:pd.concat(pd.read_csv(each) for each in value['dailyaggregfiles'])\\\n",
    "                                    .groupby('PLACEHOLDER1')\\\n",
    "                                    .sum()\\\n",
    "                                    .sort_values(by='PLACEHOLDER2')\\\n",
    "                                    .reset_index()\n",
    "                               for key, value in zip(dfsByWeekByClient.keys(), dfsByWeekByClient.values())}"
   ]
  },
  {
   "cell_type": "code",
   "execution_count": 167,
   "metadata": {},
   "outputs": [],
   "source": [
    "def writeOutAndPlot(dfdict, key, debugmode=True):\n",
    "    dfdict[key].plot.barh(x='PLACEHOLDER1',y='PLACEHOLDER2',legend=False)\n",
    "    plt.xlabel('mentions')\n",
    "    plt.ylabel('who');\n",
    "    plt.tight_layout()\n",
    "    print((lambda key: key.split('_')[-1]+'/szokeresores/weeklyfreqs/'+'_'.join(key.split('_')[:2])+'.png')(key))\n",
    "    if not debugmode:\n",
    "        plt.savefig((lambda key: key.split('_')[-1]+'/szokeresores/weeklyfreqs/'+'_'.join(key.split('_')[:2])+'_FridayThursday.png')(key))\n",
    "        dfdict[key].to_csv(\n",
    "            (lambda key: key.split('_')[-1]+'/szokeresores/weeklyfreqs/'+'_'.join(key.split('_')[:2])+'_FridayThursday.csv')(key),\n",
    "            index=False)\n",
    "    plt.close()"
   ]
  },
  {
   "cell_type": "code",
   "execution_count": null,
   "metadata": {},
   "outputs": [],
   "source": [
    "while True:\n",
    "    yr,week,hour=datetime.datetime.now().isocalendar()[0],datetime.datetime.now().isocalendar()[1],datetime.datetime.now().hour\n",
    "    for key in weeklyAggregDfByWeekByClient.keys():\n",
    "        if key.split('_')[0] != yr and key.split('_')[1] != week and not hour < 3:\n",
    "            writeOutAndPlot(weeklyAggregDfByWeekByClient, key, debugmode=False)\n",
    "            print('hw')\n",
    "            #break#deletewhenrunlive\n",
    "    #break#deletewhenrunlive\n",
    "    time.sleep(3*60*60)"
   ]
  },
  {
   "cell_type": "code",
   "execution_count": null,
   "metadata": {},
   "outputs": [],
   "source": []
  }
 ],
 "metadata": {
  "kernelspec": {
   "display_name": "Python 3",
   "language": "python",
   "name": "python3"
  },
  "language_info": {
   "codemirror_mode": {
    "name": "ipython",
    "version": 3
   },
   "file_extension": ".py",
   "mimetype": "text/x-python",
   "name": "python",
   "nbconvert_exporter": "python",
   "pygments_lexer": "ipython3",
   "version": "3.6.9"
  }
 },
 "nbformat": 4,
 "nbformat_minor": 4
}
