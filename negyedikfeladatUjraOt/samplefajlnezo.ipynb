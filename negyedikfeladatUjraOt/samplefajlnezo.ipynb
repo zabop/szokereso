{
 "cells": [
  {
   "cell_type": "code",
   "execution_count": 2,
   "metadata": {},
   "outputs": [],
   "source": [
    "import pandas as pd\n",
    "import glob"
   ]
  },
  {
   "cell_type": "code",
   "execution_count": 3,
   "metadata": {},
   "outputs": [
    {
     "data": {
      "text/plain": [
       "['/mnt/volume/pals/temp/temp.zip/sample_clientdict_2.csv',\n",
       " '/mnt/volume/pals/temp/temp.zip/sample_clientdict.csv',\n",
       " '/mnt/volume/pals/temp/temp.zip/sample_dailyfreqfile.csv',\n",
       " '/mnt/volume/pals/temp/temp.zip/sample_momentumdict.csv',\n",
       " '/mnt/volume/pals/temp/temp.zip/sample_weeklyfreqfile.csv']"
      ]
     },
     "execution_count": 3,
     "metadata": {},
     "output_type": "execute_result"
    }
   ],
   "source": [
    "glob.glob('/mnt/volume/pals/temp/temp.zip/sample*')"
   ]
  },
  {
   "cell_type": "code",
   "execution_count": 20,
   "metadata": {},
   "outputs": [
    {
     "data": {
      "text/plain": [
       "['../negyedikfeladatUjraNegy/LMP/szokeresores/clientreszurt/live_data_2020-08-12_08:01:04_szurt.csv']"
      ]
     },
     "execution_count": 20,
     "metadata": {},
     "output_type": "execute_result"
    }
   ],
   "source": [
    "glob.glob('../negyedikfeladatUjraNegy/LMP/szokeresores/clientreszurt/live_data_2020-08-12_08*')"
   ]
  },
  {
   "cell_type": "code",
   "execution_count": 50,
   "metadata": {},
   "outputs": [
    {
     "name": "stdout",
     "output_type": "stream",
     "text": [
      "/mnt/volume/jupyter/szokereso/negyedikfeladatUjraOt\r\n"
     ]
    }
   ],
   "source": [
    "!pwd"
   ]
  },
  {
   "cell_type": "code",
   "execution_count": 51,
   "metadata": {
    "scrolled": true
   },
   "outputs": [
    {
     "data": {
      "text/plain": [
       "Index(['PLACEHOLDER1', 'PLACEHOLDER2'], dtype='object')"
      ]
     },
     "execution_count": 51,
     "metadata": {},
     "output_type": "execute_result"
    }
   ],
   "source": [
    "pd.read_csv('/mnt/volume/pals/temp/temp.zip/sample_weeklyfreqfile.csv').columns"
   ]
  },
  {
   "cell_type": "code",
   "execution_count": 32,
   "metadata": {
    "scrolled": true
   },
   "outputs": [
    {
     "data": {
      "text/plain": [
       "Index(['TITLE', 'URL', 'AGEGROUP', 'OWNTIME', 'SCRAPETIME', 'TEXT', 'AUTHOR',\n",
       "       'OUTLET', 'TOP1', 'TOP2', 'TOP4', 'TOP8', 'TOP12', 'TOP24', 'TOP48',\n",
       "       'clientdict0', 'clientdict1', 'clientdict2', 'clientdict3',\n",
       "       'clientdict4', 'clientdict5', 'clientdict6', 'clientdict7',\n",
       "       'clientdict8', 'clientdict9'],\n",
       "      dtype='object')"
      ]
     },
     "execution_count": 32,
     "metadata": {},
     "output_type": "execute_result"
    }
   ],
   "source": [
    "pd.read_csv('/mnt/volume/pals/temp/temp.zip/sample_clientdict_2.csv').columns"
   ]
  },
  {
   "cell_type": "code",
   "execution_count": 40,
   "metadata": {},
   "outputs": [
    {
     "data": {
      "text/plain": [
       "0       900\n",
       "1       900\n",
       "2       900\n",
       "3       900\n",
       "4       900\n",
       "       ... \n",
       "3555    NaN\n",
       "3556    900\n",
       "3557    900\n",
       "3558    900\n",
       "3559    900\n",
       "Name: AUTHOR, Length: 3560, dtype: object"
      ]
     },
     "execution_count": 40,
     "metadata": {},
     "output_type": "execute_result"
    }
   ],
   "source": [
    "pd.read_csv('/mnt/volume/pals/temp/temp.zip/sample_clientdict.csv')['AUTHOR']"
   ]
  },
  {
   "cell_type": "code",
   "execution_count": 43,
   "metadata": {},
   "outputs": [
    {
     "data": {
      "text/plain": [
       "set()"
      ]
     },
     "execution_count": 43,
     "metadata": {},
     "output_type": "execute_result"
    }
   ],
   "source": [
    "set(pd.read_csv(glob.glob('*/szokeresores/clientreszurt/*')[1]).columns)-\\\n",
    "set(pd.read_csv('/mnt/volume/pals/temp/temp.zip/sample_clientdict_2.csv').columns)"
   ]
  },
  {
   "cell_type": "code",
   "execution_count": 44,
   "metadata": {},
   "outputs": [
    {
     "data": {
      "text/html": [
       "<div>\n",
       "<style scoped>\n",
       "    .dataframe tbody tr th:only-of-type {\n",
       "        vertical-align: middle;\n",
       "    }\n",
       "\n",
       "    .dataframe tbody tr th {\n",
       "        vertical-align: top;\n",
       "    }\n",
       "\n",
       "    .dataframe thead th {\n",
       "        text-align: right;\n",
       "    }\n",
       "</style>\n",
       "<table border=\"1\" class=\"dataframe\">\n",
       "  <thead>\n",
       "    <tr style=\"text-align: right;\">\n",
       "      <th></th>\n",
       "      <th>PLACEHOLDER1</th>\n",
       "      <th>PLACEHOLDER2</th>\n",
       "    </tr>\n",
       "  </thead>\n",
       "  <tbody>\n",
       "    <tr>\n",
       "      <th>0</th>\n",
       "      <td>Tordai Bence</td>\n",
       "      <td>11</td>\n",
       "    </tr>\n",
       "    <tr>\n",
       "      <th>1</th>\n",
       "      <td>Szabó Tímea</td>\n",
       "      <td>22</td>\n",
       "    </tr>\n",
       "    <tr>\n",
       "      <th>2</th>\n",
       "      <td>Tordai</td>\n",
       "      <td>22</td>\n",
       "    </tr>\n",
       "    <tr>\n",
       "      <th>3</th>\n",
       "      <td>Kocsis-Cake Olivio</td>\n",
       "      <td>22</td>\n",
       "    </tr>\n",
       "    <tr>\n",
       "      <th>4</th>\n",
       "      <td>Kocsis-Cake</td>\n",
       "      <td>27</td>\n",
       "    </tr>\n",
       "    <tr>\n",
       "      <th>5</th>\n",
       "      <td>Mellár</td>\n",
       "      <td>33</td>\n",
       "    </tr>\n",
       "    <tr>\n",
       "      <th>6</th>\n",
       "      <td>Mellár Tamás</td>\n",
       "      <td>33</td>\n",
       "    </tr>\n",
       "    <tr>\n",
       "      <th>7</th>\n",
       "      <td>Párbeszéd</td>\n",
       "      <td>561</td>\n",
       "    </tr>\n",
       "    <tr>\n",
       "      <th>8</th>\n",
       "      <td>PM</td>\n",
       "      <td>943</td>\n",
       "    </tr>\n",
       "  </tbody>\n",
       "</table>\n",
       "</div>"
      ],
      "text/plain": [
       "         PLACEHOLDER1  PLACEHOLDER2\n",
       "0        Tordai Bence            11\n",
       "1         Szabó Tímea            22\n",
       "2              Tordai            22\n",
       "3  Kocsis-Cake Olivio            22\n",
       "4         Kocsis-Cake            27\n",
       "5              Mellár            33\n",
       "6        Mellár Tamás            33\n",
       "7           Párbeszéd           561\n",
       "8                  PM           943"
      ]
     },
     "execution_count": 44,
     "metadata": {},
     "output_type": "execute_result"
    }
   ],
   "source": [
    "pd.read_csv('/mnt/volume/pals/temp/temp.zip/sample_dailyfreqfile.csv')"
   ]
  },
  {
   "cell_type": "code",
   "execution_count": 47,
   "metadata": {},
   "outputs": [
    {
     "data": {
      "text/plain": [
       "['Fidesz/szokeresores/dailyfreqs/barplot_2020-07-03.png',\n",
       " 'Fidesz/szokeresores/dailyfreqs/dailyfreqfile_2020-07-03.csv',\n",
       " 'Fidesz/szokeresores/dailyfreqs/dailyfreqfile_2020-07-01.csv',\n",
       " 'Fidesz/szokeresores/dailyfreqs/barplot_2020-07-04.png',\n",
       " 'Fidesz/szokeresores/dailyfreqs/barplot_2020-07-06.png',\n",
       " 'Fidesz/szokeresores/dailyfreqs/dailyfreqfile_2020-07-05.csv',\n",
       " 'Fidesz/szokeresores/dailyfreqs/dailyfreqfile_2020-07-04.csv',\n",
       " 'Fidesz/szokeresores/dailyfreqs/dailyfreqfile_2020-07-06.csv',\n",
       " 'Fidesz/szokeresores/dailyfreqs/barplot_2020-07-02.png',\n",
       " 'Fidesz/szokeresores/dailyfreqs/barplot_2020-07-01.png',\n",
       " 'Fidesz/szokeresores/dailyfreqs/dailyfreqfile_2020-07-02.csv',\n",
       " 'Fidesz/szokeresores/dailyfreqs/barplot_2020-07-05.png']"
      ]
     },
     "execution_count": 47,
     "metadata": {},
     "output_type": "execute_result"
    }
   ],
   "source": [
    "glob.glob('Fidesz/szokeresores/dailyfreqs/*')"
   ]
  },
  {
   "cell_type": "code",
   "execution_count": 48,
   "metadata": {},
   "outputs": [
    {
     "data": {
      "text/html": [
       "<div>\n",
       "<style scoped>\n",
       "    .dataframe tbody tr th:only-of-type {\n",
       "        vertical-align: middle;\n",
       "    }\n",
       "\n",
       "    .dataframe tbody tr th {\n",
       "        vertical-align: top;\n",
       "    }\n",
       "\n",
       "    .dataframe thead th {\n",
       "        text-align: right;\n",
       "    }\n",
       "</style>\n",
       "<table border=\"1\" class=\"dataframe\">\n",
       "  <thead>\n",
       "    <tr style=\"text-align: right;\">\n",
       "      <th></th>\n",
       "      <th>PLACEHOLDER1</th>\n",
       "      <th>PLACEHOLDER2</th>\n",
       "    </tr>\n",
       "  </thead>\n",
       "  <tbody>\n",
       "    <tr>\n",
       "      <th>0</th>\n",
       "      <td>Farkas Flórián</td>\n",
       "      <td>1</td>\n",
       "    </tr>\n",
       "    <tr>\n",
       "      <th>1</th>\n",
       "      <td>Gyürk András</td>\n",
       "      <td>7</td>\n",
       "    </tr>\n",
       "    <tr>\n",
       "      <th>2</th>\n",
       "      <td>Szájer József</td>\n",
       "      <td>8</td>\n",
       "    </tr>\n",
       "    <tr>\n",
       "      <th>3</th>\n",
       "      <td>Hoffmann Rózsa</td>\n",
       "      <td>16</td>\n",
       "    </tr>\n",
       "    <tr>\n",
       "      <th>4</th>\n",
       "      <td>Révész Máriusz</td>\n",
       "      <td>21</td>\n",
       "    </tr>\n",
       "    <tr>\n",
       "      <th>5</th>\n",
       "      <td>Járóka Lívia</td>\n",
       "      <td>22</td>\n",
       "    </tr>\n",
       "    <tr>\n",
       "      <th>6</th>\n",
       "      <td>Németh Szilárd</td>\n",
       "      <td>24</td>\n",
       "    </tr>\n",
       "    <tr>\n",
       "      <th>7</th>\n",
       "      <td>Kovács Zoltán</td>\n",
       "      <td>27</td>\n",
       "    </tr>\n",
       "    <tr>\n",
       "      <th>8</th>\n",
       "      <td>Szentkirályi Alexandra</td>\n",
       "      <td>28</td>\n",
       "    </tr>\n",
       "    <tr>\n",
       "      <th>9</th>\n",
       "      <td>Selmeczi Gabriella</td>\n",
       "      <td>33</td>\n",
       "    </tr>\n",
       "    <tr>\n",
       "      <th>10</th>\n",
       "      <td>Kocsis Máté</td>\n",
       "      <td>35</td>\n",
       "    </tr>\n",
       "    <tr>\n",
       "      <th>11</th>\n",
       "      <td>Kubatov Gábor</td>\n",
       "      <td>37</td>\n",
       "    </tr>\n",
       "    <tr>\n",
       "      <th>12</th>\n",
       "      <td>Rétvári Bence</td>\n",
       "      <td>39</td>\n",
       "    </tr>\n",
       "    <tr>\n",
       "      <th>13</th>\n",
       "      <td>Kövér László</td>\n",
       "      <td>45</td>\n",
       "    </tr>\n",
       "    <tr>\n",
       "      <th>14</th>\n",
       "      <td>Pintér Sándor</td>\n",
       "      <td>54</td>\n",
       "    </tr>\n",
       "    <tr>\n",
       "      <th>15</th>\n",
       "      <td>Lázár János</td>\n",
       "      <td>56</td>\n",
       "    </tr>\n",
       "    <tr>\n",
       "      <th>16</th>\n",
       "      <td>Kósa Lajos</td>\n",
       "      <td>73</td>\n",
       "    </tr>\n",
       "    <tr>\n",
       "      <th>17</th>\n",
       "      <td>Varga Judit</td>\n",
       "      <td>86</td>\n",
       "    </tr>\n",
       "    <tr>\n",
       "      <th>18</th>\n",
       "      <td>Rogán Antal</td>\n",
       "      <td>88</td>\n",
       "    </tr>\n",
       "    <tr>\n",
       "      <th>19</th>\n",
       "      <td>Novák Katalin</td>\n",
       "      <td>135</td>\n",
       "    </tr>\n",
       "    <tr>\n",
       "      <th>20</th>\n",
       "      <td>Deutsch Tamás</td>\n",
       "      <td>142</td>\n",
       "    </tr>\n",
       "    <tr>\n",
       "      <th>21</th>\n",
       "      <td>Tállai András</td>\n",
       "      <td>168</td>\n",
       "    </tr>\n",
       "    <tr>\n",
       "      <th>22</th>\n",
       "      <td>Áder János</td>\n",
       "      <td>182</td>\n",
       "    </tr>\n",
       "    <tr>\n",
       "      <th>23</th>\n",
       "      <td>Palkovics László</td>\n",
       "      <td>200</td>\n",
       "    </tr>\n",
       "    <tr>\n",
       "      <th>24</th>\n",
       "      <td>Gulyás Gergely</td>\n",
       "      <td>230</td>\n",
       "    </tr>\n",
       "    <tr>\n",
       "      <th>25</th>\n",
       "      <td>Deli Andor</td>\n",
       "      <td>277</td>\n",
       "    </tr>\n",
       "    <tr>\n",
       "      <th>26</th>\n",
       "      <td>Kásler Miklós</td>\n",
       "      <td>374</td>\n",
       "    </tr>\n",
       "    <tr>\n",
       "      <th>27</th>\n",
       "      <td>Varga Mihály</td>\n",
       "      <td>445</td>\n",
       "    </tr>\n",
       "    <tr>\n",
       "      <th>28</th>\n",
       "      <td>Szijjártó Péter</td>\n",
       "      <td>654</td>\n",
       "    </tr>\n",
       "    <tr>\n",
       "      <th>29</th>\n",
       "      <td>Fidesz</td>\n",
       "      <td>2352</td>\n",
       "    </tr>\n",
       "    <tr>\n",
       "      <th>30</th>\n",
       "      <td>Orbán Viktor</td>\n",
       "      <td>2878</td>\n",
       "    </tr>\n",
       "  </tbody>\n",
       "</table>\n",
       "</div>"
      ],
      "text/plain": [
       "              PLACEHOLDER1  PLACEHOLDER2\n",
       "0           Farkas Flórián             1\n",
       "1             Gyürk András             7\n",
       "2            Szájer József             8\n",
       "3           Hoffmann Rózsa            16\n",
       "4           Révész Máriusz            21\n",
       "5             Járóka Lívia            22\n",
       "6           Németh Szilárd            24\n",
       "7            Kovács Zoltán            27\n",
       "8   Szentkirályi Alexandra            28\n",
       "9       Selmeczi Gabriella            33\n",
       "10             Kocsis Máté            35\n",
       "11           Kubatov Gábor            37\n",
       "12           Rétvári Bence            39\n",
       "13            Kövér László            45\n",
       "14           Pintér Sándor            54\n",
       "15             Lázár János            56\n",
       "16              Kósa Lajos            73\n",
       "17             Varga Judit            86\n",
       "18             Rogán Antal            88\n",
       "19           Novák Katalin           135\n",
       "20           Deutsch Tamás           142\n",
       "21           Tállai András           168\n",
       "22              Áder János           182\n",
       "23        Palkovics László           200\n",
       "24          Gulyás Gergely           230\n",
       "25              Deli Andor           277\n",
       "26           Kásler Miklós           374\n",
       "27            Varga Mihály           445\n",
       "28         Szijjártó Péter           654\n",
       "29                  Fidesz          2352\n",
       "30            Orbán Viktor          2878"
      ]
     },
     "execution_count": 48,
     "metadata": {},
     "output_type": "execute_result"
    }
   ],
   "source": [
    "pd.read_csv('Fidesz/szokeresores/dailyfreqs/dailyfreqfile_2020-07-06.csv')"
   ]
  },
  {
   "cell_type": "code",
   "execution_count": null,
   "metadata": {},
   "outputs": [],
   "source": []
  }
 ],
 "metadata": {
  "kernelspec": {
   "display_name": "Python 3",
   "language": "python",
   "name": "python3"
  },
  "language_info": {
   "codemirror_mode": {
    "name": "ipython",
    "version": 3
   },
   "file_extension": ".py",
   "mimetype": "text/x-python",
   "name": "python",
   "nbconvert_exporter": "python",
   "pygments_lexer": "ipython3",
   "version": "3.6.9"
  }
 },
 "nbformat": 4,
 "nbformat_minor": 4
}
