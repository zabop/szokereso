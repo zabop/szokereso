{
 "cells": [
  {
   "cell_type": "code",
   "execution_count": 4,
   "metadata": {},
   "outputs": [],
   "source": [
    "import glob\n",
    "import datetime\n",
    "import glob\n",
    "import stanza\n",
    "import pandas as pd\n",
    "import time\n",
    "import sys"
   ]
  },
  {
   "cell_type": "code",
   "execution_count": 29,
   "metadata": {},
   "outputs": [],
   "source": [
    "def getOutputFiles(path='resultfiles/onlymomentum/kulonmappa/live_updated3_dict_onlymomentum_*2020-07*_dfUnifiedNanFilteredOnlySomeColsUpdated3.csv'):\n",
    "    outputFiles = glob.glob(path)\n",
    "    return outputFiles"
   ]
  },
  {
   "cell_type": "code",
   "execution_count": 6,
   "metadata": {},
   "outputs": [],
   "source": [
    "kezidict = set([\n",
    "'Fekete-Győr András',\n",
    "'Borbélyné Bárdi Zsuzsanna',\n",
    "'Hajnal Miklós',\n",
    "'Körömi Attila',\n",
    "'Mándi László',\n",
    "'Orosz Anna',\n",
    "'Tóth Endre',\n",
    "'Cseh Katalin',\n",
    "'Donáth Anna Júlia',\n",
    "'Soproni Tamás',\n",
    "'Déri Tibor',\n",
    "'Orosz Anna',\n",
    "'Nyirati Klára',\n",
    "'Pikó András',\n",
    "'Balogh Csaba',\n",
    "'Kerpel-Fronius Gábor',\n",
    "'Momentum',\n",
    "'momentum',\n",
    "'Fekete-Győr'\n",
    "'Fekete Győr',\n",
    "'Donáth Anna'\n",
    "'Donáth',\n",
    "'Nyirati',\n",
    "'Pikó',\n",
    "'Kerpel-Fronius',\n",
    "'Mándi',\n",
    "'Körömi',\n",
    "'Kádár Barnabás',\n",
    "'Hadházy',\n",
    "'Hadházy Ákos'\n",
    "'Szél Bernadett',\n",
    "])"
   ]
  },
  {
   "cell_type": "code",
   "execution_count": 7,
   "metadata": {},
   "outputs": [],
   "source": [
    "momentum_searchlist = [[each] for each in list(kezidict)]"
   ]
  },
  {
   "cell_type": "code",
   "execution_count": 8,
   "metadata": {},
   "outputs": [],
   "source": [
    "def filetime(file):\n",
    "    year=file.split('/')[-1][5:9]\n",
    "    month=file.split('/')[-1][10:12]\n",
    "    day=file.split('/')[-1][13:15]\n",
    "    hour=file.split('/')[-1][16:18]\n",
    "    return [int(each) for each in [year, month, day, hour]]"
   ]
  },
  {
   "cell_type": "code",
   "execution_count": 9,
   "metadata": {},
   "outputs": [],
   "source": [
    "def onlywithneighbours(ofthislist):\n",
    "    try:\n",
    "        filtered = [each for each in ofthislist \n",
    "                    if each+1 in ofthislist or each-1 in ofthislist]\n",
    "    except TypeError:\n",
    "        filtered = [each for each in ofthislist \n",
    "                    if str(int(each)+1) in ofthislist or str(int(each)-1) in ofthislist]\n",
    "    return filtered"
   ]
  },
  {
   "cell_type": "code",
   "execution_count": 10,
   "metadata": {},
   "outputs": [],
   "source": [
    "def split_into_numerical_sequences(inlist):\n",
    "\n",
    "    inlist=sorted(inlist)\n",
    "\n",
    "    breakindeces=[i for i,j in enumerate(inlist)\n",
    "                    if (j+1 not in inlist and j in inlist)]\n",
    "\n",
    "    sublists=[]\n",
    "    for index, each in enumerate(breakindeces):\n",
    "        if index==0:\n",
    "            sublists.append([x for x in inlist\n",
    "                               if x<=inlist[each]])\n",
    "        if index!=0:\n",
    "            sublists.append([x for x in inlist\n",
    "                               if x<=inlist[each] and x>inlist[breakindeces[index-1]]])\n",
    "\n",
    "    return sublists"
   ]
  },
  {
   "cell_type": "code",
   "execution_count": 11,
   "metadata": {},
   "outputs": [],
   "source": [
    "def validalias(alias):\n",
    "    return True\n",
    "   # if len(str(alias).strip()) > 5 and len(str(alias).strip().split(' ')) > 1: return True\n",
    "   # else: return False"
   ]
  },
  {
   "cell_type": "code",
   "execution_count": 12,
   "metadata": {},
   "outputs": [],
   "source": [
    "def matchfinder(text,searchforthese):\n",
    "    matches=[alias\n",
    "             for persondata_searchtarget in searchforthese\n",
    "             for alias in persondata_searchtarget\n",
    "             if validalias(alias) and alias.lower() in str(text).lower()]\n",
    "    return matches"
   ]
  },
  {
   "cell_type": "code",
   "execution_count": 13,
   "metadata": {},
   "outputs": [],
   "source": [
    "def fillextracols(whichdictionary, whichrowtofill, withthislist, unlessitslongerthanthis):\n",
    "    if not len(withthislist) > unlessitslongerthanthis and len(withthislist)>0:\n",
    "        for i, e in enumerate(withthislist):\n",
    "            targetdf.loc[whichrowtofill,whichdictionary+str(i)]=e"
   ]
  },
  {
   "cell_type": "code",
   "execution_count": 14,
   "metadata": {},
   "outputs": [],
   "source": [
    "def prepare_extra_columns(num_of_columns_for_each_dict):\n",
    "    for each in num_of_columns_for_each_dict:\n",
    "        for index in range(num_of_columns_for_each_dict[each]):\n",
    "            targetdf[each + str(index)]=''"
   ]
  },
  {
   "cell_type": "code",
   "execution_count": 15,
   "metadata": {},
   "outputs": [],
   "source": [
    "class dictionary_class:\n",
    "    def __init__(self, name, maxcolnum, searchlist=None, geo=False):\n",
    "        self.name = name\n",
    "        self.maxcolnum = maxcolnum\n",
    "        self.searchlist = searchlist\n",
    "        self.geo = geo"
   ]
  },
  {
   "cell_type": "code",
   "execution_count": 16,
   "metadata": {},
   "outputs": [],
   "source": [
    "dictionaries=[\n",
    "dictionary_class('momentumdict',\n",
    "           10,\n",
    "           momentum_searchlist)]"
   ]
  },
  {
   "cell_type": "code",
   "execution_count": 17,
   "metadata": {},
   "outputs": [],
   "source": [
    "def get_files_sorted_by_date_after_a_date(look_for_this_pattern,cutoffdate):\n",
    "    \n",
    "    csvs = glob.glob(look_for_this_pattern)\n",
    "    datetimes=[datetime.datetime(int(each.split('/')[-1][5:9]),\n",
    "                             int(each.split('/')[-1][10:12]),\n",
    "                             int(each.split('/')[-1][13:15]),\n",
    "                             int(each.split('/')[-1][16:18]),\n",
    "                             int(each.split('/')[-1][19:21]),\n",
    "                             int(each.split('/')[-1][22:24])) for each in csvs]\n",
    "\n",
    "    dt_csvs_filtered=[[dt, csv] for dt, csv in zip(datetimes,csvs) if dt > datetime.datetime(*cutoffdate)]\n",
    "    \n",
    "    sorted_filtered_csvs = [csv\n",
    "                        for _, csv in sorted(\n",
    "                                         zip([eachpair[0] for eachpair in dt_csvs_filtered],\n",
    "                                             [eachpair[1] for eachpair in dt_csvs_filtered]))]\n",
    "    \n",
    "    return sorted_filtered_csvs"
   ]
  },
  {
   "cell_type": "code",
   "execution_count": 28,
   "metadata": {},
   "outputs": [
    {
     "name": "stdout",
     "output_type": "stream",
     "text": [
      "###\n",
      "12\n",
      "###\n",
      "processing: /mnt/volume/anagy/mediascraper/mediaScraper/output/data_2020-07-01_22:01:12.csv\n",
      "0\n",
      "1000\n",
      "2000\n",
      "3000\n",
      "--- 1.0318076610565186 seconds ---\n",
      "/mnt/volume/anagy/mediascraper/mediaScraper/output/data_2020-07-01_22:01:12.csv\n",
      "###\n",
      "13\n",
      "###\n",
      "processing: /mnt/volume/anagy/mediascraper/mediaScraper/output/data_2020-07-02_00:00:39.csv\n",
      "0\n",
      "1000\n",
      "2000\n",
      "3000\n",
      "--- 1.0594203472137451 seconds ---\n",
      "/mnt/volume/anagy/mediascraper/mediaScraper/output/data_2020-07-02_00:00:39.csv\n",
      "###\n",
      "14\n",
      "###\n",
      "processing: /mnt/volume/anagy/mediascraper/mediaScraper/output/data_2020-07-02_02:00:27.csv\n",
      "0\n",
      "1000\n",
      "2000\n",
      "3000\n",
      "--- 1.072563648223877 seconds ---\n",
      "/mnt/volume/anagy/mediascraper/mediaScraper/output/data_2020-07-02_02:00:27.csv\n",
      "###\n",
      "15\n",
      "###\n",
      "processing: /mnt/volume/anagy/mediascraper/mediaScraper/output/data_2020-07-02_04:00:27.csv\n",
      "0\n",
      "1000\n",
      "2000\n",
      "3000\n",
      "--- 1.0637438297271729 seconds ---\n",
      "/mnt/volume/anagy/mediascraper/mediaScraper/output/data_2020-07-02_04:00:27.csv\n",
      "###\n",
      "16\n",
      "###\n",
      "processing: /mnt/volume/anagy/mediascraper/mediaScraper/output/data_2020-07-02_06:00:33.csv\n",
      "1000\n",
      "2000\n",
      "3000\n",
      "--- 1.0636937618255615 seconds ---\n",
      "/mnt/volume/anagy/mediascraper/mediaScraper/output/data_2020-07-02_06:00:33.csv\n",
      "###\n",
      "17\n",
      "###\n",
      "processing: /mnt/volume/anagy/mediascraper/mediaScraper/output/data_2020-07-02_08:01:26.csv\n",
      "0\n",
      "1000\n",
      "2000\n",
      "3000\n",
      "--- 1.1360957622528076 seconds ---\n",
      "/mnt/volume/anagy/mediascraper/mediaScraper/output/data_2020-07-02_08:01:26.csv\n"
     ]
    },
    {
     "ename": "KeyboardInterrupt",
     "evalue": "",
     "output_type": "error",
     "traceback": [
      "\u001b[0;31m---------------------------------------------------------------------------\u001b[0m",
      "\u001b[0;31mKeyboardInterrupt\u001b[0m                         Traceback (most recent call last)",
      "\u001b[0;32m<ipython-input-28-20ce785b50b7>\u001b[0m in \u001b[0;36m<module>\u001b[0;34m\u001b[0m\n\u001b[1;32m      9\u001b[0m \u001b[0;34m\u001b[0m\u001b[0m\n\u001b[1;32m     10\u001b[0m     todofilesWithoutOutput = [todofile\n\u001b[0;32m---> 11\u001b[0;31m                              \u001b[0;32mfor\u001b[0m \u001b[0mitodofile\u001b[0m\u001b[0;34m,\u001b[0m \u001b[0mtodofile\u001b[0m \u001b[0;32min\u001b[0m \u001b[0menumerate\u001b[0m\u001b[0;34m(\u001b[0m\u001b[0mtodofiles\u001b[0m\u001b[0;34m)\u001b[0m\u001b[0;34m\u001b[0m\u001b[0;34m\u001b[0m\u001b[0m\n\u001b[0m\u001b[1;32m     12\u001b[0m                              if not any(\n\u001b[1;32m     13\u001b[0m                              [todofile.split('/')[-1].split('.')[0] in szokeresoOutput for szokeresoOutput in getOutputFiles()])]\n",
      "\u001b[0;32m<ipython-input-28-20ce785b50b7>\u001b[0m in \u001b[0;36m<listcomp>\u001b[0;34m(.0)\u001b[0m\n\u001b[1;32m     11\u001b[0m                              \u001b[0;32mfor\u001b[0m \u001b[0mitodofile\u001b[0m\u001b[0;34m,\u001b[0m \u001b[0mtodofile\u001b[0m \u001b[0;32min\u001b[0m \u001b[0menumerate\u001b[0m\u001b[0;34m(\u001b[0m\u001b[0mtodofiles\u001b[0m\u001b[0;34m)\u001b[0m\u001b[0;34m\u001b[0m\u001b[0;34m\u001b[0m\u001b[0m\n\u001b[1;32m     12\u001b[0m                              if not any(\n\u001b[0;32m---> 13\u001b[0;31m                              [todofile.split('/')[-1].split('.')[0] in szokeresoOutput for szokeresoOutput in getOutputFiles()])]\n\u001b[0m\u001b[1;32m     14\u001b[0m \u001b[0;34m\u001b[0m\u001b[0m\n\u001b[1;32m     15\u001b[0m     \u001b[0mprint\u001b[0m\u001b[0;34m(\u001b[0m\u001b[0;34m'###'\u001b[0m\u001b[0;34m)\u001b[0m\u001b[0;34m\u001b[0m\u001b[0;34m\u001b[0m\u001b[0m\n",
      "\u001b[0;32m<ipython-input-5-5f4f9f308735>\u001b[0m in \u001b[0;36mgetOutputFiles\u001b[0;34m(path)\u001b[0m\n\u001b[1;32m      1\u001b[0m \u001b[0;32mdef\u001b[0m \u001b[0mgetOutputFiles\u001b[0m\u001b[0;34m(\u001b[0m\u001b[0mpath\u001b[0m\u001b[0;34m=\u001b[0m\u001b[0;34m'resultfiles/onlymomentum/live_updated3_dict_onlymomentum_*2020-07*_dfUnifiedNanFilteredOnlySomeColsUpdated3.csv'\u001b[0m\u001b[0;34m)\u001b[0m\u001b[0;34m:\u001b[0m\u001b[0;34m\u001b[0m\u001b[0;34m\u001b[0m\u001b[0m\n\u001b[0;32m----> 2\u001b[0;31m     \u001b[0moutputFiles\u001b[0m \u001b[0;34m=\u001b[0m \u001b[0mglob\u001b[0m\u001b[0;34m.\u001b[0m\u001b[0mglob\u001b[0m\u001b[0;34m(\u001b[0m\u001b[0mpath\u001b[0m\u001b[0;34m)\u001b[0m\u001b[0;34m\u001b[0m\u001b[0;34m\u001b[0m\u001b[0m\n\u001b[0m\u001b[1;32m      3\u001b[0m     \u001b[0;32mreturn\u001b[0m \u001b[0moutputFiles\u001b[0m\u001b[0;34m\u001b[0m\u001b[0;34m\u001b[0m\u001b[0m\n",
      "\u001b[0;32m/usr/lib/python3.6/glob.py\u001b[0m in \u001b[0;36mglob\u001b[0;34m(pathname, recursive)\u001b[0m\n\u001b[1;32m     18\u001b[0m     \u001b[0mzero\u001b[0m \u001b[0;32mor\u001b[0m \u001b[0mmore\u001b[0m \u001b[0mdirectories\u001b[0m \u001b[0;32mand\u001b[0m \u001b[0msubdirectories\u001b[0m\u001b[0;34m.\u001b[0m\u001b[0;34m\u001b[0m\u001b[0;34m\u001b[0m\u001b[0m\n\u001b[1;32m     19\u001b[0m     \"\"\"\n\u001b[0;32m---> 20\u001b[0;31m     \u001b[0;32mreturn\u001b[0m \u001b[0mlist\u001b[0m\u001b[0;34m(\u001b[0m\u001b[0miglob\u001b[0m\u001b[0;34m(\u001b[0m\u001b[0mpathname\u001b[0m\u001b[0;34m,\u001b[0m \u001b[0mrecursive\u001b[0m\u001b[0;34m=\u001b[0m\u001b[0mrecursive\u001b[0m\u001b[0;34m)\u001b[0m\u001b[0;34m)\u001b[0m\u001b[0;34m\u001b[0m\u001b[0;34m\u001b[0m\u001b[0m\n\u001b[0m\u001b[1;32m     21\u001b[0m \u001b[0;34m\u001b[0m\u001b[0m\n\u001b[1;32m     22\u001b[0m \u001b[0;32mdef\u001b[0m \u001b[0miglob\u001b[0m\u001b[0;34m(\u001b[0m\u001b[0mpathname\u001b[0m\u001b[0;34m,\u001b[0m \u001b[0;34m*\u001b[0m\u001b[0;34m,\u001b[0m \u001b[0mrecursive\u001b[0m\u001b[0;34m=\u001b[0m\u001b[0;32mFalse\u001b[0m\u001b[0;34m)\u001b[0m\u001b[0;34m:\u001b[0m\u001b[0;34m\u001b[0m\u001b[0;34m\u001b[0m\u001b[0m\n",
      "\u001b[0;32m/usr/lib/python3.6/glob.py\u001b[0m in \u001b[0;36m_iglob\u001b[0;34m(pathname, recursive, dironly)\u001b[0m\n\u001b[1;32m     70\u001b[0m         \u001b[0mglob_in_dir\u001b[0m \u001b[0;34m=\u001b[0m \u001b[0m_glob0\u001b[0m\u001b[0;34m\u001b[0m\u001b[0;34m\u001b[0m\u001b[0m\n\u001b[1;32m     71\u001b[0m     \u001b[0;32mfor\u001b[0m \u001b[0mdirname\u001b[0m \u001b[0;32min\u001b[0m \u001b[0mdirs\u001b[0m\u001b[0;34m:\u001b[0m\u001b[0;34m\u001b[0m\u001b[0;34m\u001b[0m\u001b[0m\n\u001b[0;32m---> 72\u001b[0;31m         \u001b[0;32mfor\u001b[0m \u001b[0mname\u001b[0m \u001b[0;32min\u001b[0m \u001b[0mglob_in_dir\u001b[0m\u001b[0;34m(\u001b[0m\u001b[0mdirname\u001b[0m\u001b[0;34m,\u001b[0m \u001b[0mbasename\u001b[0m\u001b[0;34m,\u001b[0m \u001b[0mdironly\u001b[0m\u001b[0;34m)\u001b[0m\u001b[0;34m:\u001b[0m\u001b[0;34m\u001b[0m\u001b[0;34m\u001b[0m\u001b[0m\n\u001b[0m\u001b[1;32m     73\u001b[0m             \u001b[0;32myield\u001b[0m \u001b[0mos\u001b[0m\u001b[0;34m.\u001b[0m\u001b[0mpath\u001b[0m\u001b[0;34m.\u001b[0m\u001b[0mjoin\u001b[0m\u001b[0;34m(\u001b[0m\u001b[0mdirname\u001b[0m\u001b[0;34m,\u001b[0m \u001b[0mname\u001b[0m\u001b[0;34m)\u001b[0m\u001b[0;34m\u001b[0m\u001b[0;34m\u001b[0m\u001b[0m\n\u001b[1;32m     74\u001b[0m \u001b[0;34m\u001b[0m\u001b[0m\n",
      "\u001b[0;32m/usr/lib/python3.6/glob.py\u001b[0m in \u001b[0;36m_glob1\u001b[0;34m(dirname, pattern, dironly)\u001b[0m\n\u001b[1;32m     78\u001b[0m \u001b[0;34m\u001b[0m\u001b[0m\n\u001b[1;32m     79\u001b[0m \u001b[0;32mdef\u001b[0m \u001b[0m_glob1\u001b[0m\u001b[0;34m(\u001b[0m\u001b[0mdirname\u001b[0m\u001b[0;34m,\u001b[0m \u001b[0mpattern\u001b[0m\u001b[0;34m,\u001b[0m \u001b[0mdironly\u001b[0m\u001b[0;34m)\u001b[0m\u001b[0;34m:\u001b[0m\u001b[0;34m\u001b[0m\u001b[0;34m\u001b[0m\u001b[0m\n\u001b[0;32m---> 80\u001b[0;31m     \u001b[0mnames\u001b[0m \u001b[0;34m=\u001b[0m \u001b[0mlist\u001b[0m\u001b[0;34m(\u001b[0m\u001b[0m_iterdir\u001b[0m\u001b[0;34m(\u001b[0m\u001b[0mdirname\u001b[0m\u001b[0;34m,\u001b[0m \u001b[0mdironly\u001b[0m\u001b[0;34m)\u001b[0m\u001b[0;34m)\u001b[0m\u001b[0;34m\u001b[0m\u001b[0;34m\u001b[0m\u001b[0m\n\u001b[0m\u001b[1;32m     81\u001b[0m     \u001b[0;32mif\u001b[0m \u001b[0;32mnot\u001b[0m \u001b[0m_ishidden\u001b[0m\u001b[0;34m(\u001b[0m\u001b[0mpattern\u001b[0m\u001b[0;34m)\u001b[0m\u001b[0;34m:\u001b[0m\u001b[0;34m\u001b[0m\u001b[0;34m\u001b[0m\u001b[0m\n\u001b[1;32m     82\u001b[0m         \u001b[0mnames\u001b[0m \u001b[0;34m=\u001b[0m \u001b[0;34m(\u001b[0m\u001b[0mx\u001b[0m \u001b[0;32mfor\u001b[0m \u001b[0mx\u001b[0m \u001b[0;32min\u001b[0m \u001b[0mnames\u001b[0m \u001b[0;32mif\u001b[0m \u001b[0;32mnot\u001b[0m \u001b[0m_ishidden\u001b[0m\u001b[0;34m(\u001b[0m\u001b[0mx\u001b[0m\u001b[0;34m)\u001b[0m\u001b[0;34m)\u001b[0m\u001b[0;34m\u001b[0m\u001b[0;34m\u001b[0m\u001b[0m\n",
      "\u001b[0;32m/usr/lib/python3.6/glob.py\u001b[0m in \u001b[0;36m_iterdir\u001b[0;34m(dirname, dironly)\u001b[0m\n\u001b[1;32m    120\u001b[0m     \u001b[0;32mtry\u001b[0m\u001b[0;34m:\u001b[0m\u001b[0;34m\u001b[0m\u001b[0;34m\u001b[0m\u001b[0m\n\u001b[1;32m    121\u001b[0m         \u001b[0;32mwith\u001b[0m \u001b[0mos\u001b[0m\u001b[0;34m.\u001b[0m\u001b[0mscandir\u001b[0m\u001b[0;34m(\u001b[0m\u001b[0mdirname\u001b[0m\u001b[0;34m)\u001b[0m \u001b[0;32mas\u001b[0m \u001b[0mit\u001b[0m\u001b[0;34m:\u001b[0m\u001b[0;34m\u001b[0m\u001b[0;34m\u001b[0m\u001b[0m\n\u001b[0;32m--> 122\u001b[0;31m             \u001b[0;32mfor\u001b[0m \u001b[0mentry\u001b[0m \u001b[0;32min\u001b[0m \u001b[0mit\u001b[0m\u001b[0;34m:\u001b[0m\u001b[0;34m\u001b[0m\u001b[0;34m\u001b[0m\u001b[0m\n\u001b[0m\u001b[1;32m    123\u001b[0m                 \u001b[0;32mtry\u001b[0m\u001b[0;34m:\u001b[0m\u001b[0;34m\u001b[0m\u001b[0;34m\u001b[0m\u001b[0m\n\u001b[1;32m    124\u001b[0m                     \u001b[0;32mif\u001b[0m \u001b[0;32mnot\u001b[0m \u001b[0mdironly\u001b[0m \u001b[0;32mor\u001b[0m \u001b[0mentry\u001b[0m\u001b[0;34m.\u001b[0m\u001b[0mis_dir\u001b[0m\u001b[0;34m(\u001b[0m\u001b[0;34m)\u001b[0m\u001b[0;34m:\u001b[0m\u001b[0;34m\u001b[0m\u001b[0;34m\u001b[0m\u001b[0m\n",
      "\u001b[0;31mKeyboardInterrupt\u001b[0m: "
     ]
    }
   ],
   "source": [
    "debugmode = False\n",
    "wildcard = '/mnt/volume/anagy/mediascraper/mediaScraper/output/data*csv'\n",
    "\n",
    "while True:\n",
    "\n",
    "    todofiles=get_files_sorted_by_date_after_a_date('/mnt/volume/anagy/mediascraper/mediaScraper/output/data*csv',\n",
    "                                                   [2020,7,1,0])\n",
    "\n",
    "\n",
    "    todofilesWithoutOutput = [todofile\n",
    "                             for itodofile, todofile in enumerate(todofiles)\n",
    "                             if not any(\n",
    "                             [todofile.split('/')[-1].split('.')[0] in szokeresoOutput for szokeresoOutput in getOutputFiles()])]\n",
    "\n",
    "    print('###')\n",
    "    print(len(getOutputFiles()))\n",
    "    print('###')\n",
    "    \n",
    "    if len(todofilesWithoutOutput) == 0:\n",
    "        \n",
    "        print('No more files found to process. Sleeping 5 mins')\n",
    "        time.sleep(5*60)\n",
    "        continue\n",
    "\n",
    "#    while len(todofilesWithoutOutput) != 0:\n",
    "    print('processing: '+todofilesWithoutOutput[0])    \n",
    "\n",
    "    targetcsv=todofilesWithoutOutput[0]\n",
    "    try:\n",
    "        targetdf = pd.read_csv(targetcsv)\n",
    "\n",
    "        prepare_extra_columns({dictionary.name: dictionary.maxcolnum for dictionary in dictionaries})\n",
    "\n",
    "        cells = list(targetdf['TEXT'])\n",
    "\n",
    "        start_time = time.time()\n",
    "        for idictionary, dictionary in enumerate(dictionaries):\n",
    "            if idictionary==7 or not debugmode:\n",
    "            #if dictionary.name == 'instit_dict':\n",
    "                for icell, cell in enumerate(cells):\n",
    "                    if type(cell) is not float:\n",
    "                        if icell < 10 or not debugmode:\n",
    "                            if icell%1000==0: print(icell)\n",
    "                            if dictionary.searchlist is not None:\n",
    "                                fillextracols(dictionary.name,icell,matchfinder(cell,dictionary.searchlist),dictionary.maxcolnum)\n",
    "                                #print('hw')\n",
    "                            if dictionary.searchlist is None:\n",
    "                                fillextracols(dictionary.name,icell,stanzanamesearch(cell),dictionary.maxcolnum)\n",
    "        end_time = time.time()\n",
    "        print(\"--- %s seconds ---\" % (time.time() - start_time))\n",
    "        if not debugmode: targetdf.to_csv('/mnt/volume/jupyter/szokereso/resultfiles/onlymomentum/kulonmappa/live_updated3_dict_onlymomentum_'+targetcsv.split('/')[-1].split('.')[0]+'_szokereso_result.csv')\n",
    "        print(targetcsv)\n",
    "\n",
    "        df = pd.read_csv('/mnt/volume/jupyter/szokereso/resultfiles/onlymomentum/kulonmappa/live_updated3_dict_onlymomentum_'+targetcsv.split('/')[-1].split('.')[0]+'_szokereso_result.csv')\n",
    "        df = df[~df['momentumdict0'].isna()]\n",
    "        df[['DOC_ID','TITLE','SCRAPETIME','TEXT','momentumdict0', 'momentumdict1',\n",
    "            'momentumdict2', 'momentumdict3', 'momentumdict4', 'momentumdict5',\n",
    "            'momentumdict6', 'momentumdict7', 'momentumdict8', 'momentumdict9']].to_csv('/mnt/volume/jupyter/szokereso/resultfiles/onlymomentum/kulonmappa/live_updated3_dict_onlymomentum_'+targetcsv.split('/')[-1].split('.')[0]+'_dfUnifiedNanFilteredOnlySomeColsUpdated3.csv')\n",
    "\n",
    "    except KeyboardInterrupt:\n",
    "        print('KeyboardInterrupt')\n",
    "        break\n",
    "    except:\n",
    "        the_type, the_value, the_traceback = sys.exc_info()\n",
    "        outlist = [the_type, the_value, targetcsv, dictionary.name, icell]\n",
    "        if not debugmode:\n",
    "            with open('/mnt/volume/jupyter/szokereso/resultfiles/onlymomentum/kulonmappa/live_updated3_dict_onlymomentum_'+targetcsv.split('/')[-1].split('.')[0]+'_ERRORLOG.txt', 'w') as f:\n",
    "                for item in outlist:\n",
    "                    f.write(\"%s\\n\" % item)\n",
    "\n",
    "    #todofiles=get_files_sorted_by_date_after_a_date('/mnt/volume/anagy/mediascraper/mediaScraper/output/data*csv',\n",
    "    #                                                 filetime(todofiles[0])[:3]+[filetime(todofiles[0])[-1]+1]) # hour increased by 1\n",
    "\n"
   ]
  },
  {
   "cell_type": "code",
   "execution_count": null,
   "metadata": {},
   "outputs": [],
   "source": []
  },
  {
   "cell_type": "code",
   "execution_count": null,
   "metadata": {},
   "outputs": [],
   "source": []
  },
  {
   "cell_type": "code",
   "execution_count": null,
   "metadata": {},
   "outputs": [],
   "source": []
  },
  {
   "cell_type": "code",
   "execution_count": null,
   "metadata": {},
   "outputs": [],
   "source": []
  }
 ],
 "metadata": {
  "kernelspec": {
   "display_name": "Python 3",
   "language": "python",
   "name": "python3"
  },
  "language_info": {
   "codemirror_mode": {
    "name": "ipython",
    "version": 3
   },
   "file_extension": ".py",
   "mimetype": "text/x-python",
   "name": "python",
   "nbconvert_exporter": "python",
   "pygments_lexer": "ipython3",
   "version": "3.6.9"
  }
 },
 "nbformat": 4,
 "nbformat_minor": 4
}
