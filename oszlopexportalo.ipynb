{
 "cells": [
  {
   "cell_type": "code",
   "execution_count": 2,
   "metadata": {},
   "outputs": [],
   "source": [
    "import pandas as pd\n",
    "import glob"
   ]
  },
  {
   "cell_type": "code",
   "execution_count": 6,
   "metadata": {},
   "outputs": [],
   "source": [
    "resultfiles=glob.glob('resultfiles/*result*')"
   ]
  },
  {
   "cell_type": "code",
   "execution_count": 40,
   "metadata": {},
   "outputs": [],
   "source": [
    "for resultfile in resultfiles:\n",
    "\n",
    "    df=pd.read_csv(resultfile)\n",
    "    \n",
    "    colswewant = list(set(df.columns)-set(['Unnamed: 0', 'DOC_ID', 'TITLE', 'URL', 'AGEGROUP', 'OWNTIME',\n",
    "                                           'SCRAPETIME', 'TEXT', 'AUTHOR', 'OUTLET', 'TOP1', 'TOP2', 'TOP4',\n",
    "                                           'TOP8', 'TOP12', 'TOP24', 'TOP48']))\n",
    "\n",
    "    added_cells=[cell for column in colswewant for cell in df[column] if type(cell) is not float]\n",
    "\n",
    "    with open(resultfile.split('.')[0]+'_added_cells.txt', 'w') as f:\n",
    "        for item in added_cells:\n",
    "            f.write(\"%s\\n\" % item)"
   ]
  },
  {
   "cell_type": "code",
   "execution_count": null,
   "metadata": {},
   "outputs": [],
   "source": []
  }
 ],
 "metadata": {
  "kernelspec": {
   "display_name": "Python 3",
   "language": "python",
   "name": "python3"
  },
  "language_info": {
   "codemirror_mode": {
    "name": "ipython",
    "version": 3
   },
   "file_extension": ".py",
   "mimetype": "text/x-python",
   "name": "python",
   "nbconvert_exporter": "python",
   "pygments_lexer": "ipython3",
   "version": "3.6.9"
  }
 },
 "nbformat": 4,
 "nbformat_minor": 4
}
